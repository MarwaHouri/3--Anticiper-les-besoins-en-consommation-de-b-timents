{
 "cells": [
  {
   "cell_type": "code",
   "execution_count": 1,
   "id": "ac1ea8b6",
   "metadata": {},
   "outputs": [],
   "source": [
    "import pandas as pd\n",
    "import matplotlib.pyplot as plt\n",
    "\n",
    "import warnings\n",
    "warnings.filterwarnings(\"ignore\")"
   ]
  },
  {
   "cell_type": "code",
   "execution_count": 2,
   "id": "739b4570",
   "metadata": {},
   "outputs": [],
   "source": [
    "df=pd.read_csv('2016_Building_Energy_Benchmarking.csv', sep=',')"
   ]
  },
  {
   "cell_type": "markdown",
   "id": "c6f42ed6",
   "metadata": {},
   "source": [
    "# Description du dataset"
   ]
  },
  {
   "cell_type": "code",
   "execution_count": 3,
   "id": "f4fae509",
   "metadata": {},
   "outputs": [
    {
     "data": {
      "text/plain": [
       "(3376, 46)"
      ]
     },
     "execution_count": 3,
     "metadata": {},
     "output_type": "execute_result"
    }
   ],
   "source": [
    "df.shape"
   ]
  },
  {
   "cell_type": "code",
   "execution_count": 4,
   "id": "cd453a60",
   "metadata": {},
   "outputs": [
    {
     "name": "stdout",
     "output_type": "stream",
     "text": [
      "<class 'pandas.core.frame.DataFrame'>\n",
      "RangeIndex: 3376 entries, 0 to 3375\n",
      "Data columns (total 46 columns):\n",
      " #   Column                           Non-Null Count  Dtype  \n",
      "---  ------                           --------------  -----  \n",
      " 0   OSEBuildingID                    3376 non-null   int64  \n",
      " 1   DataYear                         3376 non-null   int64  \n",
      " 2   BuildingType                     3376 non-null   object \n",
      " 3   PrimaryPropertyType              3376 non-null   object \n",
      " 4   PropertyName                     3376 non-null   object \n",
      " 5   Address                          3376 non-null   object \n",
      " 6   City                             3376 non-null   object \n",
      " 7   State                            3376 non-null   object \n",
      " 8   ZipCode                          3360 non-null   float64\n",
      " 9   TaxParcelIdentificationNumber    3376 non-null   object \n",
      " 10  CouncilDistrictCode              3376 non-null   int64  \n",
      " 11  Neighborhood                     3376 non-null   object \n",
      " 12  Latitude                         3376 non-null   float64\n",
      " 13  Longitude                        3376 non-null   float64\n",
      " 14  YearBuilt                        3376 non-null   int64  \n",
      " 15  NumberofBuildings                3368 non-null   float64\n",
      " 16  NumberofFloors                   3376 non-null   int64  \n",
      " 17  PropertyGFATotal                 3376 non-null   int64  \n",
      " 18  PropertyGFAParking               3376 non-null   int64  \n",
      " 19  PropertyGFABuilding(s)           3376 non-null   int64  \n",
      " 20  ListOfAllPropertyUseTypes        3367 non-null   object \n",
      " 21  LargestPropertyUseType           3356 non-null   object \n",
      " 22  LargestPropertyUseTypeGFA        3356 non-null   float64\n",
      " 23  SecondLargestPropertyUseType     1679 non-null   object \n",
      " 24  SecondLargestPropertyUseTypeGFA  1679 non-null   float64\n",
      " 25  ThirdLargestPropertyUseType      596 non-null    object \n",
      " 26  ThirdLargestPropertyUseTypeGFA   596 non-null    float64\n",
      " 27  YearsENERGYSTARCertified         119 non-null    object \n",
      " 28  ENERGYSTARScore                  2533 non-null   float64\n",
      " 29  SiteEUI(kBtu/sf)                 3369 non-null   float64\n",
      " 30  SiteEUIWN(kBtu/sf)               3370 non-null   float64\n",
      " 31  SourceEUI(kBtu/sf)               3367 non-null   float64\n",
      " 32  SourceEUIWN(kBtu/sf)             3367 non-null   float64\n",
      " 33  SiteEnergyUse(kBtu)              3371 non-null   float64\n",
      " 34  SiteEnergyUseWN(kBtu)            3370 non-null   float64\n",
      " 35  SteamUse(kBtu)                   3367 non-null   float64\n",
      " 36  Electricity(kWh)                 3367 non-null   float64\n",
      " 37  Electricity(kBtu)                3367 non-null   float64\n",
      " 38  NaturalGas(therms)               3367 non-null   float64\n",
      " 39  NaturalGas(kBtu)                 3367 non-null   float64\n",
      " 40  DefaultData                      3376 non-null   bool   \n",
      " 41  Comments                         0 non-null      float64\n",
      " 42  ComplianceStatus                 3376 non-null   object \n",
      " 43  Outlier                          32 non-null     object \n",
      " 44  TotalGHGEmissions                3367 non-null   float64\n",
      " 45  GHGEmissionsIntensity            3367 non-null   float64\n",
      "dtypes: bool(1), float64(22), int64(8), object(15)\n",
      "memory usage: 1.2+ MB\n"
     ]
    }
   ],
   "source": [
    "df.info()"
   ]
  },
  {
   "cell_type": "code",
   "execution_count": 5,
   "id": "61ee5124",
   "metadata": {},
   "outputs": [
    {
     "data": {
      "text/html": [
       "<div>\n",
       "<style scoped>\n",
       "    .dataframe tbody tr th:only-of-type {\n",
       "        vertical-align: middle;\n",
       "    }\n",
       "\n",
       "    .dataframe tbody tr th {\n",
       "        vertical-align: top;\n",
       "    }\n",
       "\n",
       "    .dataframe thead th {\n",
       "        text-align: right;\n",
       "    }\n",
       "</style>\n",
       "<table border=\"1\" class=\"dataframe\">\n",
       "  <thead>\n",
       "    <tr style=\"text-align: right;\">\n",
       "      <th></th>\n",
       "      <th>OSEBuildingID</th>\n",
       "      <th>DataYear</th>\n",
       "      <th>BuildingType</th>\n",
       "      <th>PrimaryPropertyType</th>\n",
       "      <th>PropertyName</th>\n",
       "      <th>Address</th>\n",
       "      <th>City</th>\n",
       "      <th>State</th>\n",
       "      <th>ZipCode</th>\n",
       "      <th>TaxParcelIdentificationNumber</th>\n",
       "      <th>...</th>\n",
       "      <th>Electricity(kWh)</th>\n",
       "      <th>Electricity(kBtu)</th>\n",
       "      <th>NaturalGas(therms)</th>\n",
       "      <th>NaturalGas(kBtu)</th>\n",
       "      <th>DefaultData</th>\n",
       "      <th>Comments</th>\n",
       "      <th>ComplianceStatus</th>\n",
       "      <th>Outlier</th>\n",
       "      <th>TotalGHGEmissions</th>\n",
       "      <th>GHGEmissionsIntensity</th>\n",
       "    </tr>\n",
       "  </thead>\n",
       "  <tbody>\n",
       "    <tr>\n",
       "      <th>0</th>\n",
       "      <td>1</td>\n",
       "      <td>2016</td>\n",
       "      <td>NonResidential</td>\n",
       "      <td>Hotel</td>\n",
       "      <td>Mayflower park hotel</td>\n",
       "      <td>405 Olive way</td>\n",
       "      <td>Seattle</td>\n",
       "      <td>WA</td>\n",
       "      <td>98101.0</td>\n",
       "      <td>0659000030</td>\n",
       "      <td>...</td>\n",
       "      <td>1.156514e+06</td>\n",
       "      <td>3946027.0</td>\n",
       "      <td>12764.52930</td>\n",
       "      <td>1276453.0</td>\n",
       "      <td>False</td>\n",
       "      <td>NaN</td>\n",
       "      <td>Compliant</td>\n",
       "      <td>NaN</td>\n",
       "      <td>249.98</td>\n",
       "      <td>2.83</td>\n",
       "    </tr>\n",
       "    <tr>\n",
       "      <th>1</th>\n",
       "      <td>2</td>\n",
       "      <td>2016</td>\n",
       "      <td>NonResidential</td>\n",
       "      <td>Hotel</td>\n",
       "      <td>Paramount Hotel</td>\n",
       "      <td>724 Pine street</td>\n",
       "      <td>Seattle</td>\n",
       "      <td>WA</td>\n",
       "      <td>98101.0</td>\n",
       "      <td>0659000220</td>\n",
       "      <td>...</td>\n",
       "      <td>9.504252e+05</td>\n",
       "      <td>3242851.0</td>\n",
       "      <td>51450.81641</td>\n",
       "      <td>5145082.0</td>\n",
       "      <td>False</td>\n",
       "      <td>NaN</td>\n",
       "      <td>Compliant</td>\n",
       "      <td>NaN</td>\n",
       "      <td>295.86</td>\n",
       "      <td>2.86</td>\n",
       "    </tr>\n",
       "    <tr>\n",
       "      <th>2</th>\n",
       "      <td>3</td>\n",
       "      <td>2016</td>\n",
       "      <td>NonResidential</td>\n",
       "      <td>Hotel</td>\n",
       "      <td>5673-The Westin Seattle</td>\n",
       "      <td>1900 5th Avenue</td>\n",
       "      <td>Seattle</td>\n",
       "      <td>WA</td>\n",
       "      <td>98101.0</td>\n",
       "      <td>0659000475</td>\n",
       "      <td>...</td>\n",
       "      <td>1.451544e+07</td>\n",
       "      <td>49526664.0</td>\n",
       "      <td>14938.00000</td>\n",
       "      <td>1493800.0</td>\n",
       "      <td>False</td>\n",
       "      <td>NaN</td>\n",
       "      <td>Compliant</td>\n",
       "      <td>NaN</td>\n",
       "      <td>2089.28</td>\n",
       "      <td>2.19</td>\n",
       "    </tr>\n",
       "    <tr>\n",
       "      <th>3</th>\n",
       "      <td>5</td>\n",
       "      <td>2016</td>\n",
       "      <td>NonResidential</td>\n",
       "      <td>Hotel</td>\n",
       "      <td>HOTEL MAX</td>\n",
       "      <td>620 STEWART ST</td>\n",
       "      <td>Seattle</td>\n",
       "      <td>WA</td>\n",
       "      <td>98101.0</td>\n",
       "      <td>0659000640</td>\n",
       "      <td>...</td>\n",
       "      <td>8.115253e+05</td>\n",
       "      <td>2768924.0</td>\n",
       "      <td>18112.13086</td>\n",
       "      <td>1811213.0</td>\n",
       "      <td>False</td>\n",
       "      <td>NaN</td>\n",
       "      <td>Compliant</td>\n",
       "      <td>NaN</td>\n",
       "      <td>286.43</td>\n",
       "      <td>4.67</td>\n",
       "    </tr>\n",
       "    <tr>\n",
       "      <th>4</th>\n",
       "      <td>8</td>\n",
       "      <td>2016</td>\n",
       "      <td>NonResidential</td>\n",
       "      <td>Hotel</td>\n",
       "      <td>WARWICK SEATTLE HOTEL (ID8)</td>\n",
       "      <td>401 LENORA ST</td>\n",
       "      <td>Seattle</td>\n",
       "      <td>WA</td>\n",
       "      <td>98121.0</td>\n",
       "      <td>0659000970</td>\n",
       "      <td>...</td>\n",
       "      <td>1.573449e+06</td>\n",
       "      <td>5368607.0</td>\n",
       "      <td>88039.98438</td>\n",
       "      <td>8803998.0</td>\n",
       "      <td>False</td>\n",
       "      <td>NaN</td>\n",
       "      <td>Compliant</td>\n",
       "      <td>NaN</td>\n",
       "      <td>505.01</td>\n",
       "      <td>2.88</td>\n",
       "    </tr>\n",
       "  </tbody>\n",
       "</table>\n",
       "<p>5 rows × 46 columns</p>\n",
       "</div>"
      ],
      "text/plain": [
       "   OSEBuildingID  DataYear    BuildingType PrimaryPropertyType  \\\n",
       "0              1      2016  NonResidential               Hotel   \n",
       "1              2      2016  NonResidential               Hotel   \n",
       "2              3      2016  NonResidential               Hotel   \n",
       "3              5      2016  NonResidential               Hotel   \n",
       "4              8      2016  NonResidential               Hotel   \n",
       "\n",
       "                  PropertyName          Address     City State  ZipCode  \\\n",
       "0         Mayflower park hotel    405 Olive way  Seattle    WA  98101.0   \n",
       "1              Paramount Hotel  724 Pine street  Seattle    WA  98101.0   \n",
       "2      5673-The Westin Seattle  1900 5th Avenue  Seattle    WA  98101.0   \n",
       "3                    HOTEL MAX   620 STEWART ST  Seattle    WA  98101.0   \n",
       "4  WARWICK SEATTLE HOTEL (ID8)    401 LENORA ST  Seattle    WA  98121.0   \n",
       "\n",
       "  TaxParcelIdentificationNumber  ...  Electricity(kWh) Electricity(kBtu)  \\\n",
       "0                    0659000030  ...      1.156514e+06         3946027.0   \n",
       "1                    0659000220  ...      9.504252e+05         3242851.0   \n",
       "2                    0659000475  ...      1.451544e+07        49526664.0   \n",
       "3                    0659000640  ...      8.115253e+05         2768924.0   \n",
       "4                    0659000970  ...      1.573449e+06         5368607.0   \n",
       "\n",
       "   NaturalGas(therms)  NaturalGas(kBtu)  DefaultData  Comments  \\\n",
       "0         12764.52930         1276453.0        False       NaN   \n",
       "1         51450.81641         5145082.0        False       NaN   \n",
       "2         14938.00000         1493800.0        False       NaN   \n",
       "3         18112.13086         1811213.0        False       NaN   \n",
       "4         88039.98438         8803998.0        False       NaN   \n",
       "\n",
       "   ComplianceStatus  Outlier  TotalGHGEmissions  GHGEmissionsIntensity  \n",
       "0         Compliant      NaN             249.98                   2.83  \n",
       "1         Compliant      NaN             295.86                   2.86  \n",
       "2         Compliant      NaN            2089.28                   2.19  \n",
       "3         Compliant      NaN             286.43                   4.67  \n",
       "4         Compliant      NaN             505.01                   2.88  \n",
       "\n",
       "[5 rows x 46 columns]"
      ]
     },
     "execution_count": 5,
     "metadata": {},
     "output_type": "execute_result"
    }
   ],
   "source": [
    "df.head()"
   ]
  },
  {
   "cell_type": "code",
   "execution_count": 6,
   "id": "30b1fb54",
   "metadata": {},
   "outputs": [],
   "source": [
    "types=df.dtypes"
   ]
  },
  {
   "cell_type": "markdown",
   "id": "be52fa8f",
   "metadata": {},
   "source": [
    "## Exploration des variables de types objet"
   ]
  },
  {
   "cell_type": "code",
   "execution_count": 7,
   "id": "d5f1b738",
   "metadata": {},
   "outputs": [],
   "source": [
    "object_columns=types[types=='object'].index"
   ]
  },
  {
   "cell_type": "code",
   "execution_count": 8,
   "id": "1c712f83",
   "metadata": {},
   "outputs": [
    {
     "data": {
      "text/html": [
       "<div>\n",
       "<style scoped>\n",
       "    .dataframe tbody tr th:only-of-type {\n",
       "        vertical-align: middle;\n",
       "    }\n",
       "\n",
       "    .dataframe tbody tr th {\n",
       "        vertical-align: top;\n",
       "    }\n",
       "\n",
       "    .dataframe thead th {\n",
       "        text-align: right;\n",
       "    }\n",
       "</style>\n",
       "<table border=\"1\" class=\"dataframe\">\n",
       "  <thead>\n",
       "    <tr style=\"text-align: right;\">\n",
       "      <th></th>\n",
       "      <th>BuildingType</th>\n",
       "      <th>PrimaryPropertyType</th>\n",
       "      <th>PropertyName</th>\n",
       "      <th>Address</th>\n",
       "      <th>City</th>\n",
       "      <th>State</th>\n",
       "      <th>TaxParcelIdentificationNumber</th>\n",
       "      <th>Neighborhood</th>\n",
       "      <th>ListOfAllPropertyUseTypes</th>\n",
       "      <th>LargestPropertyUseType</th>\n",
       "      <th>SecondLargestPropertyUseType</th>\n",
       "      <th>ThirdLargestPropertyUseType</th>\n",
       "      <th>YearsENERGYSTARCertified</th>\n",
       "      <th>ComplianceStatus</th>\n",
       "      <th>Outlier</th>\n",
       "    </tr>\n",
       "  </thead>\n",
       "  <tbody>\n",
       "    <tr>\n",
       "      <th>0</th>\n",
       "      <td>NonResidential</td>\n",
       "      <td>Hotel</td>\n",
       "      <td>Mayflower park hotel</td>\n",
       "      <td>405 Olive way</td>\n",
       "      <td>Seattle</td>\n",
       "      <td>WA</td>\n",
       "      <td>0659000030</td>\n",
       "      <td>DOWNTOWN</td>\n",
       "      <td>Hotel</td>\n",
       "      <td>Hotel</td>\n",
       "      <td>NaN</td>\n",
       "      <td>NaN</td>\n",
       "      <td>NaN</td>\n",
       "      <td>Compliant</td>\n",
       "      <td>NaN</td>\n",
       "    </tr>\n",
       "    <tr>\n",
       "      <th>1</th>\n",
       "      <td>NonResidential</td>\n",
       "      <td>Hotel</td>\n",
       "      <td>Paramount Hotel</td>\n",
       "      <td>724 Pine street</td>\n",
       "      <td>Seattle</td>\n",
       "      <td>WA</td>\n",
       "      <td>0659000220</td>\n",
       "      <td>DOWNTOWN</td>\n",
       "      <td>Hotel, Parking, Restaurant</td>\n",
       "      <td>Hotel</td>\n",
       "      <td>Parking</td>\n",
       "      <td>Restaurant</td>\n",
       "      <td>NaN</td>\n",
       "      <td>Compliant</td>\n",
       "      <td>NaN</td>\n",
       "    </tr>\n",
       "    <tr>\n",
       "      <th>2</th>\n",
       "      <td>NonResidential</td>\n",
       "      <td>Hotel</td>\n",
       "      <td>5673-The Westin Seattle</td>\n",
       "      <td>1900 5th Avenue</td>\n",
       "      <td>Seattle</td>\n",
       "      <td>WA</td>\n",
       "      <td>0659000475</td>\n",
       "      <td>DOWNTOWN</td>\n",
       "      <td>Hotel</td>\n",
       "      <td>Hotel</td>\n",
       "      <td>NaN</td>\n",
       "      <td>NaN</td>\n",
       "      <td>NaN</td>\n",
       "      <td>Compliant</td>\n",
       "      <td>NaN</td>\n",
       "    </tr>\n",
       "    <tr>\n",
       "      <th>3</th>\n",
       "      <td>NonResidential</td>\n",
       "      <td>Hotel</td>\n",
       "      <td>HOTEL MAX</td>\n",
       "      <td>620 STEWART ST</td>\n",
       "      <td>Seattle</td>\n",
       "      <td>WA</td>\n",
       "      <td>0659000640</td>\n",
       "      <td>DOWNTOWN</td>\n",
       "      <td>Hotel</td>\n",
       "      <td>Hotel</td>\n",
       "      <td>NaN</td>\n",
       "      <td>NaN</td>\n",
       "      <td>NaN</td>\n",
       "      <td>Compliant</td>\n",
       "      <td>NaN</td>\n",
       "    </tr>\n",
       "    <tr>\n",
       "      <th>4</th>\n",
       "      <td>NonResidential</td>\n",
       "      <td>Hotel</td>\n",
       "      <td>WARWICK SEATTLE HOTEL (ID8)</td>\n",
       "      <td>401 LENORA ST</td>\n",
       "      <td>Seattle</td>\n",
       "      <td>WA</td>\n",
       "      <td>0659000970</td>\n",
       "      <td>DOWNTOWN</td>\n",
       "      <td>Hotel, Parking, Swimming Pool</td>\n",
       "      <td>Hotel</td>\n",
       "      <td>Parking</td>\n",
       "      <td>Swimming Pool</td>\n",
       "      <td>NaN</td>\n",
       "      <td>Compliant</td>\n",
       "      <td>NaN</td>\n",
       "    </tr>\n",
       "  </tbody>\n",
       "</table>\n",
       "</div>"
      ],
      "text/plain": [
       "     BuildingType PrimaryPropertyType                 PropertyName  \\\n",
       "0  NonResidential               Hotel         Mayflower park hotel   \n",
       "1  NonResidential               Hotel              Paramount Hotel   \n",
       "2  NonResidential               Hotel      5673-The Westin Seattle   \n",
       "3  NonResidential               Hotel                    HOTEL MAX   \n",
       "4  NonResidential               Hotel  WARWICK SEATTLE HOTEL (ID8)   \n",
       "\n",
       "           Address     City State TaxParcelIdentificationNumber Neighborhood  \\\n",
       "0    405 Olive way  Seattle    WA                    0659000030     DOWNTOWN   \n",
       "1  724 Pine street  Seattle    WA                    0659000220     DOWNTOWN   \n",
       "2  1900 5th Avenue  Seattle    WA                    0659000475     DOWNTOWN   \n",
       "3   620 STEWART ST  Seattle    WA                    0659000640     DOWNTOWN   \n",
       "4    401 LENORA ST  Seattle    WA                    0659000970     DOWNTOWN   \n",
       "\n",
       "       ListOfAllPropertyUseTypes LargestPropertyUseType  \\\n",
       "0                          Hotel                  Hotel   \n",
       "1     Hotel, Parking, Restaurant                  Hotel   \n",
       "2                          Hotel                  Hotel   \n",
       "3                          Hotel                  Hotel   \n",
       "4  Hotel, Parking, Swimming Pool                  Hotel   \n",
       "\n",
       "  SecondLargestPropertyUseType ThirdLargestPropertyUseType  \\\n",
       "0                          NaN                         NaN   \n",
       "1                      Parking                  Restaurant   \n",
       "2                          NaN                         NaN   \n",
       "3                          NaN                         NaN   \n",
       "4                      Parking               Swimming Pool   \n",
       "\n",
       "  YearsENERGYSTARCertified ComplianceStatus Outlier  \n",
       "0                      NaN        Compliant     NaN  \n",
       "1                      NaN        Compliant     NaN  \n",
       "2                      NaN        Compliant     NaN  \n",
       "3                      NaN        Compliant     NaN  \n",
       "4                      NaN        Compliant     NaN  "
      ]
     },
     "execution_count": 8,
     "metadata": {},
     "output_type": "execute_result"
    }
   ],
   "source": [
    "df[object_columns].head()"
   ]
  },
  {
   "cell_type": "code",
   "execution_count": 9,
   "id": "8b34dfe5",
   "metadata": {},
   "outputs": [
    {
     "name": "stdout",
     "output_type": "stream",
     "text": [
      "BuildingType\n",
      "NonResidential          1460\n",
      "Multifamily LR (1-4)    1018\n",
      "Multifamily MR (5-9)     580\n",
      "Multifamily HR (10+)     110\n",
      "SPS-District K-12         98\n",
      "Nonresidential COS        85\n",
      "Campus                    24\n",
      "Nonresidential WA          1\n",
      "Name: BuildingType, dtype: int64\n",
      "-------------\n",
      "PrimaryPropertyType\n",
      "Low-Rise Multifamily           987\n",
      "Mid-Rise Multifamily           564\n",
      "Small- and Mid-Sized Office    293\n",
      "Other                          256\n",
      "Warehouse                      187\n",
      "Large Office                   173\n",
      "K-12 School                    139\n",
      "Mixed Use Property             133\n",
      "High-Rise Multifamily          105\n",
      "Retail Store                    91\n",
      "Hotel                           77\n",
      "Worship Facility                71\n",
      "Distribution Center             53\n",
      "Senior Care Community           45\n",
      "Supermarket / Grocery Store     40\n",
      "Medical Office                  39\n",
      "Self-Storage Facility           28\n",
      "University                      25\n",
      "Residence Hall                  23\n",
      "Refrigerated Warehouse          12\n",
      "Restaurant                      12\n",
      "Hospital                        10\n",
      "Laboratory                      10\n",
      "Office                           3\n",
      "Name: PrimaryPropertyType, dtype: int64\n",
      "-------------\n",
      "PropertyName\n",
      "Northgate Plaza                3\n",
      "Canal Building                 2\n",
      "Jefferson Court Apartments     2\n",
      "Bayview Building               2\n",
      "Crestview Apartments           2\n",
      "                              ..\n",
      "The Hathaway Building          1\n",
      "Building R                     1\n",
      "Building Q                     1\n",
      "Orcas Maintenance Shop         1\n",
      "Van Asselt Community Center    1\n",
      "Name: PropertyName, Length: 3362, dtype: int64\n",
      "-------------\n",
      "Address\n",
      "2600 SW Barton St              4\n",
      "2203 Airport Way S             4\n",
      "309 South Cloverdale Street    4\n",
      "516 1st Ave W                  2\n",
      "201 Thomas St.                 2\n",
      "                              ..\n",
      "655 South Orcas Street         1\n",
      "661 South Orcas Street         1\n",
      "4000 aurora ave n              1\n",
      "3316 Fuhrman Ave E             1\n",
      "2820 S Myrtle St               1\n",
      "Name: Address, Length: 3354, dtype: int64\n",
      "-------------\n",
      "City\n",
      "Seattle    3376\n",
      "Name: City, dtype: int64\n",
      "-------------\n",
      "State\n",
      "WA    3376\n",
      "Name: State, dtype: int64\n",
      "-------------\n",
      "TaxParcelIdentificationNumber\n",
      "1625049001    8\n",
      "3224049012    5\n",
      "0925049346    5\n",
      "0002400002    5\n",
      "3624039009    4\n",
      "             ..\n",
      "1972202635    1\n",
      "1977200970    1\n",
      "1977201050    1\n",
      "1977201055    1\n",
      "7857002030    1\n",
      "Name: TaxParcelIdentificationNumber, Length: 3268, dtype: int64\n",
      "-------------\n",
      "Neighborhood\n",
      "DOWNTOWN                  573\n",
      "EAST                      453\n",
      "MAGNOLIA / QUEEN ANNE     423\n",
      "GREATER DUWAMISH          375\n",
      "NORTHEAST                 280\n",
      "LAKE UNION                251\n",
      "NORTHWEST                 210\n",
      "SOUTHWEST                 166\n",
      "NORTH                     145\n",
      "BALLARD                   126\n",
      "CENTRAL                   107\n",
      "SOUTHEAST                  95\n",
      "DELRIDGE                   80\n",
      "North                      42\n",
      "Central                    27\n",
      "Northwest                  11\n",
      "Ballard                     7\n",
      "Delridge                    4\n",
      "DELRIDGE NEIGHBORHOODS      1\n",
      "Name: Neighborhood, dtype: int64\n",
      "-------------\n",
      "ListOfAllPropertyUseTypes\n",
      "Multifamily Housing                                                                       866\n",
      "Multifamily Housing, Parking                                                              464\n",
      "Office                                                                                    139\n",
      "K-12 School                                                                               135\n",
      "Office, Parking                                                                           120\n",
      "                                                                                         ... \n",
      "Other, Parking, Restaurant, Retail Store                                                    1\n",
      "Non-Refrigerated Warehouse, Other, Parking, Retail Store                                    1\n",
      "Data Center, Non-Refrigerated Warehouse, Office, Retail Store                               1\n",
      "Data Center, Medical Office, Office, Parking, Restaurant                                    1\n",
      "Fitness Center/Health Club/Gym, Office, Other - Recreation, Other - Technology/Science      1\n",
      "Name: ListOfAllPropertyUseTypes, Length: 466, dtype: int64\n",
      "-------------\n",
      "LargestPropertyUseType\n",
      "Multifamily Housing                                     1667\n",
      "Office                                                   498\n",
      "Non-Refrigerated Warehouse                               199\n",
      "K-12 School                                              139\n",
      "Other                                                    102\n",
      "Retail Store                                              99\n",
      "Hotel                                                     77\n",
      "Worship Facility                                          71\n",
      "Distribution Center                                       54\n",
      "Senior Care Community                                     46\n",
      "Supermarket/Grocery Store                                 41\n",
      "Medical Office                                            41\n",
      "Parking                                                   32\n",
      "Other - Recreation                                        31\n",
      "Self-Storage Facility                                     28\n",
      "College/University                                        25\n",
      "Residence Hall/Dormitory                                  24\n",
      "Other - Entertainment/Public Assembly                     21\n",
      "Laboratory                                                13\n",
      "Refrigerated Warehouse                                    12\n",
      "Restaurant                                                12\n",
      "Hospital (General Medical & Surgical)                     10\n",
      "Social/Meeting Hall                                       10\n",
      "Manufacturing/Industrial Plant                             8\n",
      "Repair Services (Vehicle, Shoe, Locksmith, etc)            6\n",
      "Other - Lodging/Residential                                6\n",
      "Strip Mall                                                 6\n",
      "Museum                                                     5\n",
      "Automobile Dealership                                      5\n",
      "Other - Services                                           5\n",
      "Fitness Center/Health Club/Gym                             5\n",
      "Other - Education                                          4\n",
      "Urgent Care/Clinic/Other Outpatient                        4\n",
      "Other - Mall                                               4\n",
      "Library                                                    4\n",
      "Financial Office                                           4\n",
      "Other/Specialty Hospital                                   4\n",
      "Bank Branch                                                4\n",
      "Performing Arts                                            3\n",
      "Prison/Incarceration                                       3\n",
      "Data Center                                                3\n",
      "Lifestyle Center                                           2\n",
      "Other - Public Services                                    2\n",
      "Other - Restaurant/Bar                                     2\n",
      "Adult Education                                            2\n",
      "Other - Utility                                            2\n",
      "Pre-school/Daycare                                         2\n",
      "Wholesale Club/Supercenter                                 1\n",
      "Convention Center                                          1\n",
      "Fire Station                                               1\n",
      "Residential Care Facility                                  1\n",
      "Police Station                                             1\n",
      "Food Service                                               1\n",
      "Movie Theater                                              1\n",
      "Personal Services (Health/Beauty, Dry Cleaning, etc)       1\n",
      "Courthouse                                                 1\n",
      "Name: LargestPropertyUseType, dtype: int64\n",
      "-------------\n",
      "SecondLargestPropertyUseType\n",
      "Parking                                                 976\n",
      "Office                                                  215\n",
      "Retail Store                                            155\n",
      "Other                                                    59\n",
      "Restaurant                                               40\n",
      "Non-Refrigerated Warehouse                               33\n",
      "Multifamily Housing                                      18\n",
      "Fitness Center/Health Club/Gym                           17\n",
      "Supermarket/Grocery Store                                14\n",
      "Data Center                                              13\n",
      "Other - Services                                         12\n",
      "Medical Office                                           11\n",
      "Swimming Pool                                            10\n",
      "Laboratory                                                8\n",
      "Distribution Center                                       7\n",
      "Bank Branch                                               7\n",
      "Other - Entertainment/Public Assembly                     7\n",
      "K-12 School                                               6\n",
      "Other - Restaurant/Bar                                    5\n",
      "Self-Storage Facility                                     4\n",
      "Other - Recreation                                        4\n",
      "Worship Facility                                          4\n",
      "Food Service                                              4\n",
      "Repair Services (Vehicle, Shoe, Locksmith, etc)           4\n",
      "Bar/Nightclub                                             3\n",
      "Hotel                                                     3\n",
      "Movie Theater                                             3\n",
      "Food Sales                                                3\n",
      "Other - Public Services                                   3\n",
      "Senior Care Community                                     2\n",
      "Other - Lodging/Residential                               2\n",
      "Hospital (General Medical & Surgical)                     2\n",
      "Manufacturing/Industrial Plant                            2\n",
      "Performing Arts                                           2\n",
      "Financial Office                                          2\n",
      "Adult Education                                           2\n",
      "Other - Education                                         2\n",
      "Refrigerated Warehouse                                    2\n",
      "Automobile Dealership                                     2\n",
      "Enclosed Mall                                             1\n",
      "College/University                                        1\n",
      "Convenience Store without Gas Station                     1\n",
      "Residence Hall/Dormitory                                  1\n",
      "Courthouse                                                1\n",
      "Personal Services (Health/Beauty, Dry Cleaning, etc)      1\n",
      "Vocational School                                         1\n",
      "Other/Specialty Hospital                                  1\n",
      "Pre-school/Daycare                                        1\n",
      "Social/Meeting Hall                                       1\n",
      "Museum                                                    1\n",
      "Name: SecondLargestPropertyUseType, dtype: int64\n",
      "-------------\n",
      "ThirdLargestPropertyUseType\n",
      "Retail Store                                            110\n",
      "Office                                                  105\n",
      "Parking                                                  71\n",
      "Restaurant                                               56\n",
      "Other                                                    49\n",
      "Swimming Pool                                            29\n",
      "Non-Refrigerated Warehouse                               18\n",
      "Medical Office                                           17\n",
      "Data Center                                              14\n",
      "Multifamily Housing                                      12\n",
      "Social/Meeting Hall                                      11\n",
      "Food Service                                             11\n",
      "Other - Restaurant/Bar                                    9\n",
      "Pre-school/Daycare                                        8\n",
      "Personal Services (Health/Beauty, Dry Cleaning, etc)      6\n",
      "Fitness Center/Health Club/Gym                            6\n",
      "Other - Entertainment/Public Assembly                     6\n",
      "Bank Branch                                               6\n",
      "Financial Office                                          5\n",
      "Fast Food Restaurant                                      3\n",
      "Other - Lodging/Residential                               3\n",
      "Bar/Nightclub                                             3\n",
      "Food Sales                                                3\n",
      "Supermarket/Grocery Store                                 3\n",
      "Distribution Center                                       3\n",
      "Self-Storage Facility                                     2\n",
      "Strip Mall                                                2\n",
      "Refrigerated Warehouse                                    2\n",
      "Other - Technology/Science                                2\n",
      "Other - Education                                         2\n",
      "Other - Recreation                                        2\n",
      "Laboratory                                                2\n",
      "Convenience Store without Gas Station                     2\n",
      "K-12 School                                               2\n",
      "Other - Services                                          2\n",
      "Hotel                                                     1\n",
      "Manufacturing/Industrial Plant                            1\n",
      "Other - Utility                                           1\n",
      "Other/Specialty Hospital                                  1\n",
      "Worship Facility                                          1\n",
      "Residence Hall/Dormitory                                  1\n",
      "Vocational School                                         1\n",
      "College/University                                        1\n",
      "Other - Public Services                                   1\n",
      "Name: ThirdLargestPropertyUseType, dtype: int64\n",
      "-------------\n",
      "YearsENERGYSTARCertified\n",
      "2016                                    14\n",
      "20172016                                 8\n",
      "2017                                     7\n",
      "20162015                                 6\n",
      "2014                                     6\n",
      "                                        ..\n",
      "2012201020072006                         1\n",
      "201620152014201320112010200920072000     1\n",
      "201220092008                             1\n",
      "201620152014201320092008                 1\n",
      "20162015201020092008                     1\n",
      "Name: YearsENERGYSTARCertified, Length: 65, dtype: int64\n",
      "-------------\n",
      "ComplianceStatus\n",
      "Compliant                       3211\n",
      "Error - Correct Default Data     113\n",
      "Non-Compliant                     37\n",
      "Missing Data                      15\n",
      "Name: ComplianceStatus, dtype: int64\n",
      "-------------\n",
      "Outlier\n",
      "Low outlier     23\n",
      "High outlier     9\n",
      "Name: Outlier, dtype: int64\n",
      "-------------\n"
     ]
    }
   ],
   "source": [
    "for col in object_columns:\n",
    "    print(col)\n",
    "    print(df[col].value_counts())\n",
    "    print('-------------')"
   ]
  },
  {
   "cell_type": "markdown",
   "id": "6ad51164",
   "metadata": {},
   "source": [
    "## Garder les information sur les batiments non- residentiels"
   ]
  },
  {
   "cell_type": "code",
   "execution_count": 10,
   "id": "d2f9d20d",
   "metadata": {},
   "outputs": [
    {
     "data": {
      "text/plain": [
       "Multifamily Housing                                                                                          860\n",
       "Multifamily Housing, Parking                                                                                 464\n",
       "Multifamily Housing, Retail Store                                                                             52\n",
       "Multifamily Housing, Parking, Retail Store                                                                    50\n",
       "Multifamily Housing, Office, Parking                                                                          38\n",
       "                                                                                                            ... \n",
       "Financial Office, Multifamily Housing, Parking, Retail Store, Supermarket/Grocery Store                        1\n",
       "Financial Office, Multifamily Housing, Parking, Supermarket/Grocery Store                                      1\n",
       "Food Sales, Multifamily Housing, Parking                                                                       1\n",
       "Fitness Center/Health Club/Gym, Multifamily Housing, Personal Services (Health/Beauty, Dry Cleaning, etc)      1\n",
       "Multifamily Housing, Other - Public Services, Parking                                                          1\n",
       "Name: ListOfAllPropertyUseTypes, Length: 107, dtype: int64"
      ]
     },
     "execution_count": 10,
     "metadata": {},
     "output_type": "execute_result"
    }
   ],
   "source": [
    "df.loc[df['LargestPropertyUseType']=='Multifamily Housing', 'ListOfAllPropertyUseTypes'].value_counts()"
   ]
  },
  {
   "cell_type": "code",
   "execution_count": 11,
   "id": "a3016e59",
   "metadata": {},
   "outputs": [
    {
     "data": {
      "text/plain": [
       "(2046, 46)"
      ]
     },
     "execution_count": 11,
     "metadata": {},
     "output_type": "execute_result"
    }
   ],
   "source": [
    "df=df[~df['ListOfAllPropertyUseTypes'].isin(['Multifamily Housing', 'Multifamily Housing, Parking'])]\n",
    "df.shape"
   ]
  },
  {
   "cell_type": "markdown",
   "id": "37877417",
   "metadata": {},
   "source": [
    "## Valeurs dupliquees"
   ]
  },
  {
   "cell_type": "code",
   "execution_count": 12,
   "id": "fb1a9799",
   "metadata": {},
   "outputs": [
    {
     "data": {
      "text/html": [
       "<div>\n",
       "<style scoped>\n",
       "    .dataframe tbody tr th:only-of-type {\n",
       "        vertical-align: middle;\n",
       "    }\n",
       "\n",
       "    .dataframe tbody tr th {\n",
       "        vertical-align: top;\n",
       "    }\n",
       "\n",
       "    .dataframe thead th {\n",
       "        text-align: right;\n",
       "    }\n",
       "</style>\n",
       "<table border=\"1\" class=\"dataframe\">\n",
       "  <thead>\n",
       "    <tr style=\"text-align: right;\">\n",
       "      <th></th>\n",
       "      <th>OSEBuildingID</th>\n",
       "      <th>DataYear</th>\n",
       "      <th>BuildingType</th>\n",
       "      <th>PrimaryPropertyType</th>\n",
       "      <th>PropertyName</th>\n",
       "      <th>Address</th>\n",
       "      <th>City</th>\n",
       "      <th>State</th>\n",
       "      <th>ZipCode</th>\n",
       "      <th>TaxParcelIdentificationNumber</th>\n",
       "      <th>...</th>\n",
       "      <th>Electricity(kWh)</th>\n",
       "      <th>Electricity(kBtu)</th>\n",
       "      <th>NaturalGas(therms)</th>\n",
       "      <th>NaturalGas(kBtu)</th>\n",
       "      <th>DefaultData</th>\n",
       "      <th>Comments</th>\n",
       "      <th>ComplianceStatus</th>\n",
       "      <th>Outlier</th>\n",
       "      <th>TotalGHGEmissions</th>\n",
       "      <th>GHGEmissionsIntensity</th>\n",
       "    </tr>\n",
       "  </thead>\n",
       "  <tbody>\n",
       "  </tbody>\n",
       "</table>\n",
       "<p>0 rows × 46 columns</p>\n",
       "</div>"
      ],
      "text/plain": [
       "Empty DataFrame\n",
       "Columns: [OSEBuildingID, DataYear, BuildingType, PrimaryPropertyType, PropertyName, Address, City, State, ZipCode, TaxParcelIdentificationNumber, CouncilDistrictCode, Neighborhood, Latitude, Longitude, YearBuilt, NumberofBuildings, NumberofFloors, PropertyGFATotal, PropertyGFAParking, PropertyGFABuilding(s), ListOfAllPropertyUseTypes, LargestPropertyUseType, LargestPropertyUseTypeGFA, SecondLargestPropertyUseType, SecondLargestPropertyUseTypeGFA, ThirdLargestPropertyUseType, ThirdLargestPropertyUseTypeGFA, YearsENERGYSTARCertified, ENERGYSTARScore, SiteEUI(kBtu/sf), SiteEUIWN(kBtu/sf), SourceEUI(kBtu/sf), SourceEUIWN(kBtu/sf), SiteEnergyUse(kBtu), SiteEnergyUseWN(kBtu), SteamUse(kBtu), Electricity(kWh), Electricity(kBtu), NaturalGas(therms), NaturalGas(kBtu), DefaultData, Comments, ComplianceStatus, Outlier, TotalGHGEmissions, GHGEmissionsIntensity]\n",
       "Index: []\n",
       "\n",
       "[0 rows x 46 columns]"
      ]
     },
     "execution_count": 12,
     "metadata": {},
     "output_type": "execute_result"
    }
   ],
   "source": [
    "df[df[['PropertyName','Address']].duplicated(keep=False)]"
   ]
  },
  {
   "cell_type": "markdown",
   "id": "c1f91e8e",
   "metadata": {},
   "source": [
    "## Valeurs manquantes"
   ]
  },
  {
   "cell_type": "code",
   "execution_count": 13,
   "id": "56c810b0",
   "metadata": {},
   "outputs": [
    {
     "data": {
      "text/plain": [
       "Outlier                          0.988759\n",
       "YearsENERGYSTARCertified         0.948680\n",
       "ThirdLargestPropertyUseType      0.711144\n",
       "SecondLargestPropertyUseType     0.408602\n",
       "LargestPropertyUseType           0.006843\n",
       "ListOfAllPropertyUseTypes        0.004399\n",
       "BuildingType                     0.000000\n",
       "PrimaryPropertyType              0.000000\n",
       "PropertyName                     0.000000\n",
       "Address                          0.000000\n",
       "City                             0.000000\n",
       "State                            0.000000\n",
       "TaxParcelIdentificationNumber    0.000000\n",
       "Neighborhood                     0.000000\n",
       "ComplianceStatus                 0.000000\n",
       "dtype: float64"
      ]
     },
     "execution_count": 13,
     "metadata": {},
     "output_type": "execute_result"
    }
   ],
   "source": [
    "df[object_columns].isna().mean().sort_values(ascending=False)"
   ]
  },
  {
   "cell_type": "markdown",
   "id": "7ecf5baf",
   "metadata": {},
   "source": [
    "### Outlier: \n",
    "NaN sont pour les proprietes qui n'ont pas des valerus aberrantes (remplissage normale)"
   ]
  },
  {
   "cell_type": "code",
   "execution_count": 14,
   "id": "91e8abf7",
   "metadata": {},
   "outputs": [],
   "source": [
    "df.loc[df['Outlier'].isna(), 'Outlier']='Normal'"
   ]
  },
  {
   "cell_type": "markdown",
   "id": "bc55ab76",
   "metadata": {},
   "source": [
    "### YearsENERGYSTARCertified\n",
    "les annees les proprietes ont eu la certification ENERGYSTar"
   ]
  },
  {
   "cell_type": "code",
   "execution_count": 15,
   "id": "90fff874",
   "metadata": {},
   "outputs": [],
   "source": [
    "df.loc[df['YearsENERGYSTARCertified'].isna(),'YearsENERGYSTARCertified']='None'"
   ]
  },
  {
   "cell_type": "markdown",
   "id": "59ed97e6",
   "metadata": {},
   "source": [
    "### ThirdLargestPropertyUseType et  SecondLargestPropertyUseType"
   ]
  },
  {
   "cell_type": "code",
   "execution_count": 16,
   "id": "eb75b635",
   "metadata": {},
   "outputs": [],
   "source": [
    "df.loc[df['ThirdLargestPropertyUseType'].isna(),'ThirdLargestPropertyUseType']='None'\n",
    "df.loc[df['SecondLargestPropertyUseType'].isna(),'SecondLargestPropertyUseType']='None'"
   ]
  },
  {
   "cell_type": "markdown",
   "id": "a149c3b9",
   "metadata": {},
   "source": [
    "### LargestPropertyUseType et ListOfAllPropertyUseTypes"
   ]
  },
  {
   "cell_type": "code",
   "execution_count": 17,
   "id": "0f7c60d7",
   "metadata": {},
   "outputs": [],
   "source": [
    "df.loc[df['LargestPropertyUseType'].isna(), 'LargestPropertyUseType']=df.loc[df['LargestPropertyUseType'].isna(), 'PrimaryPropertyType']\n",
    "df.loc[df['ListOfAllPropertyUseTypes'].isna(), 'ListOfAllPropertyUseTypes']=df.loc[df['ListOfAllPropertyUseTypes'].isna(), 'PrimaryPropertyType']"
   ]
  },
  {
   "cell_type": "code",
   "execution_count": 18,
   "id": "cb3ddea2",
   "metadata": {},
   "outputs": [
    {
     "data": {
      "text/plain": [
       "BuildingType                     0.0\n",
       "PrimaryPropertyType              0.0\n",
       "PropertyName                     0.0\n",
       "Address                          0.0\n",
       "City                             0.0\n",
       "State                            0.0\n",
       "TaxParcelIdentificationNumber    0.0\n",
       "Neighborhood                     0.0\n",
       "ListOfAllPropertyUseTypes        0.0\n",
       "LargestPropertyUseType           0.0\n",
       "SecondLargestPropertyUseType     0.0\n",
       "ThirdLargestPropertyUseType      0.0\n",
       "YearsENERGYSTARCertified         0.0\n",
       "ComplianceStatus                 0.0\n",
       "Outlier                          0.0\n",
       "dtype: float64"
      ]
     },
     "execution_count": 18,
     "metadata": {},
     "output_type": "execute_result"
    }
   ],
   "source": [
    "df[object_columns].isna().mean().sort_values(ascending=False)"
   ]
  },
  {
   "cell_type": "markdown",
   "id": "1e79cfbc",
   "metadata": {},
   "source": [
    "# Variables de types floats"
   ]
  },
  {
   "cell_type": "code",
   "execution_count": 19,
   "id": "b2212fc8",
   "metadata": {},
   "outputs": [],
   "source": [
    "floats_columns=types[types=='float64'].index"
   ]
  },
  {
   "cell_type": "code",
   "execution_count": 21,
   "id": "26819090",
   "metadata": {},
   "outputs": [
    {
     "data": {
      "text/html": [
       "<div>\n",
       "<style scoped>\n",
       "    .dataframe tbody tr th:only-of-type {\n",
       "        vertical-align: middle;\n",
       "    }\n",
       "\n",
       "    .dataframe tbody tr th {\n",
       "        vertical-align: top;\n",
       "    }\n",
       "\n",
       "    .dataframe thead th {\n",
       "        text-align: right;\n",
       "    }\n",
       "</style>\n",
       "<table border=\"1\" class=\"dataframe\">\n",
       "  <thead>\n",
       "    <tr style=\"text-align: right;\">\n",
       "      <th></th>\n",
       "      <th>count</th>\n",
       "      <th>mean</th>\n",
       "      <th>std</th>\n",
       "      <th>min</th>\n",
       "      <th>25%</th>\n",
       "      <th>50%</th>\n",
       "      <th>75%</th>\n",
       "      <th>max</th>\n",
       "    </tr>\n",
       "  </thead>\n",
       "  <tbody>\n",
       "    <tr>\n",
       "      <th>ZipCode</th>\n",
       "      <td>2030.0</td>\n",
       "      <td>9.811672e+04</td>\n",
       "      <td>1.831870e+01</td>\n",
       "      <td>98006.00000</td>\n",
       "      <td>9.810400e+04</td>\n",
       "      <td>9.811200e+04</td>\n",
       "      <td>9.812200e+04</td>\n",
       "      <td>9.820400e+04</td>\n",
       "    </tr>\n",
       "    <tr>\n",
       "      <th>Latitude</th>\n",
       "      <td>2046.0</td>\n",
       "      <td>4.761843e+01</td>\n",
       "      <td>4.765877e-02</td>\n",
       "      <td>47.49917</td>\n",
       "      <td>4.759406e+01</td>\n",
       "      <td>4.761389e+01</td>\n",
       "      <td>4.765171e+01</td>\n",
       "      <td>4.773387e+01</td>\n",
       "    </tr>\n",
       "    <tr>\n",
       "      <th>Longitude</th>\n",
       "      <td>2046.0</td>\n",
       "      <td>-1.223332e+02</td>\n",
       "      <td>2.501140e-02</td>\n",
       "      <td>-122.41182</td>\n",
       "      <td>-1.223447e+02</td>\n",
       "      <td>-1.223330e+02</td>\n",
       "      <td>-1.223210e+02</td>\n",
       "      <td>-1.222210e+02</td>\n",
       "    </tr>\n",
       "    <tr>\n",
       "      <th>NumberofBuildings</th>\n",
       "      <td>2038.0</td>\n",
       "      <td>1.143768e+00</td>\n",
       "      <td>2.655741e+00</td>\n",
       "      <td>0.00000</td>\n",
       "      <td>1.000000e+00</td>\n",
       "      <td>1.000000e+00</td>\n",
       "      <td>1.000000e+00</td>\n",
       "      <td>1.110000e+02</td>\n",
       "    </tr>\n",
       "    <tr>\n",
       "      <th>LargestPropertyUseTypeGFA</th>\n",
       "      <td>2032.0</td>\n",
       "      <td>9.611961e+04</td>\n",
       "      <td>2.539162e+05</td>\n",
       "      <td>5656.00000</td>\n",
       "      <td>2.550000e+04</td>\n",
       "      <td>4.495400e+04</td>\n",
       "      <td>9.535850e+04</td>\n",
       "      <td>9.320156e+06</td>\n",
       "    </tr>\n",
       "    <tr>\n",
       "      <th>SecondLargestPropertyUseTypeGFA</th>\n",
       "      <td>1210.0</td>\n",
       "      <td>3.267839e+04</td>\n",
       "      <td>6.187339e+04</td>\n",
       "      <td>0.00000</td>\n",
       "      <td>5.253500e+03</td>\n",
       "      <td>1.135150e+04</td>\n",
       "      <td>2.956475e+04</td>\n",
       "      <td>6.867500e+05</td>\n",
       "    </tr>\n",
       "    <tr>\n",
       "      <th>ThirdLargestPropertyUseTypeGFA</th>\n",
       "      <td>591.0</td>\n",
       "      <td>1.180583e+04</td>\n",
       "      <td>2.944290e+04</td>\n",
       "      <td>0.00000</td>\n",
       "      <td>2.299000e+03</td>\n",
       "      <td>5.090000e+03</td>\n",
       "      <td>1.018250e+04</td>\n",
       "      <td>4.597480e+05</td>\n",
       "    </tr>\n",
       "    <tr>\n",
       "      <th>ENERGYSTARScore</th>\n",
       "      <td>1299.0</td>\n",
       "      <td>6.603541e+01</td>\n",
       "      <td>2.857845e+01</td>\n",
       "      <td>1.00000</td>\n",
       "      <td>4.900000e+01</td>\n",
       "      <td>7.500000e+01</td>\n",
       "      <td>9.000000e+01</td>\n",
       "      <td>1.000000e+02</td>\n",
       "    </tr>\n",
       "    <tr>\n",
       "      <th>SiteEUI(kBtu/sf)</th>\n",
       "      <td>2040.0</td>\n",
       "      <td>6.695588e+01</td>\n",
       "      <td>6.837375e+01</td>\n",
       "      <td>0.00000</td>\n",
       "      <td>3.200000e+01</td>\n",
       "      <td>4.800000e+01</td>\n",
       "      <td>7.500000e+01</td>\n",
       "      <td>8.344000e+02</td>\n",
       "    </tr>\n",
       "    <tr>\n",
       "      <th>SiteEUIWN(kBtu/sf)</th>\n",
       "      <td>2040.0</td>\n",
       "      <td>6.926422e+01</td>\n",
       "      <td>6.932652e+01</td>\n",
       "      <td>0.00000</td>\n",
       "      <td>3.400000e+01</td>\n",
       "      <td>5.065000e+01</td>\n",
       "      <td>7.832500e+01</td>\n",
       "      <td>8.344000e+02</td>\n",
       "    </tr>\n",
       "    <tr>\n",
       "      <th>SourceEUI(kBtu/sf)</th>\n",
       "      <td>2037.0</td>\n",
       "      <td>1.631989e+02</td>\n",
       "      <td>1.711574e+02</td>\n",
       "      <td>0.00000</td>\n",
       "      <td>7.830000e+01</td>\n",
       "      <td>1.191000e+02</td>\n",
       "      <td>1.848000e+02</td>\n",
       "      <td>2.620000e+03</td>\n",
       "    </tr>\n",
       "    <tr>\n",
       "      <th>SourceEUIWN(kBtu/sf)</th>\n",
       "      <td>2037.0</td>\n",
       "      <td>1.657415e+02</td>\n",
       "      <td>1.711025e+02</td>\n",
       "      <td>-2.10000</td>\n",
       "      <td>8.120000e+01</td>\n",
       "      <td>1.225000e+02</td>\n",
       "      <td>1.884000e+02</td>\n",
       "      <td>2.620000e+03</td>\n",
       "    </tr>\n",
       "    <tr>\n",
       "      <th>SiteEnergyUse(kBtu)</th>\n",
       "      <td>2041.0</td>\n",
       "      <td>7.651765e+06</td>\n",
       "      <td>2.747806e+07</td>\n",
       "      <td>0.00000</td>\n",
       "      <td>1.228114e+06</td>\n",
       "      <td>2.485521e+06</td>\n",
       "      <td>6.468090e+06</td>\n",
       "      <td>8.739237e+08</td>\n",
       "    </tr>\n",
       "    <tr>\n",
       "      <th>SiteEnergyUseWN(kBtu)</th>\n",
       "      <td>2040.0</td>\n",
       "      <td>7.370825e+06</td>\n",
       "      <td>2.011526e+07</td>\n",
       "      <td>0.00000</td>\n",
       "      <td>1.290314e+06</td>\n",
       "      <td>2.626856e+06</td>\n",
       "      <td>6.721651e+06</td>\n",
       "      <td>4.716139e+08</td>\n",
       "    </tr>\n",
       "    <tr>\n",
       "      <th>SteamUse(kBtu)</th>\n",
       "      <td>2037.0</td>\n",
       "      <td>4.429015e+05</td>\n",
       "      <td>5.017461e+06</td>\n",
       "      <td>0.00000</td>\n",
       "      <td>0.000000e+00</td>\n",
       "      <td>0.000000e+00</td>\n",
       "      <td>0.000000e+00</td>\n",
       "      <td>1.349435e+08</td>\n",
       "    </tr>\n",
       "    <tr>\n",
       "      <th>Electricity(kWh)</th>\n",
       "      <td>2037.0</td>\n",
       "      <td>1.543054e+06</td>\n",
       "      <td>5.538065e+06</td>\n",
       "      <td>-33826.80078</td>\n",
       "      <td>2.203478e+05</td>\n",
       "      <td>4.715030e+05</td>\n",
       "      <td>1.275798e+06</td>\n",
       "      <td>1.925775e+08</td>\n",
       "    </tr>\n",
       "    <tr>\n",
       "      <th>Electricity(kBtu)</th>\n",
       "      <td>2037.0</td>\n",
       "      <td>5.264899e+06</td>\n",
       "      <td>1.889588e+07</td>\n",
       "      <td>-115417.00000</td>\n",
       "      <td>7.518270e+05</td>\n",
       "      <td>1.608768e+06</td>\n",
       "      <td>4.353024e+06</td>\n",
       "      <td>6.570744e+08</td>\n",
       "    </tr>\n",
       "    <tr>\n",
       "      <th>NaturalGas(therms)</th>\n",
       "      <td>2037.0</td>\n",
       "      <td>1.860727e+04</td>\n",
       "      <td>8.531793e+04</td>\n",
       "      <td>0.00000</td>\n",
       "      <td>0.000000e+00</td>\n",
       "      <td>5.152170e+03</td>\n",
       "      <td>1.534335e+04</td>\n",
       "      <td>2.979090e+06</td>\n",
       "    </tr>\n",
       "    <tr>\n",
       "      <th>NaturalGas(kBtu)</th>\n",
       "      <td>2037.0</td>\n",
       "      <td>1.860727e+06</td>\n",
       "      <td>8.531793e+06</td>\n",
       "      <td>0.00000</td>\n",
       "      <td>0.000000e+00</td>\n",
       "      <td>5.152170e+05</td>\n",
       "      <td>1.534335e+06</td>\n",
       "      <td>2.979090e+08</td>\n",
       "    </tr>\n",
       "    <tr>\n",
       "      <th>Comments</th>\n",
       "      <td>0.0</td>\n",
       "      <td>NaN</td>\n",
       "      <td>NaN</td>\n",
       "      <td>NaN</td>\n",
       "      <td>NaN</td>\n",
       "      <td>NaN</td>\n",
       "      <td>NaN</td>\n",
       "      <td>NaN</td>\n",
       "    </tr>\n",
       "    <tr>\n",
       "      <th>TotalGHGEmissions</th>\n",
       "      <td>2037.0</td>\n",
       "      <td>1.697136e+02</td>\n",
       "      <td>6.855439e+02</td>\n",
       "      <td>-0.80000</td>\n",
       "      <td>1.887000e+01</td>\n",
       "      <td>4.912000e+01</td>\n",
       "      <td>1.351100e+02</td>\n",
       "      <td>1.687098e+04</td>\n",
       "    </tr>\n",
       "    <tr>\n",
       "      <th>GHGEmissionsIntensity</th>\n",
       "      <td>2037.0</td>\n",
       "      <td>1.482626e+00</td>\n",
       "      <td>2.173955e+00</td>\n",
       "      <td>-0.02000</td>\n",
       "      <td>3.200000e-01</td>\n",
       "      <td>8.000000e-01</td>\n",
       "      <td>1.740000e+00</td>\n",
       "      <td>3.409000e+01</td>\n",
       "    </tr>\n",
       "  </tbody>\n",
       "</table>\n",
       "</div>"
      ],
      "text/plain": [
       "                                  count          mean           std  \\\n",
       "ZipCode                          2030.0  9.811672e+04  1.831870e+01   \n",
       "Latitude                         2046.0  4.761843e+01  4.765877e-02   \n",
       "Longitude                        2046.0 -1.223332e+02  2.501140e-02   \n",
       "NumberofBuildings                2038.0  1.143768e+00  2.655741e+00   \n",
       "LargestPropertyUseTypeGFA        2032.0  9.611961e+04  2.539162e+05   \n",
       "SecondLargestPropertyUseTypeGFA  1210.0  3.267839e+04  6.187339e+04   \n",
       "ThirdLargestPropertyUseTypeGFA    591.0  1.180583e+04  2.944290e+04   \n",
       "ENERGYSTARScore                  1299.0  6.603541e+01  2.857845e+01   \n",
       "SiteEUI(kBtu/sf)                 2040.0  6.695588e+01  6.837375e+01   \n",
       "SiteEUIWN(kBtu/sf)               2040.0  6.926422e+01  6.932652e+01   \n",
       "SourceEUI(kBtu/sf)               2037.0  1.631989e+02  1.711574e+02   \n",
       "SourceEUIWN(kBtu/sf)             2037.0  1.657415e+02  1.711025e+02   \n",
       "SiteEnergyUse(kBtu)              2041.0  7.651765e+06  2.747806e+07   \n",
       "SiteEnergyUseWN(kBtu)            2040.0  7.370825e+06  2.011526e+07   \n",
       "SteamUse(kBtu)                   2037.0  4.429015e+05  5.017461e+06   \n",
       "Electricity(kWh)                 2037.0  1.543054e+06  5.538065e+06   \n",
       "Electricity(kBtu)                2037.0  5.264899e+06  1.889588e+07   \n",
       "NaturalGas(therms)               2037.0  1.860727e+04  8.531793e+04   \n",
       "NaturalGas(kBtu)                 2037.0  1.860727e+06  8.531793e+06   \n",
       "Comments                            0.0           NaN           NaN   \n",
       "TotalGHGEmissions                2037.0  1.697136e+02  6.855439e+02   \n",
       "GHGEmissionsIntensity            2037.0  1.482626e+00  2.173955e+00   \n",
       "\n",
       "                                          min           25%           50%  \\\n",
       "ZipCode                           98006.00000  9.810400e+04  9.811200e+04   \n",
       "Latitude                             47.49917  4.759406e+01  4.761389e+01   \n",
       "Longitude                          -122.41182 -1.223447e+02 -1.223330e+02   \n",
       "NumberofBuildings                     0.00000  1.000000e+00  1.000000e+00   \n",
       "LargestPropertyUseTypeGFA          5656.00000  2.550000e+04  4.495400e+04   \n",
       "SecondLargestPropertyUseTypeGFA       0.00000  5.253500e+03  1.135150e+04   \n",
       "ThirdLargestPropertyUseTypeGFA        0.00000  2.299000e+03  5.090000e+03   \n",
       "ENERGYSTARScore                       1.00000  4.900000e+01  7.500000e+01   \n",
       "SiteEUI(kBtu/sf)                      0.00000  3.200000e+01  4.800000e+01   \n",
       "SiteEUIWN(kBtu/sf)                    0.00000  3.400000e+01  5.065000e+01   \n",
       "SourceEUI(kBtu/sf)                    0.00000  7.830000e+01  1.191000e+02   \n",
       "SourceEUIWN(kBtu/sf)                 -2.10000  8.120000e+01  1.225000e+02   \n",
       "SiteEnergyUse(kBtu)                   0.00000  1.228114e+06  2.485521e+06   \n",
       "SiteEnergyUseWN(kBtu)                 0.00000  1.290314e+06  2.626856e+06   \n",
       "SteamUse(kBtu)                        0.00000  0.000000e+00  0.000000e+00   \n",
       "Electricity(kWh)                 -33826.80078  2.203478e+05  4.715030e+05   \n",
       "Electricity(kBtu)               -115417.00000  7.518270e+05  1.608768e+06   \n",
       "NaturalGas(therms)                    0.00000  0.000000e+00  5.152170e+03   \n",
       "NaturalGas(kBtu)                      0.00000  0.000000e+00  5.152170e+05   \n",
       "Comments                                  NaN           NaN           NaN   \n",
       "TotalGHGEmissions                    -0.80000  1.887000e+01  4.912000e+01   \n",
       "GHGEmissionsIntensity                -0.02000  3.200000e-01  8.000000e-01   \n",
       "\n",
       "                                          75%           max  \n",
       "ZipCode                          9.812200e+04  9.820400e+04  \n",
       "Latitude                         4.765171e+01  4.773387e+01  \n",
       "Longitude                       -1.223210e+02 -1.222210e+02  \n",
       "NumberofBuildings                1.000000e+00  1.110000e+02  \n",
       "LargestPropertyUseTypeGFA        9.535850e+04  9.320156e+06  \n",
       "SecondLargestPropertyUseTypeGFA  2.956475e+04  6.867500e+05  \n",
       "ThirdLargestPropertyUseTypeGFA   1.018250e+04  4.597480e+05  \n",
       "ENERGYSTARScore                  9.000000e+01  1.000000e+02  \n",
       "SiteEUI(kBtu/sf)                 7.500000e+01  8.344000e+02  \n",
       "SiteEUIWN(kBtu/sf)               7.832500e+01  8.344000e+02  \n",
       "SourceEUI(kBtu/sf)               1.848000e+02  2.620000e+03  \n",
       "SourceEUIWN(kBtu/sf)             1.884000e+02  2.620000e+03  \n",
       "SiteEnergyUse(kBtu)              6.468090e+06  8.739237e+08  \n",
       "SiteEnergyUseWN(kBtu)            6.721651e+06  4.716139e+08  \n",
       "SteamUse(kBtu)                   0.000000e+00  1.349435e+08  \n",
       "Electricity(kWh)                 1.275798e+06  1.925775e+08  \n",
       "Electricity(kBtu)                4.353024e+06  6.570744e+08  \n",
       "NaturalGas(therms)               1.534335e+04  2.979090e+06  \n",
       "NaturalGas(kBtu)                 1.534335e+06  2.979090e+08  \n",
       "Comments                                  NaN           NaN  \n",
       "TotalGHGEmissions                1.351100e+02  1.687098e+04  \n",
       "GHGEmissionsIntensity            1.740000e+00  3.409000e+01  "
      ]
     },
     "execution_count": 21,
     "metadata": {},
     "output_type": "execute_result"
    }
   ],
   "source": [
    "df[floats_columns].describe().transpose()"
   ]
  },
  {
   "cell_type": "markdown",
   "id": "d42122a0",
   "metadata": {},
   "source": [
    "## Valeurs aberrantes\n",
    "**Electricity(kBtu)**, \t**Electricity(kWh)** et **SourceEUIWN(kBtu/sf)** negatifs. Une propriete a enlever du dataset\t"
   ]
  },
  {
   "cell_type": "code",
   "execution_count": 22,
   "id": "64593bdf",
   "metadata": {},
   "outputs": [],
   "source": [
    "df=df[df['Electricity(kWh)']>=0]"
   ]
  },
  {
   "cell_type": "code",
   "execution_count": 23,
   "id": "37cb99b3",
   "metadata": {},
   "outputs": [
    {
     "data": {
      "text/html": [
       "<div>\n",
       "<style scoped>\n",
       "    .dataframe tbody tr th:only-of-type {\n",
       "        vertical-align: middle;\n",
       "    }\n",
       "\n",
       "    .dataframe tbody tr th {\n",
       "        vertical-align: top;\n",
       "    }\n",
       "\n",
       "    .dataframe thead th {\n",
       "        text-align: right;\n",
       "    }\n",
       "</style>\n",
       "<table border=\"1\" class=\"dataframe\">\n",
       "  <thead>\n",
       "    <tr style=\"text-align: right;\">\n",
       "      <th></th>\n",
       "      <th>count</th>\n",
       "      <th>mean</th>\n",
       "      <th>std</th>\n",
       "      <th>min</th>\n",
       "      <th>25%</th>\n",
       "      <th>50%</th>\n",
       "      <th>75%</th>\n",
       "      <th>max</th>\n",
       "    </tr>\n",
       "  </thead>\n",
       "  <tbody>\n",
       "    <tr>\n",
       "      <th>ZipCode</th>\n",
       "      <td>2020.0</td>\n",
       "      <td>9.811673e+04</td>\n",
       "      <td>1.834977e+01</td>\n",
       "      <td>98006.00000</td>\n",
       "      <td>9.810400e+04</td>\n",
       "      <td>9.811200e+04</td>\n",
       "      <td>9.812200e+04</td>\n",
       "      <td>9.820400e+04</td>\n",
       "    </tr>\n",
       "    <tr>\n",
       "      <th>Latitude</th>\n",
       "      <td>2036.0</td>\n",
       "      <td>4.761836e+01</td>\n",
       "      <td>4.766836e-02</td>\n",
       "      <td>47.49917</td>\n",
       "      <td>4.759401e+01</td>\n",
       "      <td>4.761387e+01</td>\n",
       "      <td>4.765150e+01</td>\n",
       "      <td>4.773387e+01</td>\n",
       "    </tr>\n",
       "    <tr>\n",
       "      <th>Longitude</th>\n",
       "      <td>2036.0</td>\n",
       "      <td>-1.223332e+02</td>\n",
       "      <td>2.494503e-02</td>\n",
       "      <td>-122.41182</td>\n",
       "      <td>-1.223446e+02</td>\n",
       "      <td>-1.223330e+02</td>\n",
       "      <td>-1.223211e+02</td>\n",
       "      <td>-1.222210e+02</td>\n",
       "    </tr>\n",
       "    <tr>\n",
       "      <th>NumberofBuildings</th>\n",
       "      <td>2036.0</td>\n",
       "      <td>1.143910e+00</td>\n",
       "      <td>2.657041e+00</td>\n",
       "      <td>0.00000</td>\n",
       "      <td>1.000000e+00</td>\n",
       "      <td>1.000000e+00</td>\n",
       "      <td>1.000000e+00</td>\n",
       "      <td>1.110000e+02</td>\n",
       "    </tr>\n",
       "    <tr>\n",
       "      <th>LargestPropertyUseTypeGFA</th>\n",
       "      <td>2031.0</td>\n",
       "      <td>9.614322e+04</td>\n",
       "      <td>2.539765e+05</td>\n",
       "      <td>5656.00000</td>\n",
       "      <td>2.550000e+04</td>\n",
       "      <td>4.491300e+04</td>\n",
       "      <td>9.538700e+04</td>\n",
       "      <td>9.320156e+06</td>\n",
       "    </tr>\n",
       "    <tr>\n",
       "      <th>SecondLargestPropertyUseTypeGFA</th>\n",
       "      <td>1210.0</td>\n",
       "      <td>3.267839e+04</td>\n",
       "      <td>6.187339e+04</td>\n",
       "      <td>0.00000</td>\n",
       "      <td>5.253500e+03</td>\n",
       "      <td>1.135150e+04</td>\n",
       "      <td>2.956475e+04</td>\n",
       "      <td>6.867500e+05</td>\n",
       "    </tr>\n",
       "    <tr>\n",
       "      <th>ThirdLargestPropertyUseTypeGFA</th>\n",
       "      <td>591.0</td>\n",
       "      <td>1.180583e+04</td>\n",
       "      <td>2.944290e+04</td>\n",
       "      <td>0.00000</td>\n",
       "      <td>2.299000e+03</td>\n",
       "      <td>5.090000e+03</td>\n",
       "      <td>1.018250e+04</td>\n",
       "      <td>4.597480e+05</td>\n",
       "    </tr>\n",
       "    <tr>\n",
       "      <th>ENERGYSTARScore</th>\n",
       "      <td>1298.0</td>\n",
       "      <td>6.600924e+01</td>\n",
       "      <td>2.857389e+01</td>\n",
       "      <td>1.00000</td>\n",
       "      <td>4.900000e+01</td>\n",
       "      <td>7.450000e+01</td>\n",
       "      <td>9.000000e+01</td>\n",
       "      <td>1.000000e+02</td>\n",
       "    </tr>\n",
       "    <tr>\n",
       "      <th>SiteEUI(kBtu/sf)</th>\n",
       "      <td>2035.0</td>\n",
       "      <td>6.706241e+01</td>\n",
       "      <td>6.842223e+01</td>\n",
       "      <td>0.00000</td>\n",
       "      <td>3.200000e+01</td>\n",
       "      <td>4.800000e+01</td>\n",
       "      <td>7.500000e+01</td>\n",
       "      <td>8.344000e+02</td>\n",
       "    </tr>\n",
       "    <tr>\n",
       "      <th>SiteEUIWN(kBtu/sf)</th>\n",
       "      <td>2035.0</td>\n",
       "      <td>6.937459e+01</td>\n",
       "      <td>6.937366e+01</td>\n",
       "      <td>0.00000</td>\n",
       "      <td>3.400000e+01</td>\n",
       "      <td>5.070000e+01</td>\n",
       "      <td>7.840000e+01</td>\n",
       "      <td>8.344000e+02</td>\n",
       "    </tr>\n",
       "    <tr>\n",
       "      <th>SourceEUI(kBtu/sf)</th>\n",
       "      <td>2036.0</td>\n",
       "      <td>1.632780e+02</td>\n",
       "      <td>1.711621e+02</td>\n",
       "      <td>0.00000</td>\n",
       "      <td>7.830000e+01</td>\n",
       "      <td>1.192000e+02</td>\n",
       "      <td>1.850000e+02</td>\n",
       "      <td>2.620000e+03</td>\n",
       "    </tr>\n",
       "    <tr>\n",
       "      <th>SourceEUIWN(kBtu/sf)</th>\n",
       "      <td>2036.0</td>\n",
       "      <td>1.658239e+02</td>\n",
       "      <td>1.711041e+02</td>\n",
       "      <td>0.00000</td>\n",
       "      <td>8.127500e+01</td>\n",
       "      <td>1.226000e+02</td>\n",
       "      <td>1.884250e+02</td>\n",
       "      <td>2.620000e+03</td>\n",
       "    </tr>\n",
       "    <tr>\n",
       "      <th>SiteEnergyUse(kBtu)</th>\n",
       "      <td>2036.0</td>\n",
       "      <td>7.668814e+06</td>\n",
       "      <td>2.750964e+07</td>\n",
       "      <td>0.00000</td>\n",
       "      <td>1.236945e+06</td>\n",
       "      <td>2.498541e+06</td>\n",
       "      <td>6.482950e+06</td>\n",
       "      <td>8.739237e+08</td>\n",
       "    </tr>\n",
       "    <tr>\n",
       "      <th>SiteEnergyUseWN(kBtu)</th>\n",
       "      <td>2035.0</td>\n",
       "      <td>7.387158e+06</td>\n",
       "      <td>2.013726e+07</td>\n",
       "      <td>0.00000</td>\n",
       "      <td>1.295847e+06</td>\n",
       "      <td>2.637724e+06</td>\n",
       "      <td>6.731997e+06</td>\n",
       "      <td>4.716139e+08</td>\n",
       "    </tr>\n",
       "    <tr>\n",
       "      <th>SteamUse(kBtu)</th>\n",
       "      <td>2036.0</td>\n",
       "      <td>4.431191e+05</td>\n",
       "      <td>5.018684e+06</td>\n",
       "      <td>0.00000</td>\n",
       "      <td>0.000000e+00</td>\n",
       "      <td>0.000000e+00</td>\n",
       "      <td>0.000000e+00</td>\n",
       "      <td>1.349435e+08</td>\n",
       "    </tr>\n",
       "    <tr>\n",
       "      <th>Electricity(kWh)</th>\n",
       "      <td>2036.0</td>\n",
       "      <td>1.543828e+06</td>\n",
       "      <td>5.539316e+06</td>\n",
       "      <td>0.00000</td>\n",
       "      <td>2.204088e+05</td>\n",
       "      <td>4.718616e+05</td>\n",
       "      <td>1.276243e+06</td>\n",
       "      <td>1.925775e+08</td>\n",
       "    </tr>\n",
       "    <tr>\n",
       "      <th>Electricity(kBtu)</th>\n",
       "      <td>2036.0</td>\n",
       "      <td>5.267542e+06</td>\n",
       "      <td>1.890014e+07</td>\n",
       "      <td>0.00000</td>\n",
       "      <td>7.520348e+05</td>\n",
       "      <td>1.609992e+06</td>\n",
       "      <td>4.354542e+06</td>\n",
       "      <td>6.570744e+08</td>\n",
       "    </tr>\n",
       "    <tr>\n",
       "      <th>NaturalGas(therms)</th>\n",
       "      <td>2036.0</td>\n",
       "      <td>1.861641e+04</td>\n",
       "      <td>8.533789e+04</td>\n",
       "      <td>0.00000</td>\n",
       "      <td>0.000000e+00</td>\n",
       "      <td>5.156890e+03</td>\n",
       "      <td>1.534520e+04</td>\n",
       "      <td>2.979090e+06</td>\n",
       "    </tr>\n",
       "    <tr>\n",
       "      <th>NaturalGas(kBtu)</th>\n",
       "      <td>2036.0</td>\n",
       "      <td>1.861641e+06</td>\n",
       "      <td>8.533789e+06</td>\n",
       "      <td>0.00000</td>\n",
       "      <td>0.000000e+00</td>\n",
       "      <td>5.156890e+05</td>\n",
       "      <td>1.534520e+06</td>\n",
       "      <td>2.979090e+08</td>\n",
       "    </tr>\n",
       "    <tr>\n",
       "      <th>Comments</th>\n",
       "      <td>0.0</td>\n",
       "      <td>NaN</td>\n",
       "      <td>NaN</td>\n",
       "      <td>NaN</td>\n",
       "      <td>NaN</td>\n",
       "      <td>NaN</td>\n",
       "      <td>NaN</td>\n",
       "      <td>NaN</td>\n",
       "    </tr>\n",
       "    <tr>\n",
       "      <th>TotalGHGEmissions</th>\n",
       "      <td>2036.0</td>\n",
       "      <td>1.697973e+02</td>\n",
       "      <td>6.857019e+02</td>\n",
       "      <td>0.00000</td>\n",
       "      <td>1.894500e+01</td>\n",
       "      <td>4.914500e+01</td>\n",
       "      <td>1.351400e+02</td>\n",
       "      <td>1.687098e+04</td>\n",
       "    </tr>\n",
       "    <tr>\n",
       "      <th>GHGEmissionsIntensity</th>\n",
       "      <td>2036.0</td>\n",
       "      <td>1.483364e+00</td>\n",
       "      <td>2.174234e+00</td>\n",
       "      <td>0.00000</td>\n",
       "      <td>3.200000e-01</td>\n",
       "      <td>8.000000e-01</td>\n",
       "      <td>1.740000e+00</td>\n",
       "      <td>3.409000e+01</td>\n",
       "    </tr>\n",
       "  </tbody>\n",
       "</table>\n",
       "</div>"
      ],
      "text/plain": [
       "                                  count          mean           std  \\\n",
       "ZipCode                          2020.0  9.811673e+04  1.834977e+01   \n",
       "Latitude                         2036.0  4.761836e+01  4.766836e-02   \n",
       "Longitude                        2036.0 -1.223332e+02  2.494503e-02   \n",
       "NumberofBuildings                2036.0  1.143910e+00  2.657041e+00   \n",
       "LargestPropertyUseTypeGFA        2031.0  9.614322e+04  2.539765e+05   \n",
       "SecondLargestPropertyUseTypeGFA  1210.0  3.267839e+04  6.187339e+04   \n",
       "ThirdLargestPropertyUseTypeGFA    591.0  1.180583e+04  2.944290e+04   \n",
       "ENERGYSTARScore                  1298.0  6.600924e+01  2.857389e+01   \n",
       "SiteEUI(kBtu/sf)                 2035.0  6.706241e+01  6.842223e+01   \n",
       "SiteEUIWN(kBtu/sf)               2035.0  6.937459e+01  6.937366e+01   \n",
       "SourceEUI(kBtu/sf)               2036.0  1.632780e+02  1.711621e+02   \n",
       "SourceEUIWN(kBtu/sf)             2036.0  1.658239e+02  1.711041e+02   \n",
       "SiteEnergyUse(kBtu)              2036.0  7.668814e+06  2.750964e+07   \n",
       "SiteEnergyUseWN(kBtu)            2035.0  7.387158e+06  2.013726e+07   \n",
       "SteamUse(kBtu)                   2036.0  4.431191e+05  5.018684e+06   \n",
       "Electricity(kWh)                 2036.0  1.543828e+06  5.539316e+06   \n",
       "Electricity(kBtu)                2036.0  5.267542e+06  1.890014e+07   \n",
       "NaturalGas(therms)               2036.0  1.861641e+04  8.533789e+04   \n",
       "NaturalGas(kBtu)                 2036.0  1.861641e+06  8.533789e+06   \n",
       "Comments                            0.0           NaN           NaN   \n",
       "TotalGHGEmissions                2036.0  1.697973e+02  6.857019e+02   \n",
       "GHGEmissionsIntensity            2036.0  1.483364e+00  2.174234e+00   \n",
       "\n",
       "                                         min           25%           50%  \\\n",
       "ZipCode                          98006.00000  9.810400e+04  9.811200e+04   \n",
       "Latitude                            47.49917  4.759401e+01  4.761387e+01   \n",
       "Longitude                         -122.41182 -1.223446e+02 -1.223330e+02   \n",
       "NumberofBuildings                    0.00000  1.000000e+00  1.000000e+00   \n",
       "LargestPropertyUseTypeGFA         5656.00000  2.550000e+04  4.491300e+04   \n",
       "SecondLargestPropertyUseTypeGFA      0.00000  5.253500e+03  1.135150e+04   \n",
       "ThirdLargestPropertyUseTypeGFA       0.00000  2.299000e+03  5.090000e+03   \n",
       "ENERGYSTARScore                      1.00000  4.900000e+01  7.450000e+01   \n",
       "SiteEUI(kBtu/sf)                     0.00000  3.200000e+01  4.800000e+01   \n",
       "SiteEUIWN(kBtu/sf)                   0.00000  3.400000e+01  5.070000e+01   \n",
       "SourceEUI(kBtu/sf)                   0.00000  7.830000e+01  1.192000e+02   \n",
       "SourceEUIWN(kBtu/sf)                 0.00000  8.127500e+01  1.226000e+02   \n",
       "SiteEnergyUse(kBtu)                  0.00000  1.236945e+06  2.498541e+06   \n",
       "SiteEnergyUseWN(kBtu)                0.00000  1.295847e+06  2.637724e+06   \n",
       "SteamUse(kBtu)                       0.00000  0.000000e+00  0.000000e+00   \n",
       "Electricity(kWh)                     0.00000  2.204088e+05  4.718616e+05   \n",
       "Electricity(kBtu)                    0.00000  7.520348e+05  1.609992e+06   \n",
       "NaturalGas(therms)                   0.00000  0.000000e+00  5.156890e+03   \n",
       "NaturalGas(kBtu)                     0.00000  0.000000e+00  5.156890e+05   \n",
       "Comments                                 NaN           NaN           NaN   \n",
       "TotalGHGEmissions                    0.00000  1.894500e+01  4.914500e+01   \n",
       "GHGEmissionsIntensity                0.00000  3.200000e-01  8.000000e-01   \n",
       "\n",
       "                                          75%           max  \n",
       "ZipCode                          9.812200e+04  9.820400e+04  \n",
       "Latitude                         4.765150e+01  4.773387e+01  \n",
       "Longitude                       -1.223211e+02 -1.222210e+02  \n",
       "NumberofBuildings                1.000000e+00  1.110000e+02  \n",
       "LargestPropertyUseTypeGFA        9.538700e+04  9.320156e+06  \n",
       "SecondLargestPropertyUseTypeGFA  2.956475e+04  6.867500e+05  \n",
       "ThirdLargestPropertyUseTypeGFA   1.018250e+04  4.597480e+05  \n",
       "ENERGYSTARScore                  9.000000e+01  1.000000e+02  \n",
       "SiteEUI(kBtu/sf)                 7.500000e+01  8.344000e+02  \n",
       "SiteEUIWN(kBtu/sf)               7.840000e+01  8.344000e+02  \n",
       "SourceEUI(kBtu/sf)               1.850000e+02  2.620000e+03  \n",
       "SourceEUIWN(kBtu/sf)             1.884250e+02  2.620000e+03  \n",
       "SiteEnergyUse(kBtu)              6.482950e+06  8.739237e+08  \n",
       "SiteEnergyUseWN(kBtu)            6.731997e+06  4.716139e+08  \n",
       "SteamUse(kBtu)                   0.000000e+00  1.349435e+08  \n",
       "Electricity(kWh)                 1.276243e+06  1.925775e+08  \n",
       "Electricity(kBtu)                4.354542e+06  6.570744e+08  \n",
       "NaturalGas(therms)               1.534520e+04  2.979090e+06  \n",
       "NaturalGas(kBtu)                 1.534520e+06  2.979090e+08  \n",
       "Comments                                  NaN           NaN  \n",
       "TotalGHGEmissions                1.351400e+02  1.687098e+04  \n",
       "GHGEmissionsIntensity            1.740000e+00  3.409000e+01  "
      ]
     },
     "execution_count": 23,
     "metadata": {},
     "output_type": "execute_result"
    }
   ],
   "source": [
    "df[floats_columns].describe().transpose()"
   ]
  },
  {
   "cell_type": "markdown",
   "id": "03cc8913",
   "metadata": {},
   "source": [
    "## Valeurs manquantes"
   ]
  },
  {
   "cell_type": "code",
   "execution_count": 24,
   "id": "8c385cda",
   "metadata": {},
   "outputs": [
    {
     "data": {
      "text/plain": [
       "Comments                           1.000000\n",
       "ThirdLargestPropertyUseTypeGFA     0.709725\n",
       "SecondLargestPropertyUseTypeGFA    0.405697\n",
       "ENERGYSTARScore                    0.362475\n",
       "ZipCode                            0.007859\n",
       "LargestPropertyUseTypeGFA          0.002456\n",
       "SiteEUI(kBtu/sf)                   0.000491\n",
       "SiteEUIWN(kBtu/sf)                 0.000491\n",
       "SiteEnergyUseWN(kBtu)              0.000491\n",
       "Electricity(kWh)                   0.000000\n",
       "dtype: float64"
      ]
     },
     "execution_count": 24,
     "metadata": {},
     "output_type": "execute_result"
    }
   ],
   "source": [
    "df[floats_columns].isna().mean().sort_values(ascending=False).head(10)"
   ]
  },
  {
   "cell_type": "markdown",
   "id": "cacf4ca7",
   "metadata": {},
   "source": [
    "### Comments\n",
    "Competement vide, colonne a suprimer"
   ]
  },
  {
   "cell_type": "code",
   "execution_count": 25,
   "id": "da3ae7b4",
   "metadata": {},
   "outputs": [],
   "source": [
    "df=df.drop(columns=['Comments'])"
   ]
  },
  {
   "cell_type": "markdown",
   "id": "0c11e599",
   "metadata": {},
   "source": [
    "### ThirdLargestPropertyUseTypeGFA   et SecondLargestPropertyUseTypeGFA\n",
    "Remplacement par 0"
   ]
  },
  {
   "cell_type": "code",
   "execution_count": 26,
   "id": "c1e44598",
   "metadata": {},
   "outputs": [],
   "source": [
    "df[['ThirdLargestPropertyUseTypeGFA','SecondLargestPropertyUseTypeGFA']]=df[['ThirdLargestPropertyUseTypeGFA','SecondLargestPropertyUseTypeGFA']].fillna(0)"
   ]
  },
  {
   "cell_type": "markdown",
   "id": "e83e9e83",
   "metadata": {},
   "source": [
    "### ZipCode\n",
    "Remplacement par la mediane"
   ]
  },
  {
   "cell_type": "code",
   "execution_count": 27,
   "id": "3e352d20",
   "metadata": {},
   "outputs": [],
   "source": [
    "import numpy as np\n",
    "from sklearn.impute import SimpleImputer\n",
    "imp_median= SimpleImputer(missing_values=np.nan, strategy='median')\n",
    "df['ZipCode']=imp_median.fit_transform(df[['ZipCode']])"
   ]
  },
  {
   "cell_type": "markdown",
   "id": "ed956f6d",
   "metadata": {},
   "source": [
    "### LargestPropertyUseTypeGFA\n",
    "Remplacement par PropertyGFATotal"
   ]
  },
  {
   "cell_type": "code",
   "execution_count": 28,
   "id": "a2705db1",
   "metadata": {},
   "outputs": [],
   "source": [
    "df.loc[df['LargestPropertyUseTypeGFA'].isna(),'LargestPropertyUseTypeGFA']=df.loc[df['LargestPropertyUseTypeGFA'].isna(),'PropertyGFATotal']"
   ]
  },
  {
   "cell_type": "markdown",
   "id": "ff5644cd",
   "metadata": {},
   "source": [
    "### SiteEUI(kBtu/sf)"
   ]
  },
  {
   "cell_type": "code",
   "execution_count": 29,
   "id": "dc067ae7",
   "metadata": {},
   "outputs": [
    {
     "data": {
      "text/html": [
       "<div>\n",
       "<style scoped>\n",
       "    .dataframe tbody tr th:only-of-type {\n",
       "        vertical-align: middle;\n",
       "    }\n",
       "\n",
       "    .dataframe tbody tr th {\n",
       "        vertical-align: top;\n",
       "    }\n",
       "\n",
       "    .dataframe thead th {\n",
       "        text-align: right;\n",
       "    }\n",
       "</style>\n",
       "<table border=\"1\" class=\"dataframe\">\n",
       "  <thead>\n",
       "    <tr style=\"text-align: right;\">\n",
       "      <th></th>\n",
       "      <th>SiteEUI(kBtu/sf)</th>\n",
       "      <th>SiteEUIWN(kBtu/sf)</th>\n",
       "      <th>SourceEUI(kBtu/sf)</th>\n",
       "      <th>SourceEUIWN(kBtu/sf)</th>\n",
       "      <th>SiteEnergyUseWN(kBtu)</th>\n",
       "      <th>SiteEnergyUse(kBtu)</th>\n",
       "    </tr>\n",
       "  </thead>\n",
       "  <tbody>\n",
       "    <tr>\n",
       "      <th>304</th>\n",
       "      <td>NaN</td>\n",
       "      <td>0.0</td>\n",
       "      <td>0.0</td>\n",
       "      <td>0.0</td>\n",
       "      <td>0.0</td>\n",
       "      <td>0.0</td>\n",
       "    </tr>\n",
       "  </tbody>\n",
       "</table>\n",
       "</div>"
      ],
      "text/plain": [
       "     SiteEUI(kBtu/sf)  SiteEUIWN(kBtu/sf)  SourceEUI(kBtu/sf)  \\\n",
       "304               NaN                 0.0                 0.0   \n",
       "\n",
       "     SourceEUIWN(kBtu/sf)  SiteEnergyUseWN(kBtu)  SiteEnergyUse(kBtu)  \n",
       "304                   0.0                    0.0                  0.0  "
      ]
     },
     "execution_count": 29,
     "metadata": {},
     "output_type": "execute_result"
    }
   ],
   "source": [
    "df[df['SiteEUI(kBtu/sf)'].isna()][['SiteEUI(kBtu/sf)', 'SiteEUIWN(kBtu/sf)',\n",
    "       'SourceEUI(kBtu/sf)', 'SourceEUIWN(kBtu/sf)','SiteEnergyUseWN(kBtu)','SiteEnergyUse(kBtu)']]"
   ]
  },
  {
   "cell_type": "code",
   "execution_count": 30,
   "id": "fec71531",
   "metadata": {},
   "outputs": [],
   "source": [
    "df.loc[df['SiteEUI(kBtu/sf)'].isna(),'SiteEUI(kBtu/sf)']=0"
   ]
  },
  {
   "cell_type": "markdown",
   "id": "98d1a883",
   "metadata": {},
   "source": [
    "### SiteEUIWN(kBtu/sf)"
   ]
  },
  {
   "cell_type": "code",
   "execution_count": 31,
   "id": "19a9ebd4",
   "metadata": {},
   "outputs": [
    {
     "data": {
      "text/html": [
       "<div>\n",
       "<style scoped>\n",
       "    .dataframe tbody tr th:only-of-type {\n",
       "        vertical-align: middle;\n",
       "    }\n",
       "\n",
       "    .dataframe tbody tr th {\n",
       "        vertical-align: top;\n",
       "    }\n",
       "\n",
       "    .dataframe thead th {\n",
       "        text-align: right;\n",
       "    }\n",
       "</style>\n",
       "<table border=\"1\" class=\"dataframe\">\n",
       "  <thead>\n",
       "    <tr style=\"text-align: right;\">\n",
       "      <th></th>\n",
       "      <th>SiteEUI(kBtu/sf)</th>\n",
       "      <th>SiteEUIWN(kBtu/sf)</th>\n",
       "      <th>SourceEUI(kBtu/sf)</th>\n",
       "      <th>SourceEUIWN(kBtu/sf)</th>\n",
       "      <th>SiteEnergyUseWN(kBtu)</th>\n",
       "      <th>SiteEnergyUse(kBtu)</th>\n",
       "    </tr>\n",
       "  </thead>\n",
       "  <tbody>\n",
       "    <tr>\n",
       "      <th>563</th>\n",
       "      <td>39.5</td>\n",
       "      <td>NaN</td>\n",
       "      <td>128.0</td>\n",
       "      <td>0.0</td>\n",
       "      <td>NaN</td>\n",
       "      <td>5177270.5</td>\n",
       "    </tr>\n",
       "  </tbody>\n",
       "</table>\n",
       "</div>"
      ],
      "text/plain": [
       "     SiteEUI(kBtu/sf)  SiteEUIWN(kBtu/sf)  SourceEUI(kBtu/sf)  \\\n",
       "563              39.5                 NaN               128.0   \n",
       "\n",
       "     SourceEUIWN(kBtu/sf)  SiteEnergyUseWN(kBtu)  SiteEnergyUse(kBtu)  \n",
       "563                   0.0                    NaN            5177270.5  "
      ]
     },
     "execution_count": 31,
     "metadata": {},
     "output_type": "execute_result"
    }
   ],
   "source": [
    "df[df['SiteEUIWN(kBtu/sf)'].isna()][['SiteEUI(kBtu/sf)', 'SiteEUIWN(kBtu/sf)',\n",
    "       'SourceEUI(kBtu/sf)', 'SourceEUIWN(kBtu/sf)','SiteEnergyUseWN(kBtu)','SiteEnergyUse(kBtu)']]"
   ]
  },
  {
   "cell_type": "code",
   "execution_count": 32,
   "id": "2e330abf",
   "metadata": {},
   "outputs": [
    {
     "data": {
      "text/html": [
       "<div>\n",
       "<style scoped>\n",
       "    .dataframe tbody tr th:only-of-type {\n",
       "        vertical-align: middle;\n",
       "    }\n",
       "\n",
       "    .dataframe tbody tr th {\n",
       "        vertical-align: top;\n",
       "    }\n",
       "\n",
       "    .dataframe thead th {\n",
       "        text-align: right;\n",
       "    }\n",
       "</style>\n",
       "<table border=\"1\" class=\"dataframe\">\n",
       "  <thead>\n",
       "    <tr style=\"text-align: right;\">\n",
       "      <th></th>\n",
       "      <th>SiteEUI(kBtu/sf)</th>\n",
       "      <th>SiteEUIWN(kBtu/sf)</th>\n",
       "    </tr>\n",
       "  </thead>\n",
       "  <tbody>\n",
       "    <tr>\n",
       "      <th>0</th>\n",
       "      <td>81.699997</td>\n",
       "      <td>84.300003</td>\n",
       "    </tr>\n",
       "    <tr>\n",
       "      <th>1</th>\n",
       "      <td>94.800003</td>\n",
       "      <td>97.900002</td>\n",
       "    </tr>\n",
       "    <tr>\n",
       "      <th>2</th>\n",
       "      <td>96.000000</td>\n",
       "      <td>97.699997</td>\n",
       "    </tr>\n",
       "    <tr>\n",
       "      <th>3</th>\n",
       "      <td>110.800003</td>\n",
       "      <td>113.300003</td>\n",
       "    </tr>\n",
       "    <tr>\n",
       "      <th>4</th>\n",
       "      <td>114.800003</td>\n",
       "      <td>118.699997</td>\n",
       "    </tr>\n",
       "  </tbody>\n",
       "</table>\n",
       "</div>"
      ],
      "text/plain": [
       "   SiteEUI(kBtu/sf)  SiteEUIWN(kBtu/sf)\n",
       "0         81.699997           84.300003\n",
       "1         94.800003           97.900002\n",
       "2         96.000000           97.699997\n",
       "3        110.800003          113.300003\n",
       "4        114.800003          118.699997"
      ]
     },
     "execution_count": 32,
     "metadata": {},
     "output_type": "execute_result"
    }
   ],
   "source": [
    "df[['SiteEUI(kBtu/sf)', 'SiteEUIWN(kBtu/sf)']].head()"
   ]
  },
  {
   "cell_type": "code",
   "execution_count": 33,
   "id": "7e7afa23",
   "metadata": {},
   "outputs": [
    {
     "data": {
      "text/html": [
       "<div>\n",
       "<style scoped>\n",
       "    .dataframe tbody tr th:only-of-type {\n",
       "        vertical-align: middle;\n",
       "    }\n",
       "\n",
       "    .dataframe tbody tr th {\n",
       "        vertical-align: top;\n",
       "    }\n",
       "\n",
       "    .dataframe thead th {\n",
       "        text-align: right;\n",
       "    }\n",
       "</style>\n",
       "<table border=\"1\" class=\"dataframe\">\n",
       "  <thead>\n",
       "    <tr style=\"text-align: right;\">\n",
       "      <th></th>\n",
       "      <th>SiteEUI(kBtu/sf)</th>\n",
       "      <th>SiteEUIWN(kBtu/sf)</th>\n",
       "    </tr>\n",
       "  </thead>\n",
       "  <tbody>\n",
       "    <tr>\n",
       "      <th>SiteEUI(kBtu/sf)</th>\n",
       "      <td>1.000000</td>\n",
       "      <td>0.993087</td>\n",
       "    </tr>\n",
       "    <tr>\n",
       "      <th>SiteEUIWN(kBtu/sf)</th>\n",
       "      <td>0.993087</td>\n",
       "      <td>1.000000</td>\n",
       "    </tr>\n",
       "  </tbody>\n",
       "</table>\n",
       "</div>"
      ],
      "text/plain": [
       "                    SiteEUI(kBtu/sf)  SiteEUIWN(kBtu/sf)\n",
       "SiteEUI(kBtu/sf)            1.000000            0.993087\n",
       "SiteEUIWN(kBtu/sf)          0.993087            1.000000"
      ]
     },
     "execution_count": 33,
     "metadata": {},
     "output_type": "execute_result"
    }
   ],
   "source": [
    "df[['SiteEUI(kBtu/sf)', 'SiteEUIWN(kBtu/sf)']].corr()"
   ]
  },
  {
   "cell_type": "markdown",
   "id": "f4f612b9",
   "metadata": {},
   "source": [
    "Je fais une regression lineaire pour predire la valeur manquantes de **SiteEUIWN(kBtu/sf)** a partir de **SiteEUI(kBtu/sf)**"
   ]
  },
  {
   "cell_type": "code",
   "execution_count": 34,
   "id": "913c5814",
   "metadata": {},
   "outputs": [],
   "source": [
    "from sklearn.linear_model import LinearRegression\n",
    "import statsmodels.api as sm\n",
    "lr=LinearRegression()"
   ]
  },
  {
   "cell_type": "code",
   "execution_count": 35,
   "id": "9b293c63",
   "metadata": {},
   "outputs": [],
   "source": [
    "X=df.loc[~df['SiteEUIWN(kBtu/sf)'].isna(),'SiteEUI(kBtu/sf)']\n",
    "X=sm.add_constant(X)\n",
    "y=df.loc[~df['SiteEUIWN(kBtu/sf)'].isna(),'SiteEUIWN(kBtu/sf)']"
   ]
  },
  {
   "cell_type": "code",
   "execution_count": 36,
   "id": "ae562ea1",
   "metadata": {},
   "outputs": [
    {
     "data": {
      "text/plain": [
       "LinearRegression()"
      ]
     },
     "execution_count": 36,
     "metadata": {},
     "output_type": "execute_result"
    }
   ],
   "source": [
    "lr.fit(X,y)"
   ]
  },
  {
   "cell_type": "code",
   "execution_count": 37,
   "id": "f7ec3450",
   "metadata": {},
   "outputs": [
    {
     "data": {
      "text/plain": [
       "0.9862227576313398"
      ]
     },
     "execution_count": 37,
     "metadata": {},
     "output_type": "execute_result"
    }
   ],
   "source": [
    "lr.score(X,y)"
   ]
  },
  {
   "cell_type": "code",
   "execution_count": 38,
   "id": "307c5bb9",
   "metadata": {},
   "outputs": [],
   "source": [
    "value=df.loc[df['SiteEUIWN(kBtu/sf)'].isna(),'SiteEUI(kBtu/sf)'].values\n",
    "ypred=lr.predict(np.array([[1, value[0]]]))\n",
    "df.loc[df['SiteEUIWN(kBtu/sf)'].isna(),'SiteEUIWN(kBtu/sf)']=ypred"
   ]
  },
  {
   "cell_type": "markdown",
   "id": "8133abbb",
   "metadata": {},
   "source": [
    "### SiteEnergyUseWN(kBtu)"
   ]
  },
  {
   "cell_type": "code",
   "execution_count": 39,
   "id": "70ec0f48",
   "metadata": {},
   "outputs": [
    {
     "data": {
      "text/plain": [
       "563    5177270.5\n",
       "Name: SiteEnergyUse(kBtu), dtype: float64"
      ]
     },
     "execution_count": 39,
     "metadata": {},
     "output_type": "execute_result"
    }
   ],
   "source": [
    "df.loc[df['SiteEnergyUseWN(kBtu)'].isna(),'SiteEnergyUse(kBtu)']"
   ]
  },
  {
   "cell_type": "code",
   "execution_count": 40,
   "id": "e94ae5c2",
   "metadata": {},
   "outputs": [
    {
     "data": {
      "text/html": [
       "<div>\n",
       "<style scoped>\n",
       "    .dataframe tbody tr th:only-of-type {\n",
       "        vertical-align: middle;\n",
       "    }\n",
       "\n",
       "    .dataframe tbody tr th {\n",
       "        vertical-align: top;\n",
       "    }\n",
       "\n",
       "    .dataframe thead th {\n",
       "        text-align: right;\n",
       "    }\n",
       "</style>\n",
       "<table border=\"1\" class=\"dataframe\">\n",
       "  <thead>\n",
       "    <tr style=\"text-align: right;\">\n",
       "      <th></th>\n",
       "      <th>SiteEnergyUseWN(kBtu)</th>\n",
       "      <th>SiteEnergyUse(kBtu)</th>\n",
       "    </tr>\n",
       "  </thead>\n",
       "  <tbody>\n",
       "    <tr>\n",
       "      <th>SiteEnergyUseWN(kBtu)</th>\n",
       "      <td>1.000000</td>\n",
       "      <td>0.707759</td>\n",
       "    </tr>\n",
       "    <tr>\n",
       "      <th>SiteEnergyUse(kBtu)</th>\n",
       "      <td>0.707759</td>\n",
       "      <td>1.000000</td>\n",
       "    </tr>\n",
       "  </tbody>\n",
       "</table>\n",
       "</div>"
      ],
      "text/plain": [
       "                       SiteEnergyUseWN(kBtu)  SiteEnergyUse(kBtu)\n",
       "SiteEnergyUseWN(kBtu)               1.000000             0.707759\n",
       "SiteEnergyUse(kBtu)                 0.707759             1.000000"
      ]
     },
     "execution_count": 40,
     "metadata": {},
     "output_type": "execute_result"
    }
   ],
   "source": [
    "df[['SiteEnergyUseWN(kBtu)','SiteEnergyUse(kBtu)']].corr()"
   ]
  },
  {
   "cell_type": "markdown",
   "id": "5cafda96",
   "metadata": {},
   "source": [
    "Il ya une bonne correlation entre les variables 'SiteEnergyUseWN(kBtu)' et 'SiteEnergyUse(kBtu)' je vais donc faire une regression lineaire et predire la valeur de SiteEnergyUseWN(kBtu) a partir de SiteEnergyUse(kBtu)"
   ]
  },
  {
   "cell_type": "code",
   "execution_count": 41,
   "id": "53c97cba",
   "metadata": {},
   "outputs": [
    {
     "data": {
      "text/plain": [
       "LinearRegression()"
      ]
     },
     "execution_count": 41,
     "metadata": {},
     "output_type": "execute_result"
    }
   ],
   "source": [
    "X=df.loc[~df['SiteEnergyUseWN(kBtu)'].isna(), 'SiteEnergyUse(kBtu)']\n",
    "X = sm.add_constant(X)\n",
    "y=df.loc[~df['SiteEnergyUseWN(kBtu)'].isna(), 'SiteEnergyUseWN(kBtu)']\n",
    "lr.fit(X,y)\n",
    "   "
   ]
  },
  {
   "cell_type": "code",
   "execution_count": 42,
   "id": "889b33f2",
   "metadata": {},
   "outputs": [],
   "source": [
    "value=df.loc[df['SiteEnergyUseWN(kBtu)'].isna(),'SiteEnergyUse(kBtu)'].values\n",
    "ypred=lr.predict(np.array([[1, value[0]]]))\n",
    "df.loc[df['SiteEnergyUseWN(kBtu)'].isna(), 'SiteEnergyUseWN(kBtu)']=ypred"
   ]
  },
  {
   "cell_type": "markdown",
   "id": "a9860d9a",
   "metadata": {},
   "source": [
    "# Variables de type int"
   ]
  },
  {
   "cell_type": "code",
   "execution_count": 43,
   "id": "19aa8fa2",
   "metadata": {},
   "outputs": [
    {
     "name": "stdout",
     "output_type": "stream",
     "text": [
      "OSEBuildingID\n",
      "1        1\n",
      "24117    1\n",
      "24209    1\n",
      "24205    1\n",
      "24202    1\n",
      "        ..\n",
      "19679    1\n",
      "19673    1\n",
      "19668    1\n",
      "19667    1\n",
      "50226    1\n",
      "Name: OSEBuildingID, Length: 2036, dtype: int64\n",
      "-------------\n",
      "DataYear\n",
      "2016    2036\n",
      "Name: DataYear, dtype: int64\n",
      "-------------\n",
      "CouncilDistrictCode\n",
      "7    664\n",
      "2    435\n",
      "3    265\n",
      "4    216\n",
      "5    165\n",
      "6    149\n",
      "1    142\n",
      "Name: CouncilDistrictCode, dtype: int64\n",
      "-------------\n",
      "YearBuilt\n",
      "1900    52\n",
      "2000    47\n",
      "2008    44\n",
      "2001    42\n",
      "1910    40\n",
      "        ..\n",
      "1903     3\n",
      "1939     2\n",
      "1944     2\n",
      "1936     1\n",
      "1935     1\n",
      "Name: YearBuilt, Length: 113, dtype: int64\n",
      "-------------\n",
      "NumberofFloors\n",
      "1     465\n",
      "2     398\n",
      "3     320\n",
      "4     241\n",
      "6     155\n",
      "5     146\n",
      "7      66\n",
      "8      40\n",
      "10     22\n",
      "11     22\n",
      "0      16\n",
      "12     14\n",
      "13     13\n",
      "14     10\n",
      "9       9\n",
      "23      6\n",
      "19      6\n",
      "15      6\n",
      "18      6\n",
      "42      5\n",
      "33      5\n",
      "24      5\n",
      "20      5\n",
      "17      5\n",
      "21      5\n",
      "27      4\n",
      "25      4\n",
      "26      4\n",
      "22      4\n",
      "16      3\n",
      "29      3\n",
      "41      3\n",
      "37      2\n",
      "28      2\n",
      "36      2\n",
      "34      2\n",
      "63      1\n",
      "49      1\n",
      "47      1\n",
      "55      1\n",
      "46      1\n",
      "30      1\n",
      "56      1\n",
      "76      1\n",
      "99      1\n",
      "31      1\n",
      "39      1\n",
      "40      1\n",
      "Name: NumberofFloors, dtype: int64\n",
      "-------------\n",
      "PropertyGFATotal\n",
      "36000    8\n",
      "28800    7\n",
      "25920    7\n",
      "21600    6\n",
      "24000    5\n",
      "        ..\n",
      "21022    1\n",
      "93114    1\n",
      "38460    1\n",
      "37849    1\n",
      "18258    1\n",
      "Name: PropertyGFATotal, Length: 1950, dtype: int64\n",
      "-------------\n",
      "PropertyGFAParking\n",
      "0         1649\n",
      "13320        3\n",
      "20416        2\n",
      "10800        2\n",
      "25800        2\n",
      "          ... \n",
      "150455       1\n",
      "95281        1\n",
      "88405        1\n",
      "21600        1\n",
      "85028        1\n",
      "Name: PropertyGFAParking, Length: 381, dtype: int64\n",
      "-------------\n",
      "PropertyGFABuilding(s)\n",
      "36000    8\n",
      "25920    7\n",
      "28800    7\n",
      "21600    6\n",
      "24000    5\n",
      "        ..\n",
      "26815    1\n",
      "51489    1\n",
      "21022    1\n",
      "20214    1\n",
      "18258    1\n",
      "Name: PropertyGFABuilding(s), Length: 1946, dtype: int64\n",
      "-------------\n"
     ]
    }
   ],
   "source": [
    "int_columns=types[types=='int64'].index\n",
    "\n",
    "df[int_columns]\n",
    "\n",
    "for col in int_columns:\n",
    "    print(col)\n",
    "    print(df[col].value_counts())\n",
    "    print('-------------')"
   ]
  },
  {
   "cell_type": "markdown",
   "id": "1c0126ed",
   "metadata": {},
   "source": [
    "## Valeurs manquantes"
   ]
  },
  {
   "cell_type": "code",
   "execution_count": 44,
   "id": "a0b0c002",
   "metadata": {},
   "outputs": [
    {
     "data": {
      "text/plain": [
       "OSEBuildingID             0.0\n",
       "DataYear                  0.0\n",
       "CouncilDistrictCode       0.0\n",
       "YearBuilt                 0.0\n",
       "NumberofFloors            0.0\n",
       "PropertyGFATotal          0.0\n",
       "PropertyGFAParking        0.0\n",
       "PropertyGFABuilding(s)    0.0\n",
       "dtype: float64"
      ]
     },
     "execution_count": 44,
     "metadata": {},
     "output_type": "execute_result"
    }
   ],
   "source": [
    "df[int_columns].isna().mean().sort_values(ascending=False)"
   ]
  },
  {
   "cell_type": "markdown",
   "id": "0b840041",
   "metadata": {},
   "source": [
    "# Variable de type Bool\n",
    "Non pertinente pour les predictions"
   ]
  },
  {
   "cell_type": "code",
   "execution_count": 45,
   "id": "47a30d46",
   "metadata": {},
   "outputs": [
    {
     "data": {
      "text/plain": [
       "False    1943\n",
       "True       93\n",
       "Name: DefaultData, dtype: int64"
      ]
     },
     "execution_count": 45,
     "metadata": {},
     "output_type": "execute_result"
    }
   ],
   "source": [
    "df['DefaultData'].value_counts()"
   ]
  },
  {
   "cell_type": "markdown",
   "id": "068e5ec9",
   "metadata": {},
   "source": [
    "# Traitement des variables d'energie\n",
    "On transforme les variables energies en variable booleenne indiquant la presence ou non de la source d'energie correspondante"
   ]
  },
  {
   "cell_type": "code",
   "execution_count": 46,
   "id": "1351c538",
   "metadata": {},
   "outputs": [],
   "source": [
    "df.loc[df['SteamUse(kBtu)']!=0, 'SteamUse(kBtu)']=1\n",
    "df.loc[df['Electricity(kBtu)']!=0,'Electricity(kBtu)']=1\n",
    "df.loc[df['NaturalGas(kBtu)']!=0,'NaturalGas(kBtu)']=1"
   ]
  },
  {
   "cell_type": "code",
   "execution_count": 47,
   "id": "d958dc1c",
   "metadata": {},
   "outputs": [
    {
     "data": {
      "text/html": [
       "<div>\n",
       "<style scoped>\n",
       "    .dataframe tbody tr th:only-of-type {\n",
       "        vertical-align: middle;\n",
       "    }\n",
       "\n",
       "    .dataframe tbody tr th {\n",
       "        vertical-align: top;\n",
       "    }\n",
       "\n",
       "    .dataframe thead th {\n",
       "        text-align: right;\n",
       "    }\n",
       "</style>\n",
       "<table border=\"1\" class=\"dataframe\">\n",
       "  <thead>\n",
       "    <tr style=\"text-align: right;\">\n",
       "      <th></th>\n",
       "      <th>SteamUse(kBtu)</th>\n",
       "      <th>Electricity(kBtu)</th>\n",
       "      <th>NaturalGas(kBtu)</th>\n",
       "    </tr>\n",
       "  </thead>\n",
       "  <tbody>\n",
       "    <tr>\n",
       "      <th>count</th>\n",
       "      <td>2036.000000</td>\n",
       "      <td>2036.000000</td>\n",
       "      <td>2036.000000</td>\n",
       "    </tr>\n",
       "    <tr>\n",
       "      <th>mean</th>\n",
       "      <td>0.060413</td>\n",
       "      <td>0.994106</td>\n",
       "      <td>0.713654</td>\n",
       "    </tr>\n",
       "    <tr>\n",
       "      <th>std</th>\n",
       "      <td>0.238308</td>\n",
       "      <td>0.076564</td>\n",
       "      <td>0.452164</td>\n",
       "    </tr>\n",
       "    <tr>\n",
       "      <th>min</th>\n",
       "      <td>0.000000</td>\n",
       "      <td>0.000000</td>\n",
       "      <td>0.000000</td>\n",
       "    </tr>\n",
       "    <tr>\n",
       "      <th>25%</th>\n",
       "      <td>0.000000</td>\n",
       "      <td>1.000000</td>\n",
       "      <td>0.000000</td>\n",
       "    </tr>\n",
       "    <tr>\n",
       "      <th>50%</th>\n",
       "      <td>0.000000</td>\n",
       "      <td>1.000000</td>\n",
       "      <td>1.000000</td>\n",
       "    </tr>\n",
       "    <tr>\n",
       "      <th>75%</th>\n",
       "      <td>0.000000</td>\n",
       "      <td>1.000000</td>\n",
       "      <td>1.000000</td>\n",
       "    </tr>\n",
       "    <tr>\n",
       "      <th>max</th>\n",
       "      <td>1.000000</td>\n",
       "      <td>1.000000</td>\n",
       "      <td>1.000000</td>\n",
       "    </tr>\n",
       "  </tbody>\n",
       "</table>\n",
       "</div>"
      ],
      "text/plain": [
       "       SteamUse(kBtu)  Electricity(kBtu)  NaturalGas(kBtu)\n",
       "count     2036.000000        2036.000000       2036.000000\n",
       "mean         0.060413           0.994106          0.713654\n",
       "std          0.238308           0.076564          0.452164\n",
       "min          0.000000           0.000000          0.000000\n",
       "25%          0.000000           1.000000          0.000000\n",
       "50%          0.000000           1.000000          1.000000\n",
       "75%          0.000000           1.000000          1.000000\n",
       "max          1.000000           1.000000          1.000000"
      ]
     },
     "execution_count": 47,
     "metadata": {},
     "output_type": "execute_result"
    }
   ],
   "source": [
    "df[['SteamUse(kBtu)','Electricity(kBtu)','NaturalGas(kBtu)']].describe()"
   ]
  },
  {
   "cell_type": "markdown",
   "id": "f17287e3",
   "metadata": {},
   "source": [
    "J'enleve les colonnes contenants les informations sur les mesures des formes d'energies "
   ]
  },
  {
   "cell_type": "code",
   "execution_count": 48,
   "id": "4c1cea41",
   "metadata": {},
   "outputs": [],
   "source": [
    "df=df.drop(columns=['Electricity(kWh)', 'NaturalGas(therms)'])"
   ]
  },
  {
   "cell_type": "markdown",
   "id": "7390ed38",
   "metadata": {},
   "source": [
    "## ENERGYSTARScore"
   ]
  },
  {
   "cell_type": "code",
   "execution_count": 49,
   "id": "9cb656f9",
   "metadata": {},
   "outputs": [
    {
     "data": {
      "text/plain": [
       "ENERGYSTARScore    0.362475\n",
       "OSEBuildingID      0.000000\n",
       "dtype: float64"
      ]
     },
     "execution_count": 49,
     "metadata": {},
     "output_type": "execute_result"
    }
   ],
   "source": [
    "df.isna().mean().sort_values(ascending=False).head(2)"
   ]
  },
  {
   "cell_type": "code",
   "execution_count": 50,
   "id": "f93b5bff",
   "metadata": {},
   "outputs": [
    {
     "data": {
      "text/plain": [
       "count    1298.000000\n",
       "mean       66.009245\n",
       "std        28.573889\n",
       "min         1.000000\n",
       "25%        49.000000\n",
       "50%        74.500000\n",
       "75%        90.000000\n",
       "max       100.000000\n",
       "Name: ENERGYSTARScore, dtype: float64"
      ]
     },
     "execution_count": 50,
     "metadata": {},
     "output_type": "execute_result"
    }
   ],
   "source": [
    "df['ENERGYSTARScore'].describe()"
   ]
  },
  {
   "cell_type": "code",
   "execution_count": 51,
   "id": "f8cbe22a",
   "metadata": {},
   "outputs": [
    {
     "data": {
      "text/plain": [
       "<seaborn.axisgrid.FacetGrid at 0x26b771ecfd0>"
      ]
     },
     "execution_count": 51,
     "metadata": {},
     "output_type": "execute_result"
    },
    {
     "data": {
      "image/png": "[encoded data removed]",
      "text/plain": [
       "<Figure size 360x360 with 1 Axes>"
      ]
     },
     "metadata": {
      "needs_background": "light"
     },
     "output_type": "display_data"
    }
   ],
   "source": [
    "import seaborn as sns\n",
    "sns.displot(df['ENERGYSTARScore'])"
   ]
  },
  {
   "cell_type": "markdown",
   "id": "ab8f1e7e",
   "metadata": {},
   "source": [
    "Pour l'etude de l'importance de la variable ENERGYSTARScore, je prend un echantillon du dataset dans lequel la variable est bien definie (pas de NaN). On fera l'etude de l'importance de cette variable sur ce dataset"
   ]
  },
  {
   "cell_type": "code",
   "execution_count": 52,
   "id": "a7b77318",
   "metadata": {},
   "outputs": [
    {
     "data": {
      "text/plain": [
       "(1298, 43)"
      ]
     },
     "execution_count": 52,
     "metadata": {},
     "output_type": "execute_result"
    }
   ],
   "source": [
    "dfES=df[~df[\"ENERGYSTARScore\"].isna()]\n",
    "dfES.shape"
   ]
  },
  {
   "cell_type": "code",
   "execution_count": 53,
   "id": "a41d929e",
   "metadata": {},
   "outputs": [
    {
     "data": {
      "text/plain": [
       "OSEBuildingID                      0\n",
       "SourceEUIWN(kBtu/sf)               0\n",
       "SecondLargestPropertyUseTypeGFA    0\n",
       "ThirdLargestPropertyUseType        0\n",
       "ThirdLargestPropertyUseTypeGFA     0\n",
       "dtype: int64"
      ]
     },
     "execution_count": 53,
     "metadata": {},
     "output_type": "execute_result"
    }
   ],
   "source": [
    "dfES.isna().sum().sort_values(ascending=False).head()"
   ]
  },
  {
   "cell_type": "markdown",
   "id": "1f708645",
   "metadata": {},
   "source": [
    "## Dataset sans ENERGYSTARScore\n",
    "On utilisera un dataset sans la variable ENERGYSTARScore pour faire une etude plus complete."
   ]
  },
  {
   "cell_type": "code",
   "execution_count": 54,
   "id": "7a07a486",
   "metadata": {},
   "outputs": [],
   "source": [
    "df1=df.drop(columns=['ENERGYSTARScore'])"
   ]
  },
  {
   "cell_type": "code",
   "execution_count": 55,
   "id": "75a9354b",
   "metadata": {},
   "outputs": [
    {
     "data": {
      "text/plain": [
       "OSEBuildingID                      0\n",
       "SourceEUIWN(kBtu/sf)               0\n",
       "SecondLargestPropertyUseType       0\n",
       "SecondLargestPropertyUseTypeGFA    0\n",
       "ThirdLargestPropertyUseType        0\n",
       "dtype: int64"
      ]
     },
     "execution_count": 55,
     "metadata": {},
     "output_type": "execute_result"
    }
   ],
   "source": [
    "df1.isna().sum().sort_values(ascending=False).head()"
   ]
  },
  {
   "cell_type": "markdown",
   "id": "dbdae273",
   "metadata": {},
   "source": [
    "# Feature engine"
   ]
  },
  {
   "cell_type": "markdown",
   "id": "242c31e9",
   "metadata": {},
   "source": [
    "## DropConstantFeatures"
   ]
  },
  {
   "cell_type": "code",
   "execution_count": 56,
   "id": "a2bf07ef",
   "metadata": {},
   "outputs": [
    {
     "data": {
      "text/plain": [
       "DropConstantFeatures(tol=0.9)"
      ]
     },
     "execution_count": 56,
     "metadata": {},
     "output_type": "execute_result"
    }
   ],
   "source": [
    "from feature_engine.selection import DropConstantFeatures\n",
    "sel_drop = DropConstantFeatures(tol=0.90, variables=None, missing_values='raise')\n",
    "sel_drop.fit(df1)"
   ]
  },
  {
   "cell_type": "code",
   "execution_count": 57,
   "id": "979cfa38",
   "metadata": {},
   "outputs": [
    {
     "data": {
      "text/plain": [
       "['DataYear',\n",
       " 'City',\n",
       " 'State',\n",
       " 'NumberofBuildings',\n",
       " 'YearsENERGYSTARCertified',\n",
       " 'SteamUse(kBtu)',\n",
       " 'Electricity(kBtu)',\n",
       " 'DefaultData',\n",
       " 'ComplianceStatus',\n",
       " 'Outlier']"
      ]
     },
     "execution_count": 57,
     "metadata": {},
     "output_type": "execute_result"
    }
   ],
   "source": [
    "sel_drop.features_to_drop_"
   ]
  },
  {
   "cell_type": "code",
   "execution_count": 58,
   "id": "182c2b49",
   "metadata": {},
   "outputs": [
    {
     "data": {
      "text/plain": [
       "['DataYear',\n",
       " 'City',\n",
       " 'State',\n",
       " 'NumberofBuildings',\n",
       " 'YearsENERGYSTARCertified',\n",
       " 'SteamUse(kBtu)',\n",
       " 'Electricity(kBtu)',\n",
       " 'DefaultData',\n",
       " 'ComplianceStatus',\n",
       " 'Outlier']"
      ]
     },
     "execution_count": 58,
     "metadata": {},
     "output_type": "execute_result"
    }
   ],
   "source": [
    "sel_drop.features_to_drop_"
   ]
  },
  {
   "cell_type": "code",
   "execution_count": 59,
   "id": "eb7687bd",
   "metadata": {},
   "outputs": [],
   "source": [
    "df1=df1.drop(columns=['DataYear', 'City', 'State', 'NumberofBuildings', 'YearsENERGYSTARCertified',  'DefaultData',\n",
    " 'ComplianceStatus', 'Outlier'])"
   ]
  },
  {
   "cell_type": "code",
   "execution_count": 60,
   "id": "42bfceca",
   "metadata": {},
   "outputs": [
    {
     "data": {
      "text/plain": [
       "(2036, 34)"
      ]
     },
     "execution_count": 60,
     "metadata": {},
     "output_type": "execute_result"
    }
   ],
   "source": [
    "df1.shape"
   ]
  },
  {
   "cell_type": "code",
   "execution_count": 61,
   "id": "d0237dc1",
   "metadata": {},
   "outputs": [
    {
     "data": {
      "text/plain": [
       "DropConstantFeatures(tol=0.9)"
      ]
     },
     "execution_count": 61,
     "metadata": {},
     "output_type": "execute_result"
    }
   ],
   "source": [
    "sel_drop.fit(dfES)"
   ]
  },
  {
   "cell_type": "code",
   "execution_count": 62,
   "id": "11a81a96",
   "metadata": {},
   "outputs": [
    {
     "data": {
      "text/plain": [
       "['DataYear',\n",
       " 'City',\n",
       " 'State',\n",
       " 'NumberofBuildings',\n",
       " 'YearsENERGYSTARCertified',\n",
       " 'SteamUse(kBtu)',\n",
       " 'Electricity(kBtu)',\n",
       " 'DefaultData',\n",
       " 'ComplianceStatus',\n",
       " 'Outlier']"
      ]
     },
     "execution_count": 62,
     "metadata": {},
     "output_type": "execute_result"
    }
   ],
   "source": [
    "sel_drop.features_to_drop_"
   ]
  },
  {
   "cell_type": "code",
   "execution_count": 63,
   "id": "a8485c64",
   "metadata": {},
   "outputs": [],
   "source": [
    "dfES=dfES.drop(columns=['DataYear',\n",
    " 'City',\n",
    " 'State',\n",
    " 'NumberofBuildings',\n",
    " 'YearsENERGYSTARCertified',\n",
    " 'DefaultData',\n",
    " 'ComplianceStatus',\n",
    " 'Outlier'])"
   ]
  },
  {
   "cell_type": "code",
   "execution_count": 64,
   "id": "18eb007a",
   "metadata": {},
   "outputs": [
    {
     "data": {
      "text/plain": [
       "(1298, 35)"
      ]
     },
     "execution_count": 64,
     "metadata": {},
     "output_type": "execute_result"
    }
   ],
   "source": [
    "dfES.shape"
   ]
  },
  {
   "cell_type": "markdown",
   "id": "ffc0df55",
   "metadata": {},
   "source": [
    "## DropDuplicateFeatures"
   ]
  },
  {
   "cell_type": "code",
   "execution_count": 65,
   "id": "97c4085c",
   "metadata": {},
   "outputs": [],
   "source": [
    "from feature_engine.selection import DropDuplicateFeatures\n",
    "\n",
    "sel_duplicate = DropDuplicateFeatures(variables=None, missing_values='raise')\n",
    "df1=sel_duplicate.fit_transform(df1)"
   ]
  },
  {
   "cell_type": "code",
   "execution_count": 66,
   "id": "b190bcd9",
   "metadata": {},
   "outputs": [
    {
     "data": {
      "text/plain": [
       "[]"
      ]
     },
     "execution_count": 66,
     "metadata": {},
     "output_type": "execute_result"
    }
   ],
   "source": [
    "sel_duplicate.duplicated_feature_sets_\n"
   ]
  },
  {
   "cell_type": "code",
   "execution_count": 67,
   "id": "ed0c4d1c",
   "metadata": {},
   "outputs": [
    {
     "data": {
      "text/plain": [
       "[]"
      ]
     },
     "execution_count": 67,
     "metadata": {},
     "output_type": "execute_result"
    }
   ],
   "source": [
    "dfES=sel_duplicate.fit_transform(dfES)\n",
    "sel_duplicate.duplicated_feature_sets_"
   ]
  },
  {
   "cell_type": "markdown",
   "id": "57074fa5",
   "metadata": {},
   "source": [
    "## Correlated Features\n",
    "J'utilise cette fonctionalite pour avoir une idee sur les variables correlles uniquement, mais je ne fais pas un transfrom comme le choix des variables a supprimer est aleatoire "
   ]
  },
  {
   "cell_type": "code",
   "execution_count": 68,
   "id": "5b182ce0",
   "metadata": {},
   "outputs": [],
   "source": [
    "from feature_engine.selection import SmartCorrelatedSelection\n",
    "sel_correlated = SmartCorrelatedSelection(variables=None, method=\"pearson\", threshold=0.75, missing_values=\"raise\", selection_method=\"variance\",estimator=None)"
   ]
  },
  {
   "cell_type": "code",
   "execution_count": 69,
   "id": "74214489",
   "metadata": {},
   "outputs": [
    {
     "data": {
      "text/plain": [
       "SmartCorrelatedSelection(missing_values='raise', selection_method='variance',\n",
       "                         threshold=0.75)"
      ]
     },
     "execution_count": 69,
     "metadata": {},
     "output_type": "execute_result"
    }
   ],
   "source": [
    "sel_correlated.fit(df1)"
   ]
  },
  {
   "cell_type": "code",
   "execution_count": 70,
   "id": "c9a3b115",
   "metadata": {},
   "outputs": [
    {
     "data": {
      "text/plain": [
       "[{'LargestPropertyUseTypeGFA',\n",
       "  'PropertyGFABuilding(s)',\n",
       "  'PropertyGFATotal',\n",
       "  'SiteEnergyUse(kBtu)'},\n",
       " {'SiteEUI(kBtu/sf)',\n",
       "  'SiteEUIWN(kBtu/sf)',\n",
       "  'SourceEUI(kBtu/sf)',\n",
       "  'SourceEUIWN(kBtu/sf)'},\n",
       " {'SiteEnergyUseWN(kBtu)', 'TotalGHGEmissions'}]"
      ]
     },
     "execution_count": 70,
     "metadata": {},
     "output_type": "execute_result"
    }
   ],
   "source": [
    "sel_correlated.correlated_feature_sets_"
   ]
  },
  {
   "cell_type": "markdown",
   "id": "ec777957",
   "metadata": {},
   "source": [
    "## Correlation avec les variables cibles\n",
    "On regarde les variables fortement correles aux variables cibles a savoir **TotalGHGEmissions** et **SiteEnergyUse(kBtu)**"
   ]
  },
  {
   "cell_type": "markdown",
   "id": "86a5c401",
   "metadata": {},
   "source": [
    "### Les variables cibles"
   ]
  },
  {
   "cell_type": "code",
   "execution_count": 71,
   "id": "2852ecd6",
   "metadata": {},
   "outputs": [],
   "source": [
    "y=df1[['SiteEnergyUse(kBtu)', 'TotalGHGEmissions']]"
   ]
  },
  {
   "cell_type": "markdown",
   "id": "3614b728",
   "metadata": {},
   "source": [
    "### Remarque : \n",
    "Les variables cibles sont fortement correlees, il suffit probablement de faire une etude des hyperparametres sur l'une des variables"
   ]
  },
  {
   "cell_type": "code",
   "execution_count": 72,
   "id": "20077cee",
   "metadata": {},
   "outputs": [
    {
     "data": {
      "text/html": [
       "<div>\n",
       "<style scoped>\n",
       "    .dataframe tbody tr th:only-of-type {\n",
       "        vertical-align: middle;\n",
       "    }\n",
       "\n",
       "    .dataframe tbody tr th {\n",
       "        vertical-align: top;\n",
       "    }\n",
       "\n",
       "    .dataframe thead th {\n",
       "        text-align: right;\n",
       "    }\n",
       "</style>\n",
       "<table border=\"1\" class=\"dataframe\">\n",
       "  <thead>\n",
       "    <tr style=\"text-align: right;\">\n",
       "      <th></th>\n",
       "      <th>SiteEnergyUse(kBtu)</th>\n",
       "      <th>TotalGHGEmissions</th>\n",
       "    </tr>\n",
       "  </thead>\n",
       "  <tbody>\n",
       "    <tr>\n",
       "      <th>SiteEnergyUse(kBtu)</th>\n",
       "      <td>1.000000</td>\n",
       "      <td>0.860669</td>\n",
       "    </tr>\n",
       "    <tr>\n",
       "      <th>TotalGHGEmissions</th>\n",
       "      <td>0.860669</td>\n",
       "      <td>1.000000</td>\n",
       "    </tr>\n",
       "  </tbody>\n",
       "</table>\n",
       "</div>"
      ],
      "text/plain": [
       "                     SiteEnergyUse(kBtu)  TotalGHGEmissions\n",
       "SiteEnergyUse(kBtu)             1.000000           0.860669\n",
       "TotalGHGEmissions               0.860669           1.000000"
      ]
     },
     "execution_count": 72,
     "metadata": {},
     "output_type": "execute_result"
    }
   ],
   "source": [
    "y.corr()"
   ]
  },
  {
   "cell_type": "markdown",
   "id": "5c7d755e",
   "metadata": {},
   "source": [
    "### Les variables correlees avec SiteEnergyUse(kBtu)"
   ]
  },
  {
   "cell_type": "code",
   "execution_count": 73,
   "id": "bb62d2a0",
   "metadata": {},
   "outputs": [],
   "source": [
    "corr_energy=df1.corr()['SiteEnergyUse(kBtu)']"
   ]
  },
  {
   "cell_type": "code",
   "execution_count": 74,
   "id": "1027f43d",
   "metadata": {},
   "outputs": [
    {
     "data": {
      "text/plain": [
       "PropertyGFATotal             0.798337\n",
       "PropertyGFABuilding(s)       0.813925\n",
       "LargestPropertyUseTypeGFA    0.838447\n",
       "SiteEnergyUse(kBtu)          1.000000\n",
       "TotalGHGEmissions            0.860669\n",
       "Name: SiteEnergyUse(kBtu), dtype: float64"
      ]
     },
     "execution_count": 74,
     "metadata": {},
     "output_type": "execute_result"
    }
   ],
   "source": [
    "corr_energy[corr_energy>0.75]"
   ]
  },
  {
   "cell_type": "code",
   "execution_count": 75,
   "id": "fa4b478e",
   "metadata": {},
   "outputs": [
    {
     "data": {
      "text/plain": [
       "Index(['PropertyGFATotal', 'PropertyGFABuilding(s)',\n",
       "       'LargestPropertyUseTypeGFA', 'SiteEnergyUse(kBtu)',\n",
       "       'TotalGHGEmissions'],\n",
       "      dtype='object')"
      ]
     },
     "execution_count": 75,
     "metadata": {},
     "output_type": "execute_result"
    }
   ],
   "source": [
    "corr_consom=corr_energy[corr_energy>0.75].index\n",
    "corr_consom"
   ]
  },
  {
   "cell_type": "markdown",
   "id": "9e109118",
   "metadata": {},
   "source": [
    "### Les variables correlees a TotalGHGEmissions"
   ]
  },
  {
   "cell_type": "code",
   "execution_count": 76,
   "id": "e68fbc9d",
   "metadata": {},
   "outputs": [
    {
     "data": {
      "text/plain": [
       "SiteEnergyUse(kBtu)      0.860669\n",
       "SiteEnergyUseWN(kBtu)    0.857128\n",
       "TotalGHGEmissions        1.000000\n",
       "Name: TotalGHGEmissions, dtype: float64"
      ]
     },
     "execution_count": 76,
     "metadata": {},
     "output_type": "execute_result"
    }
   ],
   "source": [
    "df1.corr()[df1.corr()['TotalGHGEmissions']>0.75]['TotalGHGEmissions']"
   ]
  },
  {
   "cell_type": "code",
   "execution_count": 77,
   "id": "01d2c572",
   "metadata": {},
   "outputs": [],
   "source": [
    "corr_emiss=df1.corr()[df1.corr()['TotalGHGEmissions']>0.75]['TotalGHGEmissions'].index"
   ]
  },
  {
   "cell_type": "code",
   "execution_count": 78,
   "id": "1310f03c",
   "metadata": {},
   "outputs": [
    {
     "data": {
      "text/plain": [
       "Index(['SiteEnergyUse(kBtu)', 'SiteEnergyUseWN(kBtu)', 'TotalGHGEmissions'], dtype='object')"
      ]
     },
     "execution_count": 78,
     "metadata": {},
     "output_type": "execute_result"
    }
   ],
   "source": [
    "corr_emiss"
   ]
  },
  {
   "cell_type": "markdown",
   "id": "e8c43276",
   "metadata": {},
   "source": [
    "## Preparation des datasets pour l'etude"
   ]
  },
  {
   "cell_type": "code",
   "execution_count": 79,
   "id": "dd0f4a3f",
   "metadata": {},
   "outputs": [],
   "source": [
    "columns_to_drop=['OSEBuildingID','PropertyName','Address', 'ZipCode', 'TaxParcelIdentificationNumber','GHGEmissionsIntensity','SiteEUI(kBtu/sf)', 'SiteEUIWN(kBtu/sf)', 'SourceEUI(kBtu/sf)',\n",
    "       'SourceEUIWN(kBtu/sf)', 'SiteEnergyUseWN(kBtu)']"
   ]
  },
  {
   "cell_type": "code",
   "execution_count": 80,
   "id": "32915860",
   "metadata": {},
   "outputs": [],
   "source": [
    "df1=df1.drop(columns=['ListOfAllPropertyUseTypes'])\n",
    "df1=df1.drop(columns=columns_to_drop)"
   ]
  },
  {
   "cell_type": "code",
   "execution_count": 81,
   "id": "c1af781d",
   "metadata": {},
   "outputs": [],
   "source": [
    "dfES=dfES.drop(columns=['ListOfAllPropertyUseTypes'])\n",
    "dfES=dfES.drop(columns=columns_to_drop)"
   ]
  },
  {
   "cell_type": "code",
   "execution_count": null,
   "id": "5f697218",
   "metadata": {},
   "outputs": [],
   "source": []
  },
  {
   "cell_type": "code",
   "execution_count": 82,
   "id": "dfba881f",
   "metadata": {},
   "outputs": [],
   "source": [
    "X=df1.drop(columns=['SiteEnergyUse(kBtu)','TotalGHGEmissions'])"
   ]
  },
  {
   "cell_type": "markdown",
   "id": "2b4e1212",
   "metadata": {},
   "source": [
    "# Train test split"
   ]
  },
  {
   "cell_type": "code",
   "execution_count": 83,
   "id": "22ff8fc2",
   "metadata": {},
   "outputs": [],
   "source": [
    "from sklearn.model_selection import train_test_split"
   ]
  },
  {
   "cell_type": "code",
   "execution_count": 84,
   "id": "73bf76a3",
   "metadata": {},
   "outputs": [],
   "source": [
    "X_train, X_test, y_train, y_test=train_test_split(X,y,test_size=0.3, random_state=42)"
   ]
  },
  {
   "cell_type": "markdown",
   "id": "ce9a3a99",
   "metadata": {},
   "source": [
    "# Analyse exploratoire sur train set"
   ]
  },
  {
   "cell_type": "code",
   "execution_count": 85,
   "id": "f8d32080",
   "metadata": {},
   "outputs": [
    {
     "data": {
      "text/plain": [
       "(1425, 20)"
      ]
     },
     "execution_count": 85,
     "metadata": {},
     "output_type": "execute_result"
    }
   ],
   "source": [
    "X_train.shape"
   ]
  },
  {
   "cell_type": "code",
   "execution_count": 86,
   "id": "cd882d2b",
   "metadata": {},
   "outputs": [
    {
     "data": {
      "text/html": [
       "<div>\n",
       "<style scoped>\n",
       "    .dataframe tbody tr th:only-of-type {\n",
       "        vertical-align: middle;\n",
       "    }\n",
       "\n",
       "    .dataframe tbody tr th {\n",
       "        vertical-align: top;\n",
       "    }\n",
       "\n",
       "    .dataframe thead th {\n",
       "        text-align: right;\n",
       "    }\n",
       "</style>\n",
       "<table border=\"1\" class=\"dataframe\">\n",
       "  <thead>\n",
       "    <tr style=\"text-align: right;\">\n",
       "      <th></th>\n",
       "      <th>count</th>\n",
       "      <th>mean</th>\n",
       "      <th>std</th>\n",
       "      <th>min</th>\n",
       "      <th>25%</th>\n",
       "      <th>50%</th>\n",
       "      <th>75%</th>\n",
       "      <th>max</th>\n",
       "    </tr>\n",
       "  </thead>\n",
       "  <tbody>\n",
       "    <tr>\n",
       "      <th>CouncilDistrictCode</th>\n",
       "      <td>1425.0</td>\n",
       "      <td>4.437895</td>\n",
       "      <td>2.158201</td>\n",
       "      <td>1.000000</td>\n",
       "      <td>2.00000</td>\n",
       "      <td>4.00000</td>\n",
       "      <td>7.000000</td>\n",
       "      <td>7.000000e+00</td>\n",
       "    </tr>\n",
       "    <tr>\n",
       "      <th>Latitude</th>\n",
       "      <td>1425.0</td>\n",
       "      <td>47.618716</td>\n",
       "      <td>0.047281</td>\n",
       "      <td>47.500619</td>\n",
       "      <td>47.59549</td>\n",
       "      <td>47.61393</td>\n",
       "      <td>47.653030</td>\n",
       "      <td>4.773387e+01</td>\n",
       "    </tr>\n",
       "    <tr>\n",
       "      <th>Longitude</th>\n",
       "      <td>1425.0</td>\n",
       "      <td>-122.332924</td>\n",
       "      <td>0.025480</td>\n",
       "      <td>-122.411820</td>\n",
       "      <td>-122.34429</td>\n",
       "      <td>-122.33272</td>\n",
       "      <td>-122.320389</td>\n",
       "      <td>-1.222210e+02</td>\n",
       "    </tr>\n",
       "    <tr>\n",
       "      <th>YearBuilt</th>\n",
       "      <td>1425.0</td>\n",
       "      <td>1964.893333</td>\n",
       "      <td>33.952832</td>\n",
       "      <td>1900.000000</td>\n",
       "      <td>1931.00000</td>\n",
       "      <td>1969.00000</td>\n",
       "      <td>1996.000000</td>\n",
       "      <td>2.015000e+03</td>\n",
       "    </tr>\n",
       "    <tr>\n",
       "      <th>NumberofFloors</th>\n",
       "      <td>1425.0</td>\n",
       "      <td>4.568421</td>\n",
       "      <td>6.222444</td>\n",
       "      <td>0.000000</td>\n",
       "      <td>2.00000</td>\n",
       "      <td>3.00000</td>\n",
       "      <td>5.000000</td>\n",
       "      <td>6.300000e+01</td>\n",
       "    </tr>\n",
       "    <tr>\n",
       "      <th>PropertyGFATotal</th>\n",
       "      <td>1425.0</td>\n",
       "      <td>117232.797895</td>\n",
       "      <td>302057.634891</td>\n",
       "      <td>11685.000000</td>\n",
       "      <td>30087.00000</td>\n",
       "      <td>50017.00000</td>\n",
       "      <td>114297.000000</td>\n",
       "      <td>9.320156e+06</td>\n",
       "    </tr>\n",
       "    <tr>\n",
       "      <th>PropertyGFAParking</th>\n",
       "      <td>1425.0</td>\n",
       "      <td>11293.370526</td>\n",
       "      <td>38981.437930</td>\n",
       "      <td>0.000000</td>\n",
       "      <td>0.00000</td>\n",
       "      <td>0.00000</td>\n",
       "      <td>0.000000</td>\n",
       "      <td>5.126080e+05</td>\n",
       "    </tr>\n",
       "    <tr>\n",
       "      <th>PropertyGFABuilding(s)</th>\n",
       "      <td>1425.0</td>\n",
       "      <td>105939.427368</td>\n",
       "      <td>291093.330615</td>\n",
       "      <td>3636.000000</td>\n",
       "      <td>28808.00000</td>\n",
       "      <td>48092.00000</td>\n",
       "      <td>98480.000000</td>\n",
       "      <td>9.320156e+06</td>\n",
       "    </tr>\n",
       "    <tr>\n",
       "      <th>LargestPropertyUseTypeGFA</th>\n",
       "      <td>1425.0</td>\n",
       "      <td>96735.075789</td>\n",
       "      <td>285355.734159</td>\n",
       "      <td>5656.000000</td>\n",
       "      <td>25000.00000</td>\n",
       "      <td>44340.00000</td>\n",
       "      <td>94470.000000</td>\n",
       "      <td>9.320156e+06</td>\n",
       "    </tr>\n",
       "    <tr>\n",
       "      <th>SecondLargestPropertyUseTypeGFA</th>\n",
       "      <td>1425.0</td>\n",
       "      <td>18376.034737</td>\n",
       "      <td>47550.248685</td>\n",
       "      <td>0.000000</td>\n",
       "      <td>0.00000</td>\n",
       "      <td>2680.00000</td>\n",
       "      <td>13534.000000</td>\n",
       "      <td>6.399310e+05</td>\n",
       "    </tr>\n",
       "    <tr>\n",
       "      <th>ThirdLargestPropertyUseTypeGFA</th>\n",
       "      <td>1425.0</td>\n",
       "      <td>3312.121473</td>\n",
       "      <td>16603.444140</td>\n",
       "      <td>0.000000</td>\n",
       "      <td>0.00000</td>\n",
       "      <td>0.00000</td>\n",
       "      <td>612.000000</td>\n",
       "      <td>4.597480e+05</td>\n",
       "    </tr>\n",
       "    <tr>\n",
       "      <th>SteamUse(kBtu)</th>\n",
       "      <td>1425.0</td>\n",
       "      <td>0.063158</td>\n",
       "      <td>0.243332</td>\n",
       "      <td>0.000000</td>\n",
       "      <td>0.00000</td>\n",
       "      <td>0.00000</td>\n",
       "      <td>0.000000</td>\n",
       "      <td>1.000000e+00</td>\n",
       "    </tr>\n",
       "    <tr>\n",
       "      <th>Electricity(kBtu)</th>\n",
       "      <td>1425.0</td>\n",
       "      <td>0.995088</td>\n",
       "      <td>0.069940</td>\n",
       "      <td>0.000000</td>\n",
       "      <td>1.00000</td>\n",
       "      <td>1.00000</td>\n",
       "      <td>1.000000</td>\n",
       "      <td>1.000000e+00</td>\n",
       "    </tr>\n",
       "    <tr>\n",
       "      <th>NaturalGas(kBtu)</th>\n",
       "      <td>1425.0</td>\n",
       "      <td>0.712281</td>\n",
       "      <td>0.452858</td>\n",
       "      <td>0.000000</td>\n",
       "      <td>0.00000</td>\n",
       "      <td>1.00000</td>\n",
       "      <td>1.000000</td>\n",
       "      <td>1.000000e+00</td>\n",
       "    </tr>\n",
       "  </tbody>\n",
       "</table>\n",
       "</div>"
      ],
      "text/plain": [
       "                                  count           mean            std  \\\n",
       "CouncilDistrictCode              1425.0       4.437895       2.158201   \n",
       "Latitude                         1425.0      47.618716       0.047281   \n",
       "Longitude                        1425.0    -122.332924       0.025480   \n",
       "YearBuilt                        1425.0    1964.893333      33.952832   \n",
       "NumberofFloors                   1425.0       4.568421       6.222444   \n",
       "PropertyGFATotal                 1425.0  117232.797895  302057.634891   \n",
       "PropertyGFAParking               1425.0   11293.370526   38981.437930   \n",
       "PropertyGFABuilding(s)           1425.0  105939.427368  291093.330615   \n",
       "LargestPropertyUseTypeGFA        1425.0   96735.075789  285355.734159   \n",
       "SecondLargestPropertyUseTypeGFA  1425.0   18376.034737   47550.248685   \n",
       "ThirdLargestPropertyUseTypeGFA   1425.0    3312.121473   16603.444140   \n",
       "SteamUse(kBtu)                   1425.0       0.063158       0.243332   \n",
       "Electricity(kBtu)                1425.0       0.995088       0.069940   \n",
       "NaturalGas(kBtu)                 1425.0       0.712281       0.452858   \n",
       "\n",
       "                                          min          25%          50%  \\\n",
       "CouncilDistrictCode                  1.000000      2.00000      4.00000   \n",
       "Latitude                            47.500619     47.59549     47.61393   \n",
       "Longitude                         -122.411820   -122.34429   -122.33272   \n",
       "YearBuilt                         1900.000000   1931.00000   1969.00000   \n",
       "NumberofFloors                       0.000000      2.00000      3.00000   \n",
       "PropertyGFATotal                 11685.000000  30087.00000  50017.00000   \n",
       "PropertyGFAParking                   0.000000      0.00000      0.00000   \n",
       "PropertyGFABuilding(s)            3636.000000  28808.00000  48092.00000   \n",
       "LargestPropertyUseTypeGFA         5656.000000  25000.00000  44340.00000   \n",
       "SecondLargestPropertyUseTypeGFA      0.000000      0.00000   2680.00000   \n",
       "ThirdLargestPropertyUseTypeGFA       0.000000      0.00000      0.00000   \n",
       "SteamUse(kBtu)                       0.000000      0.00000      0.00000   \n",
       "Electricity(kBtu)                    0.000000      1.00000      1.00000   \n",
       "NaturalGas(kBtu)                     0.000000      0.00000      1.00000   \n",
       "\n",
       "                                           75%           max  \n",
       "CouncilDistrictCode                   7.000000  7.000000e+00  \n",
       "Latitude                             47.653030  4.773387e+01  \n",
       "Longitude                          -122.320389 -1.222210e+02  \n",
       "YearBuilt                          1996.000000  2.015000e+03  \n",
       "NumberofFloors                        5.000000  6.300000e+01  \n",
       "PropertyGFATotal                 114297.000000  9.320156e+06  \n",
       "PropertyGFAParking                    0.000000  5.126080e+05  \n",
       "PropertyGFABuilding(s)            98480.000000  9.320156e+06  \n",
       "LargestPropertyUseTypeGFA         94470.000000  9.320156e+06  \n",
       "SecondLargestPropertyUseTypeGFA   13534.000000  6.399310e+05  \n",
       "ThirdLargestPropertyUseTypeGFA      612.000000  4.597480e+05  \n",
       "SteamUse(kBtu)                        0.000000  1.000000e+00  \n",
       "Electricity(kBtu)                     1.000000  1.000000e+00  \n",
       "NaturalGas(kBtu)                      1.000000  1.000000e+00  "
      ]
     },
     "execution_count": 86,
     "metadata": {},
     "output_type": "execute_result"
    }
   ],
   "source": [
    "X_train.describe().transpose()"
   ]
  },
  {
   "cell_type": "code",
   "execution_count": 87,
   "id": "0ffc0b5f",
   "metadata": {},
   "outputs": [
    {
     "data": {
      "text/plain": [
       "BuildingType                        object\n",
       "PrimaryPropertyType                 object\n",
       "CouncilDistrictCode                  int64\n",
       "Neighborhood                        object\n",
       "Latitude                           float64\n",
       "Longitude                          float64\n",
       "YearBuilt                            int64\n",
       "NumberofFloors                       int64\n",
       "PropertyGFATotal                     int64\n",
       "PropertyGFAParking                   int64\n",
       "PropertyGFABuilding(s)               int64\n",
       "LargestPropertyUseType              object\n",
       "LargestPropertyUseTypeGFA          float64\n",
       "SecondLargestPropertyUseType        object\n",
       "SecondLargestPropertyUseTypeGFA    float64\n",
       "ThirdLargestPropertyUseType         object\n",
       "ThirdLargestPropertyUseTypeGFA     float64\n",
       "SteamUse(kBtu)                     float64\n",
       "Electricity(kBtu)                  float64\n",
       "NaturalGas(kBtu)                   float64\n",
       "dtype: object"
      ]
     },
     "execution_count": 87,
     "metadata": {},
     "output_type": "execute_result"
    }
   ],
   "source": [
    "X_train.dtypes"
   ]
  },
  {
   "cell_type": "code",
   "execution_count": 88,
   "id": "abc85017",
   "metadata": {
    "scrolled": true
   },
   "outputs": [
    {
     "data": {
      "text/html": [
       "<style type=\"text/css\">\n",
       "#T_b8baf_row0_col0, #T_b8baf_row1_col1, #T_b8baf_row2_col2, #T_b8baf_row3_col3, #T_b8baf_row4_col4, #T_b8baf_row5_col5, #T_b8baf_row6_col6, #T_b8baf_row7_col7, #T_b8baf_row8_col8, #T_b8baf_row9_col9, #T_b8baf_row10_col10, #T_b8baf_row11_col11, #T_b8baf_row12_col12, #T_b8baf_row13_col13 {\n",
       "  background-color: #08306b;\n",
       "  color: #f1f1f1;\n",
       "}\n",
       "#T_b8baf_row0_col1 {\n",
       "  background-color: #61a7d2;\n",
       "  color: #f1f1f1;\n",
       "}\n",
       "#T_b8baf_row0_col2, #T_b8baf_row0_col13, #T_b8baf_row1_col7, #T_b8baf_row1_col9, #T_b8baf_row1_col10, #T_b8baf_row1_col12, #T_b8baf_row2_col0, #T_b8baf_row2_col1, #T_b8baf_row2_col4, #T_b8baf_row2_col6, #T_b8baf_row3_col11, #T_b8baf_row10_col1, #T_b8baf_row11_col3, #T_b8baf_row12_col1, #T_b8baf_row13_col5, #T_b8baf_row13_col7, #T_b8baf_row13_col8 {\n",
       "  background-color: #f7fbff;\n",
       "  color: #000000;\n",
       "}\n",
       "#T_b8baf_row0_col3, #T_b8baf_row2_col11, #T_b8baf_row10_col13, #T_b8baf_row12_col13 {\n",
       "  background-color: #e0ecf8;\n",
       "  color: #000000;\n",
       "}\n",
       "#T_b8baf_row0_col4 {\n",
       "  background-color: #a6cee4;\n",
       "  color: #000000;\n",
       "}\n",
       "#T_b8baf_row0_col5, #T_b8baf_row2_col12, #T_b8baf_row13_col10 {\n",
       "  background-color: #e4eff9;\n",
       "  color: #000000;\n",
       "}\n",
       "#T_b8baf_row0_col6, #T_b8baf_row8_col10 {\n",
       "  background-color: #cfe1f2;\n",
       "  color: #000000;\n",
       "}\n",
       "#T_b8baf_row0_col7, #T_b8baf_row0_col10, #T_b8baf_row1_col11, #T_b8baf_row3_col13, #T_b8baf_row6_col12, #T_b8baf_row11_col12 {\n",
       "  background-color: #e8f1fa;\n",
       "  color: #000000;\n",
       "}\n",
       "#T_b8baf_row0_col8, #T_b8baf_row2_col10, #T_b8baf_row5_col12, #T_b8baf_row12_col10, #T_b8baf_row13_col9 {\n",
       "  background-color: #eaf3fb;\n",
       "  color: #000000;\n",
       "}\n",
       "#T_b8baf_row0_col9 {\n",
       "  background-color: #d5e5f4;\n",
       "  color: #000000;\n",
       "}\n",
       "#T_b8baf_row0_col11, #T_b8baf_row5_col11, #T_b8baf_row8_col11 {\n",
       "  background-color: #bad6eb;\n",
       "  color: #000000;\n",
       "}\n",
       "#T_b8baf_row0_col12, #T_b8baf_row1_col4, #T_b8baf_row2_col8, #T_b8baf_row3_col12, #T_b8baf_row13_col1 {\n",
       "  background-color: #f0f6fd;\n",
       "  color: #000000;\n",
       "}\n",
       "#T_b8baf_row1_col0 {\n",
       "  background-color: #4292c6;\n",
       "  color: #f1f1f1;\n",
       "}\n",
       "#T_b8baf_row1_col2, #T_b8baf_row10_col6 {\n",
       "  background-color: #d0e1f2;\n",
       "  color: #000000;\n",
       "}\n",
       "#T_b8baf_row1_col3, #T_b8baf_row6_col10 {\n",
       "  background-color: #ccdff1;\n",
       "  color: #000000;\n",
       "}\n",
       "#T_b8baf_row1_col5, #T_b8baf_row1_col8, #T_b8baf_row13_col4, #T_b8baf_row13_col6 {\n",
       "  background-color: #f6faff;\n",
       "  color: #000000;\n",
       "}\n",
       "#T_b8baf_row1_col6, #T_b8baf_row4_col13, #T_b8baf_row12_col6 {\n",
       "  background-color: #eef5fc;\n",
       "  color: #000000;\n",
       "}\n",
       "#T_b8baf_row1_col13, #T_b8baf_row3_col8, #T_b8baf_row4_col1, #T_b8baf_row8_col1, #T_b8baf_row13_col11 {\n",
       "  background-color: #ecf4fb;\n",
       "  color: #000000;\n",
       "}\n",
       "#T_b8baf_row2_col3 {\n",
       "  background-color: #dfebf7;\n",
       "  color: #000000;\n",
       "}\n",
       "#T_b8baf_row2_col5, #T_b8baf_row2_col7 {\n",
       "  background-color: #f2f7fd;\n",
       "  color: #000000;\n",
       "}\n",
       "#T_b8baf_row2_col9 {\n",
       "  background-color: #f4f9fe;\n",
       "  color: #000000;\n",
       "}\n",
       "#T_b8baf_row2_col13, #T_b8baf_row11_col9 {\n",
       "  background-color: #dbe9f6;\n",
       "  color: #000000;\n",
       "}\n",
       "#T_b8baf_row3_col0, #T_b8baf_row3_col6, #T_b8baf_row7_col6, #T_b8baf_row11_col2 {\n",
       "  background-color: #c7dcef;\n",
       "  color: #000000;\n",
       "}\n",
       "#T_b8baf_row3_col1, #T_b8baf_row3_col4, #T_b8baf_row10_col8 {\n",
       "  background-color: #d6e6f4;\n",
       "  color: #000000;\n",
       "}\n",
       "#T_b8baf_row3_col2, #T_b8baf_row5_col10 {\n",
       "  background-color: #c6dbef;\n",
       "  color: #000000;\n",
       "}\n",
       "#T_b8baf_row3_col5 {\n",
       "  background-color: #e7f0fa;\n",
       "  color: #000000;\n",
       "}\n",
       "#T_b8baf_row3_col7, #T_b8baf_row5_col1, #T_b8baf_row6_col13, #T_b8baf_row7_col1, #T_b8baf_row12_col9 {\n",
       "  background-color: #edf4fc;\n",
       "  color: #000000;\n",
       "}\n",
       "#T_b8baf_row3_col9, #T_b8baf_row6_col2, #T_b8baf_row6_col7, #T_b8baf_row9_col11, #T_b8baf_row10_col4 {\n",
       "  background-color: #cbdef1;\n",
       "  color: #000000;\n",
       "}\n",
       "#T_b8baf_row3_col10, #T_b8baf_row11_col6 {\n",
       "  background-color: #ddeaf7;\n",
       "  color: #000000;\n",
       "}\n",
       "#T_b8baf_row4_col0 {\n",
       "  background-color: #6fb0d7;\n",
       "  color: #f1f1f1;\n",
       "}\n",
       "#T_b8baf_row4_col2, #T_b8baf_row10_col5 {\n",
       "  background-color: #cddff1;\n",
       "  color: #000000;\n",
       "}\n",
       "#T_b8baf_row4_col3, #T_b8baf_row9_col2 {\n",
       "  background-color: #c8dcf0;\n",
       "  color: #000000;\n",
       "}\n",
       "#T_b8baf_row4_col5 {\n",
       "  background-color: #a1cbe2;\n",
       "  color: #000000;\n",
       "}\n",
       "#T_b8baf_row4_col6, #T_b8baf_row9_col4 {\n",
       "  background-color: #6aaed6;\n",
       "  color: #f1f1f1;\n",
       "}\n",
       "#T_b8baf_row4_col7 {\n",
       "  background-color: #b3d3e8;\n",
       "  color: #000000;\n",
       "}\n",
       "#T_b8baf_row4_col8, #T_b8baf_row7_col0, #T_b8baf_row9_col3, #T_b8baf_row11_col4 {\n",
       "  background-color: #b7d4ea;\n",
       "  color: #000000;\n",
       "}\n",
       "#T_b8baf_row4_col9 {\n",
       "  background-color: #6dafd7;\n",
       "  color: #f1f1f1;\n",
       "}\n",
       "#T_b8baf_row4_col10, #T_b8baf_row7_col10 {\n",
       "  background-color: #c9ddf0;\n",
       "  color: #000000;\n",
       "}\n",
       "#T_b8baf_row4_col11 {\n",
       "  background-color: #a4cce3;\n",
       "  color: #000000;\n",
       "}\n",
       "#T_b8baf_row4_col12 {\n",
       "  background-color: #e5eff9;\n",
       "  color: #000000;\n",
       "}\n",
       "#T_b8baf_row5_col0, #T_b8baf_row6_col3 {\n",
       "  background-color: #b2d2e8;\n",
       "  color: #000000;\n",
       "}\n",
       "#T_b8baf_row5_col2, #T_b8baf_row6_col8, #T_b8baf_row7_col2, #T_b8baf_row10_col0 {\n",
       "  background-color: #c2d9ee;\n",
       "  color: #000000;\n",
       "}\n",
       "#T_b8baf_row5_col3, #T_b8baf_row13_col0 {\n",
       "  background-color: #d3e3f3;\n",
       "  color: #000000;\n",
       "}\n",
       "#T_b8baf_row5_col4, #T_b8baf_row6_col0, #T_b8baf_row9_col7 {\n",
       "  background-color: #9cc9e1;\n",
       "  color: #000000;\n",
       "}\n",
       "#T_b8baf_row5_col6, #T_b8baf_row9_col0 {\n",
       "  background-color: #a3cce3;\n",
       "  color: #000000;\n",
       "}\n",
       "#T_b8baf_row5_col7, #T_b8baf_row7_col5 {\n",
       "  background-color: #08326e;\n",
       "  color: #f1f1f1;\n",
       "}\n",
       "#T_b8baf_row5_col8, #T_b8baf_row8_col5 {\n",
       "  background-color: #083471;\n",
       "  color: #f1f1f1;\n",
       "}\n",
       "#T_b8baf_row5_col9 {\n",
       "  background-color: #84bcdb;\n",
       "  color: #000000;\n",
       "}\n",
       "#T_b8baf_row5_col13, #T_b8baf_row8_col13, #T_b8baf_row10_col12, #T_b8baf_row11_col10 {\n",
       "  background-color: #eaf2fb;\n",
       "  color: #000000;\n",
       "}\n",
       "#T_b8baf_row6_col1, #T_b8baf_row7_col13, #T_b8baf_row12_col4 {\n",
       "  background-color: #e9f2fa;\n",
       "  color: #000000;\n",
       "}\n",
       "#T_b8baf_row6_col4, #T_b8baf_row6_col9, #T_b8baf_row9_col6 {\n",
       "  background-color: #69add5;\n",
       "  color: #f1f1f1;\n",
       "}\n",
       "#T_b8baf_row6_col5 {\n",
       "  background-color: #a8cee4;\n",
       "  color: #000000;\n",
       "}\n",
       "#T_b8baf_row6_col11 {\n",
       "  background-color: #cee0f2;\n",
       "  color: #000000;\n",
       "}\n",
       "#T_b8baf_row7_col3, #T_b8baf_row8_col3 {\n",
       "  background-color: #d7e6f5;\n",
       "  color: #000000;\n",
       "}\n",
       "#T_b8baf_row7_col4 {\n",
       "  background-color: #abd0e6;\n",
       "  color: #000000;\n",
       "}\n",
       "#T_b8baf_row7_col8, #T_b8baf_row8_col7 {\n",
       "  background-color: #083370;\n",
       "  color: #f1f1f1;\n",
       "}\n",
       "#T_b8baf_row7_col9, #T_b8baf_row11_col0 {\n",
       "  background-color: #97c6df;\n",
       "  color: #000000;\n",
       "}\n",
       "#T_b8baf_row7_col11 {\n",
       "  background-color: #bcd7eb;\n",
       "  color: #000000;\n",
       "}\n",
       "#T_b8baf_row7_col12, #T_b8baf_row8_col12 {\n",
       "  background-color: #ebf3fb;\n",
       "  color: #000000;\n",
       "}\n",
       "#T_b8baf_row8_col0 {\n",
       "  background-color: #b9d6ea;\n",
       "  color: #000000;\n",
       "}\n",
       "#T_b8baf_row8_col2 {\n",
       "  background-color: #c1d9ed;\n",
       "  color: #000000;\n",
       "}\n",
       "#T_b8baf_row8_col4 {\n",
       "  background-color: #b0d2e7;\n",
       "  color: #000000;\n",
       "}\n",
       "#T_b8baf_row8_col6 {\n",
       "  background-color: #bdd7ec;\n",
       "  color: #000000;\n",
       "}\n",
       "#T_b8baf_row8_col9 {\n",
       "  background-color: #a5cde3;\n",
       "  color: #000000;\n",
       "}\n",
       "#T_b8baf_row9_col1 {\n",
       "  background-color: #f1f7fd;\n",
       "  color: #000000;\n",
       "}\n",
       "#T_b8baf_row9_col5 {\n",
       "  background-color: #87bddc;\n",
       "  color: #000000;\n",
       "}\n",
       "#T_b8baf_row9_col8 {\n",
       "  background-color: #a9cfe5;\n",
       "  color: #000000;\n",
       "}\n",
       "#T_b8baf_row9_col10 {\n",
       "  background-color: #4191c6;\n",
       "  color: #f1f1f1;\n",
       "}\n",
       "#T_b8baf_row9_col12 {\n",
       "  background-color: #e7f1fa;\n",
       "  color: #000000;\n",
       "}\n",
       "#T_b8baf_row9_col13 {\n",
       "  background-color: #e1edf8;\n",
       "  color: #000000;\n",
       "}\n",
       "#T_b8baf_row10_col2 {\n",
       "  background-color: #c4daee;\n",
       "  color: #000000;\n",
       "}\n",
       "#T_b8baf_row10_col3, #T_b8baf_row11_col7 {\n",
       "  background-color: #d2e3f3;\n",
       "  color: #000000;\n",
       "}\n",
       "#T_b8baf_row10_col7, #T_b8baf_row11_col5, #T_b8baf_row11_col8 {\n",
       "  background-color: #d0e2f2;\n",
       "  color: #000000;\n",
       "}\n",
       "#T_b8baf_row10_col9 {\n",
       "  background-color: #4594c7;\n",
       "  color: #f1f1f1;\n",
       "}\n",
       "#T_b8baf_row10_col11, #T_b8baf_row12_col11 {\n",
       "  background-color: #dceaf6;\n",
       "  color: #000000;\n",
       "}\n",
       "#T_b8baf_row11_col1, #T_b8baf_row11_col13, #T_b8baf_row12_col7, #T_b8baf_row12_col8 {\n",
       "  background-color: #f5fafe;\n",
       "  color: #000000;\n",
       "}\n",
       "#T_b8baf_row12_col0 {\n",
       "  background-color: #cadef0;\n",
       "  color: #000000;\n",
       "}\n",
       "#T_b8baf_row12_col2 {\n",
       "  background-color: #bed8ec;\n",
       "  color: #000000;\n",
       "}\n",
       "#T_b8baf_row12_col3, #T_b8baf_row13_col12 {\n",
       "  background-color: #e3eef9;\n",
       "  color: #000000;\n",
       "}\n",
       "#T_b8baf_row12_col5 {\n",
       "  background-color: #f5f9fe;\n",
       "  color: #000000;\n",
       "}\n",
       "#T_b8baf_row13_col2 {\n",
       "  background-color: #b5d4e9;\n",
       "  color: #000000;\n",
       "}\n",
       "#T_b8baf_row13_col3 {\n",
       "  background-color: #dfecf7;\n",
       "  color: #000000;\n",
       "}\n",
       "</style>\n",
       "<table id=\"T_b8baf\">\n",
       "  <thead>\n",
       "    <tr>\n",
       "      <th class=\"blank level0\" >&nbsp;</th>\n",
       "      <th id=\"T_b8baf_level0_col0\" class=\"col_heading level0 col0\" >CouncilDistrictCode</th>\n",
       "      <th id=\"T_b8baf_level0_col1\" class=\"col_heading level0 col1\" >Latitude</th>\n",
       "      <th id=\"T_b8baf_level0_col2\" class=\"col_heading level0 col2\" >Longitude</th>\n",
       "      <th id=\"T_b8baf_level0_col3\" class=\"col_heading level0 col3\" >YearBuilt</th>\n",
       "      <th id=\"T_b8baf_level0_col4\" class=\"col_heading level0 col4\" >NumberofFloors</th>\n",
       "      <th id=\"T_b8baf_level0_col5\" class=\"col_heading level0 col5\" >PropertyGFATotal</th>\n",
       "      <th id=\"T_b8baf_level0_col6\" class=\"col_heading level0 col6\" >PropertyGFAParking</th>\n",
       "      <th id=\"T_b8baf_level0_col7\" class=\"col_heading level0 col7\" >PropertyGFABuilding(s)</th>\n",
       "      <th id=\"T_b8baf_level0_col8\" class=\"col_heading level0 col8\" >LargestPropertyUseTypeGFA</th>\n",
       "      <th id=\"T_b8baf_level0_col9\" class=\"col_heading level0 col9\" >SecondLargestPropertyUseTypeGFA</th>\n",
       "      <th id=\"T_b8baf_level0_col10\" class=\"col_heading level0 col10\" >ThirdLargestPropertyUseTypeGFA</th>\n",
       "      <th id=\"T_b8baf_level0_col11\" class=\"col_heading level0 col11\" >SteamUse(kBtu)</th>\n",
       "      <th id=\"T_b8baf_level0_col12\" class=\"col_heading level0 col12\" >Electricity(kBtu)</th>\n",
       "      <th id=\"T_b8baf_level0_col13\" class=\"col_heading level0 col13\" >NaturalGas(kBtu)</th>\n",
       "    </tr>\n",
       "  </thead>\n",
       "  <tbody>\n",
       "    <tr>\n",
       "      <th id=\"T_b8baf_level0_row0\" class=\"row_heading level0 row0\" >CouncilDistrictCode</th>\n",
       "      <td id=\"T_b8baf_row0_col0\" class=\"data row0 col0\" >1.000000</td>\n",
       "      <td id=\"T_b8baf_row0_col1\" class=\"data row0 col1\" >0.498522</td>\n",
       "      <td id=\"T_b8baf_row0_col2\" class=\"data row0 col2\" >-0.328398</td>\n",
       "      <td id=\"T_b8baf_row0_col3\" class=\"data row0 col3\" >-0.004211</td>\n",
       "      <td id=\"T_b8baf_row0_col4\" class=\"data row0 col4\" >0.322345</td>\n",
       "      <td id=\"T_b8baf_row0_col5\" class=\"data row0 col5\" >0.088946</td>\n",
       "      <td id=\"T_b8baf_row0_col6\" class=\"data row0 col6\" >0.178463</td>\n",
       "      <td id=\"T_b8baf_row0_col7\" class=\"data row0 col7\" >0.068398</td>\n",
       "      <td id=\"T_b8baf_row0_col8\" class=\"data row0 col8\" >0.055673</td>\n",
       "      <td id=\"T_b8baf_row0_col9\" class=\"data row0 col9\" >0.152231</td>\n",
       "      <td id=\"T_b8baf_row0_col10\" class=\"data row0 col10\" >0.022091</td>\n",
       "      <td id=\"T_b8baf_row0_col11\" class=\"data row0 col11\" >0.190672</td>\n",
       "      <td id=\"T_b8baf_row0_col12\" class=\"data row0 col12\" >-0.022958</td>\n",
       "      <td id=\"T_b8baf_row0_col13\" class=\"data row0 col13\" >-0.082243</td>\n",
       "    </tr>\n",
       "    <tr>\n",
       "      <th id=\"T_b8baf_level0_row1\" class=\"row_heading level0 row1\" >Latitude</th>\n",
       "      <td id=\"T_b8baf_row1_col0\" class=\"data row1 col0\" >0.498522</td>\n",
       "      <td id=\"T_b8baf_row1_col1\" class=\"data row1 col1\" >1.000000</td>\n",
       "      <td id=\"T_b8baf_row1_col2\" class=\"data row1 col2\" >-0.062357</td>\n",
       "      <td id=\"T_b8baf_row1_col3\" class=\"data row1 col3\" >0.114067</td>\n",
       "      <td id=\"T_b8baf_row1_col4\" class=\"data row1 col4\" >-0.000184</td>\n",
       "      <td id=\"T_b8baf_row1_col5\" class=\"data row1 col5\" >-0.004345</td>\n",
       "      <td id=\"T_b8baf_row1_col6\" class=\"data row1 col6\" >0.013975</td>\n",
       "      <td id=\"T_b8baf_row1_col7\" class=\"data row1 col7\" >-0.006380</td>\n",
       "      <td id=\"T_b8baf_row1_col8\" class=\"data row1 col8\" >-0.002998</td>\n",
       "      <td id=\"T_b8baf_row1_col9\" class=\"data row1 col9\" >-0.028278</td>\n",
       "      <td id=\"T_b8baf_row1_col10\" class=\"data row1 col10\" >-0.059092</td>\n",
       "      <td id=\"T_b8baf_row1_col11\" class=\"data row1 col11\" >-0.051348</td>\n",
       "      <td id=\"T_b8baf_row1_col12\" class=\"data row1 col12\" >-0.062214</td>\n",
       "      <td id=\"T_b8baf_row1_col13\" class=\"data row1 col13\" >-0.022040</td>\n",
       "    </tr>\n",
       "    <tr>\n",
       "      <th id=\"T_b8baf_level0_row2\" class=\"row_heading level0 row2\" >Longitude</th>\n",
       "      <td id=\"T_b8baf_row2_col0\" class=\"data row2 col0\" >-0.328398</td>\n",
       "      <td id=\"T_b8baf_row2_col1\" class=\"data row2 col1\" >-0.062357</td>\n",
       "      <td id=\"T_b8baf_row2_col2\" class=\"data row2 col2\" >1.000000</td>\n",
       "      <td id=\"T_b8baf_row2_col3\" class=\"data row2 col3\" >0.004858</td>\n",
       "      <td id=\"T_b8baf_row2_col4\" class=\"data row2 col4\" >-0.039315</td>\n",
       "      <td id=\"T_b8baf_row2_col5\" class=\"data row2 col5\" >0.019343</td>\n",
       "      <td id=\"T_b8baf_row2_col6\" class=\"data row2 col6\" >-0.031220</td>\n",
       "      <td id=\"T_b8baf_row2_col7\" class=\"data row2 col7\" >0.024252</td>\n",
       "      <td id=\"T_b8baf_row2_col8\" class=\"data row2 col8\" >0.027369</td>\n",
       "      <td id=\"T_b8baf_row2_col9\" class=\"data row2 col9\" >-0.010447</td>\n",
       "      <td id=\"T_b8baf_row2_col10\" class=\"data row2 col10\" >0.008913</td>\n",
       "      <td id=\"T_b8baf_row2_col11\" class=\"data row2 col11\" >-0.004147</td>\n",
       "      <td id=\"T_b8baf_row2_col12\" class=\"data row2 col12\" >0.039440</td>\n",
       "      <td id=\"T_b8baf_row2_col13\" class=\"data row2 col13\" >0.072044</td>\n",
       "    </tr>\n",
       "    <tr>\n",
       "      <th id=\"T_b8baf_level0_row3\" class=\"row_heading level0 row3\" >YearBuilt</th>\n",
       "      <td id=\"T_b8baf_row3_col0\" class=\"data row3 col0\" >-0.004211</td>\n",
       "      <td id=\"T_b8baf_row3_col1\" class=\"data row3 col1\" >0.114067</td>\n",
       "      <td id=\"T_b8baf_row3_col2\" class=\"data row3 col2\" >0.004858</td>\n",
       "      <td id=\"T_b8baf_row3_col3\" class=\"data row3 col3\" >1.000000</td>\n",
       "      <td id=\"T_b8baf_row3_col4\" class=\"data row3 col4\" >0.134062</td>\n",
       "      <td id=\"T_b8baf_row3_col5\" class=\"data row3 col5\" >0.073686</td>\n",
       "      <td id=\"T_b8baf_row3_col6\" class=\"data row3 col6\" >0.219288</td>\n",
       "      <td id=\"T_b8baf_row3_col7\" class=\"data row3 col7\" >0.047096</td>\n",
       "      <td id=\"T_b8baf_row3_col8\" class=\"data row3 col8\" >0.045941</td>\n",
       "      <td id=\"T_b8baf_row3_col9\" class=\"data row3 col9\" >0.204205</td>\n",
       "      <td id=\"T_b8baf_row3_col10\" class=\"data row3 col10\" >0.079691</td>\n",
       "      <td id=\"T_b8baf_row3_col11\" class=\"data row3 col11\" >-0.136883</td>\n",
       "      <td id=\"T_b8baf_row3_col12\" class=\"data row3 col12\" >-0.021809</td>\n",
       "      <td id=\"T_b8baf_row3_col13\" class=\"data row3 col13\" >-0.001860</td>\n",
       "    </tr>\n",
       "    <tr>\n",
       "      <th id=\"T_b8baf_level0_row4\" class=\"row_heading level0 row4\" >NumberofFloors</th>\n",
       "      <td id=\"T_b8baf_row4_col0\" class=\"data row4 col0\" >0.322345</td>\n",
       "      <td id=\"T_b8baf_row4_col1\" class=\"data row4 col1\" >-0.000184</td>\n",
       "      <td id=\"T_b8baf_row4_col2\" class=\"data row4 col2\" >-0.039315</td>\n",
       "      <td id=\"T_b8baf_row4_col3\" class=\"data row4 col3\" >0.134062</td>\n",
       "      <td id=\"T_b8baf_row4_col4\" class=\"data row4 col4\" >1.000000</td>\n",
       "      <td id=\"T_b8baf_row4_col5\" class=\"data row4 col5\" >0.358028</td>\n",
       "      <td id=\"T_b8baf_row4_col6\" class=\"data row4 col6\" >0.485715</td>\n",
       "      <td id=\"T_b8baf_row4_col7\" class=\"data row4 col7\" >0.306470</td>\n",
       "      <td id=\"T_b8baf_row4_col8\" class=\"data row4 col8\" >0.293291</td>\n",
       "      <td id=\"T_b8baf_row4_col9\" class=\"data row4 col9\" >0.480441</td>\n",
       "      <td id=\"T_b8baf_row4_col10\" class=\"data row4 col10\" >0.192327</td>\n",
       "      <td id=\"T_b8baf_row4_col11\" class=\"data row4 col11\" >0.271249</td>\n",
       "      <td id=\"T_b8baf_row4_col12\" class=\"data row4 col12\" >0.035466</td>\n",
       "      <td id=\"T_b8baf_row4_col13\" class=\"data row4 col13\" >-0.031886</td>\n",
       "    </tr>\n",
       "    <tr>\n",
       "      <th id=\"T_b8baf_level0_row5\" class=\"row_heading level0 row5\" >PropertyGFATotal</th>\n",
       "      <td id=\"T_b8baf_row5_col0\" class=\"data row5 col0\" >0.088946</td>\n",
       "      <td id=\"T_b8baf_row5_col1\" class=\"data row5 col1\" >-0.004345</td>\n",
       "      <td id=\"T_b8baf_row5_col2\" class=\"data row5 col2\" >0.019343</td>\n",
       "      <td id=\"T_b8baf_row5_col3\" class=\"data row5 col3\" >0.073686</td>\n",
       "      <td id=\"T_b8baf_row5_col4\" class=\"data row5 col4\" >0.358028</td>\n",
       "      <td id=\"T_b8baf_row5_col5\" class=\"data row5 col5\" >1.000000</td>\n",
       "      <td id=\"T_b8baf_row5_col6\" class=\"data row5 col6\" >0.340691</td>\n",
       "      <td id=\"T_b8baf_row5_col7\" class=\"data row5 col7\" >0.992043</td>\n",
       "      <td id=\"T_b8baf_row5_col8\" class=\"data row5 col8\" >0.982623</td>\n",
       "      <td id=\"T_b8baf_row5_col9\" class=\"data row5 col9\" >0.424899</td>\n",
       "      <td id=\"T_b8baf_row5_col10\" class=\"data row5 col10\" >0.208436</td>\n",
       "      <td id=\"T_b8baf_row5_col11\" class=\"data row5 col11\" >0.190455</td>\n",
       "      <td id=\"T_b8baf_row5_col12\" class=\"data row5 col12\" >0.004715</td>\n",
       "      <td id=\"T_b8baf_row5_col13\" class=\"data row5 col13\" >-0.009218</td>\n",
       "    </tr>\n",
       "    <tr>\n",
       "      <th id=\"T_b8baf_level0_row6\" class=\"row_heading level0 row6\" >PropertyGFAParking</th>\n",
       "      <td id=\"T_b8baf_row6_col0\" class=\"data row6 col0\" >0.178463</td>\n",
       "      <td id=\"T_b8baf_row6_col1\" class=\"data row6 col1\" >0.013975</td>\n",
       "      <td id=\"T_b8baf_row6_col2\" class=\"data row6 col2\" >-0.031220</td>\n",
       "      <td id=\"T_b8baf_row6_col3\" class=\"data row6 col3\" >0.219288</td>\n",
       "      <td id=\"T_b8baf_row6_col4\" class=\"data row6 col4\" >0.485715</td>\n",
       "      <td id=\"T_b8baf_row6_col5\" class=\"data row6 col5\" >0.340691</td>\n",
       "      <td id=\"T_b8baf_row6_col6\" class=\"data row6 col6\" >1.000000</td>\n",
       "      <td id=\"T_b8baf_row6_col7\" class=\"data row6 col7\" >0.219610</td>\n",
       "      <td id=\"T_b8baf_row6_col8\" class=\"data row6 col8\" >0.255160</td>\n",
       "      <td id=\"T_b8baf_row6_col9\" class=\"data row6 col9\" >0.492219</td>\n",
       "      <td id=\"T_b8baf_row6_col10\" class=\"data row6 col10\" >0.174658</td>\n",
       "      <td id=\"T_b8baf_row6_col11\" class=\"data row6 col11\" >0.101905</td>\n",
       "      <td id=\"T_b8baf_row6_col12\" class=\"data row6 col12\" >0.020362</td>\n",
       "      <td id=\"T_b8baf_row6_col13\" class=\"data row6 col13\" >-0.025544</td>\n",
       "    </tr>\n",
       "    <tr>\n",
       "      <th id=\"T_b8baf_level0_row7\" class=\"row_heading level0 row7\" >PropertyGFABuilding(s)</th>\n",
       "      <td id=\"T_b8baf_row7_col0\" class=\"data row7 col0\" >0.068398</td>\n",
       "      <td id=\"T_b8baf_row7_col1\" class=\"data row7 col1\" >-0.006380</td>\n",
       "      <td id=\"T_b8baf_row7_col2\" class=\"data row7 col2\" >0.024252</td>\n",
       "      <td id=\"T_b8baf_row7_col3\" class=\"data row7 col3\" >0.047096</td>\n",
       "      <td id=\"T_b8baf_row7_col4\" class=\"data row7 col4\" >0.306470</td>\n",
       "      <td id=\"T_b8baf_row7_col5\" class=\"data row7 col5\" >0.992043</td>\n",
       "      <td id=\"T_b8baf_row7_col6\" class=\"data row7 col6\" >0.219610</td>\n",
       "      <td id=\"T_b8baf_row7_col7\" class=\"data row7 col7\" >1.000000</td>\n",
       "      <td id=\"T_b8baf_row7_col8\" class=\"data row7 col8\" >0.985464</td>\n",
       "      <td id=\"T_b8baf_row7_col9\" class=\"data row7 col9\" >0.374988</td>\n",
       "      <td id=\"T_b8baf_row7_col10\" class=\"data row7 col10\" >0.192898</td>\n",
       "      <td id=\"T_b8baf_row7_col11\" class=\"data row7 col11\" >0.183982</td>\n",
       "      <td id=\"T_b8baf_row7_col12\" class=\"data row7 col12\" >0.002165</td>\n",
       "      <td id=\"T_b8baf_row7_col13\" class=\"data row7 col13\" >-0.006144</td>\n",
       "    </tr>\n",
       "    <tr>\n",
       "      <th id=\"T_b8baf_level0_row8\" class=\"row_heading level0 row8\" >LargestPropertyUseTypeGFA</th>\n",
       "      <td id=\"T_b8baf_row8_col0\" class=\"data row8 col0\" >0.055673</td>\n",
       "      <td id=\"T_b8baf_row8_col1\" class=\"data row8 col1\" >-0.002998</td>\n",
       "      <td id=\"T_b8baf_row8_col2\" class=\"data row8 col2\" >0.027369</td>\n",
       "      <td id=\"T_b8baf_row8_col3\" class=\"data row8 col3\" >0.045941</td>\n",
       "      <td id=\"T_b8baf_row8_col4\" class=\"data row8 col4\" >0.293291</td>\n",
       "      <td id=\"T_b8baf_row8_col5\" class=\"data row8 col5\" >0.982623</td>\n",
       "      <td id=\"T_b8baf_row8_col6\" class=\"data row8 col6\" >0.255160</td>\n",
       "      <td id=\"T_b8baf_row8_col7\" class=\"data row8 col7\" >0.985464</td>\n",
       "      <td id=\"T_b8baf_row8_col8\" class=\"data row8 col8\" >1.000000</td>\n",
       "      <td id=\"T_b8baf_row8_col9\" class=\"data row8 col9\" >0.334641</td>\n",
       "      <td id=\"T_b8baf_row8_col10\" class=\"data row8 col10\" >0.159833</td>\n",
       "      <td id=\"T_b8baf_row8_col11\" class=\"data row8 col11\" >0.188435</td>\n",
       "      <td id=\"T_b8baf_row8_col12\" class=\"data row8 col12\" >0.000343</td>\n",
       "      <td id=\"T_b8baf_row8_col13\" class=\"data row8 col13\" >-0.009281</td>\n",
       "    </tr>\n",
       "    <tr>\n",
       "      <th id=\"T_b8baf_level0_row9\" class=\"row_heading level0 row9\" >SecondLargestPropertyUseTypeGFA</th>\n",
       "      <td id=\"T_b8baf_row9_col0\" class=\"data row9 col0\" >0.152231</td>\n",
       "      <td id=\"T_b8baf_row9_col1\" class=\"data row9 col1\" >-0.028278</td>\n",
       "      <td id=\"T_b8baf_row9_col2\" class=\"data row9 col2\" >-0.010447</td>\n",
       "      <td id=\"T_b8baf_row9_col3\" class=\"data row9 col3\" >0.204205</td>\n",
       "      <td id=\"T_b8baf_row9_col4\" class=\"data row9 col4\" >0.480441</td>\n",
       "      <td id=\"T_b8baf_row9_col5\" class=\"data row9 col5\" >0.424899</td>\n",
       "      <td id=\"T_b8baf_row9_col6\" class=\"data row9 col6\" >0.492219</td>\n",
       "      <td id=\"T_b8baf_row9_col7\" class=\"data row9 col7\" >0.374988</td>\n",
       "      <td id=\"T_b8baf_row9_col8\" class=\"data row9 col8\" >0.334641</td>\n",
       "      <td id=\"T_b8baf_row9_col9\" class=\"data row9 col9\" >1.000000</td>\n",
       "      <td id=\"T_b8baf_row9_col10\" class=\"data row9 col10\" >0.603450</td>\n",
       "      <td id=\"T_b8baf_row9_col11\" class=\"data row9 col11\" >0.117981</td>\n",
       "      <td id=\"T_b8baf_row9_col12\" class=\"data row9 col12\" >0.023995</td>\n",
       "      <td id=\"T_b8baf_row9_col13\" class=\"data row9 col13\" >0.037933</td>\n",
       "    </tr>\n",
       "    <tr>\n",
       "      <th id=\"T_b8baf_level0_row10\" class=\"row_heading level0 row10\" >ThirdLargestPropertyUseTypeGFA</th>\n",
       "      <td id=\"T_b8baf_row10_col0\" class=\"data row10 col0\" >0.022091</td>\n",
       "      <td id=\"T_b8baf_row10_col1\" class=\"data row10 col1\" >-0.059092</td>\n",
       "      <td id=\"T_b8baf_row10_col2\" class=\"data row10 col2\" >0.008913</td>\n",
       "      <td id=\"T_b8baf_row10_col3\" class=\"data row10 col3\" >0.079691</td>\n",
       "      <td id=\"T_b8baf_row10_col4\" class=\"data row10 col4\" >0.192327</td>\n",
       "      <td id=\"T_b8baf_row10_col5\" class=\"data row10 col5\" >0.208436</td>\n",
       "      <td id=\"T_b8baf_row10_col6\" class=\"data row10 col6\" >0.174658</td>\n",
       "      <td id=\"T_b8baf_row10_col7\" class=\"data row10 col7\" >0.192898</td>\n",
       "      <td id=\"T_b8baf_row10_col8\" class=\"data row10 col8\" >0.159833</td>\n",
       "      <td id=\"T_b8baf_row10_col9\" class=\"data row10 col9\" >0.603450</td>\n",
       "      <td id=\"T_b8baf_row10_col10\" class=\"data row10 col10\" >1.000000</td>\n",
       "      <td id=\"T_b8baf_row10_col11\" class=\"data row10 col11\" >0.014923</td>\n",
       "      <td id=\"T_b8baf_row10_col12\" class=\"data row10 col12\" >0.010695</td>\n",
       "      <td id=\"T_b8baf_row10_col13\" class=\"data row10 col13\" >0.040712</td>\n",
       "    </tr>\n",
       "    <tr>\n",
       "      <th id=\"T_b8baf_level0_row11\" class=\"row_heading level0 row11\" >SteamUse(kBtu)</th>\n",
       "      <td id=\"T_b8baf_row11_col0\" class=\"data row11 col0\" >0.190672</td>\n",
       "      <td id=\"T_b8baf_row11_col1\" class=\"data row11 col1\" >-0.051348</td>\n",
       "      <td id=\"T_b8baf_row11_col2\" class=\"data row11 col2\" >-0.004147</td>\n",
       "      <td id=\"T_b8baf_row11_col3\" class=\"data row11 col3\" >-0.136883</td>\n",
       "      <td id=\"T_b8baf_row11_col4\" class=\"data row11 col4\" >0.271249</td>\n",
       "      <td id=\"T_b8baf_row11_col5\" class=\"data row11 col5\" >0.190455</td>\n",
       "      <td id=\"T_b8baf_row11_col6\" class=\"data row11 col6\" >0.101905</td>\n",
       "      <td id=\"T_b8baf_row11_col7\" class=\"data row11 col7\" >0.183982</td>\n",
       "      <td id=\"T_b8baf_row11_col8\" class=\"data row11 col8\" >0.188435</td>\n",
       "      <td id=\"T_b8baf_row11_col9\" class=\"data row11 col9\" >0.117981</td>\n",
       "      <td id=\"T_b8baf_row11_col10\" class=\"data row11 col10\" >0.014923</td>\n",
       "      <td id=\"T_b8baf_row11_col11\" class=\"data row11 col11\" >1.000000</td>\n",
       "      <td id=\"T_b8baf_row11_col12\" class=\"data row11 col12\" >0.018243</td>\n",
       "      <td id=\"T_b8baf_row11_col13\" class=\"data row11 col13\" >-0.070771</td>\n",
       "    </tr>\n",
       "    <tr>\n",
       "      <th id=\"T_b8baf_level0_row12\" class=\"row_heading level0 row12\" >Electricity(kBtu)</th>\n",
       "      <td id=\"T_b8baf_row12_col0\" class=\"data row12 col0\" >-0.022958</td>\n",
       "      <td id=\"T_b8baf_row12_col1\" class=\"data row12 col1\" >-0.062214</td>\n",
       "      <td id=\"T_b8baf_row12_col2\" class=\"data row12 col2\" >0.039440</td>\n",
       "      <td id=\"T_b8baf_row12_col3\" class=\"data row12 col3\" >-0.021809</td>\n",
       "      <td id=\"T_b8baf_row12_col4\" class=\"data row12 col4\" >0.035466</td>\n",
       "      <td id=\"T_b8baf_row12_col5\" class=\"data row12 col5\" >0.004715</td>\n",
       "      <td id=\"T_b8baf_row12_col6\" class=\"data row12 col6\" >0.020362</td>\n",
       "      <td id=\"T_b8baf_row12_col7\" class=\"data row12 col7\" >0.002165</td>\n",
       "      <td id=\"T_b8baf_row12_col8\" class=\"data row12 col8\" >0.000343</td>\n",
       "      <td id=\"T_b8baf_row12_col9\" class=\"data row12 col9\" >0.023995</td>\n",
       "      <td id=\"T_b8baf_row12_col10\" class=\"data row12 col10\" >0.010695</td>\n",
       "      <td id=\"T_b8baf_row12_col11\" class=\"data row12 col11\" >0.018243</td>\n",
       "      <td id=\"T_b8baf_row12_col12\" class=\"data row12 col12\" >1.000000</td>\n",
       "      <td id=\"T_b8baf_row12_col13\" class=\"data row12 col13\" >0.044033</td>\n",
       "    </tr>\n",
       "    <tr>\n",
       "      <th id=\"T_b8baf_level0_row13\" class=\"row_heading level0 row13\" >NaturalGas(kBtu)</th>\n",
       "      <td id=\"T_b8baf_row13_col0\" class=\"data row13 col0\" >-0.082243</td>\n",
       "      <td id=\"T_b8baf_row13_col1\" class=\"data row13 col1\" >-0.022040</td>\n",
       "      <td id=\"T_b8baf_row13_col2\" class=\"data row13 col2\" >0.072044</td>\n",
       "      <td id=\"T_b8baf_row13_col3\" class=\"data row13 col3\" >-0.001860</td>\n",
       "      <td id=\"T_b8baf_row13_col4\" class=\"data row13 col4\" >-0.031886</td>\n",
       "      <td id=\"T_b8baf_row13_col5\" class=\"data row13 col5\" >-0.009218</td>\n",
       "      <td id=\"T_b8baf_row13_col6\" class=\"data row13 col6\" >-0.025544</td>\n",
       "      <td id=\"T_b8baf_row13_col7\" class=\"data row13 col7\" >-0.006144</td>\n",
       "      <td id=\"T_b8baf_row13_col8\" class=\"data row13 col8\" >-0.009281</td>\n",
       "      <td id=\"T_b8baf_row13_col9\" class=\"data row13 col9\" >0.037933</td>\n",
       "      <td id=\"T_b8baf_row13_col10\" class=\"data row13 col10\" >0.040712</td>\n",
       "      <td id=\"T_b8baf_row13_col11\" class=\"data row13 col11\" >-0.070771</td>\n",
       "      <td id=\"T_b8baf_row13_col12\" class=\"data row13 col12\" >0.044033</td>\n",
       "      <td id=\"T_b8baf_row13_col13\" class=\"data row13 col13\" >1.000000</td>\n",
       "    </tr>\n",
       "  </tbody>\n",
       "</table>\n"
      ],
      "text/plain": [
       "<pandas.io.formats.style.Styler at 0x26b77c90760>"
      ]
     },
     "execution_count": 88,
     "metadata": {},
     "output_type": "execute_result"
    }
   ],
   "source": [
    "X_train.corr().style.background_gradient(cmap=\"Blues\")\n"
   ]
  },
  {
   "cell_type": "markdown",
   "id": "34419caf",
   "metadata": {},
   "source": [
    "# Variables categorielles et numeriques"
   ]
  },
  {
   "cell_type": "code",
   "execution_count": 89,
   "id": "138ed75e",
   "metadata": {},
   "outputs": [
    {
     "data": {
      "text/plain": [
       "Index(['BuildingType', 'PrimaryPropertyType', 'Neighborhood',\n",
       "       'LargestPropertyUseType', 'SecondLargestPropertyUseType',\n",
       "       'ThirdLargestPropertyUseType'],\n",
       "      dtype='object')"
      ]
     },
     "execution_count": 89,
     "metadata": {},
     "output_type": "execute_result"
    }
   ],
   "source": [
    "categ=X_train.dtypes[df.dtypes=='object'].index\n",
    "categ"
   ]
  },
  {
   "cell_type": "code",
   "execution_count": 90,
   "id": "371c96fb",
   "metadata": {},
   "outputs": [
    {
     "data": {
      "text/plain": [
       "Index(['CouncilDistrictCode', 'Latitude', 'Longitude', 'YearBuilt',\n",
       "       'NumberofFloors', 'PropertyGFATotal', 'PropertyGFAParking',\n",
       "       'PropertyGFABuilding(s)', 'LargestPropertyUseTypeGFA',\n",
       "       'SecondLargestPropertyUseTypeGFA', 'ThirdLargestPropertyUseTypeGFA',\n",
       "       'SteamUse(kBtu)', 'Electricity(kBtu)', 'NaturalGas(kBtu)'],\n",
       "      dtype='object')"
      ]
     },
     "execution_count": 90,
     "metadata": {},
     "output_type": "execute_result"
    }
   ],
   "source": [
    "numeric=X_train.dtypes[X_train.dtypes!='object'].index\n",
    "numeric"
   ]
  },
  {
   "cell_type": "markdown",
   "id": "9ba06e5a",
   "metadata": {},
   "source": [
    "# Exploration des variables Categorielles"
   ]
  },
  {
   "cell_type": "code",
   "execution_count": 91,
   "id": "a9c973a3",
   "metadata": {},
   "outputs": [
    {
     "data": {
      "text/html": [
       "<div>\n",
       "<style scoped>\n",
       "    .dataframe tbody tr th:only-of-type {\n",
       "        vertical-align: middle;\n",
       "    }\n",
       "\n",
       "    .dataframe tbody tr th {\n",
       "        vertical-align: top;\n",
       "    }\n",
       "\n",
       "    .dataframe thead th {\n",
       "        text-align: right;\n",
       "    }\n",
       "</style>\n",
       "<table border=\"1\" class=\"dataframe\">\n",
       "  <thead>\n",
       "    <tr style=\"text-align: right;\">\n",
       "      <th></th>\n",
       "      <th>BuildingType</th>\n",
       "      <th>PrimaryPropertyType</th>\n",
       "      <th>Neighborhood</th>\n",
       "      <th>LargestPropertyUseType</th>\n",
       "      <th>SecondLargestPropertyUseType</th>\n",
       "      <th>ThirdLargestPropertyUseType</th>\n",
       "    </tr>\n",
       "  </thead>\n",
       "  <tbody>\n",
       "    <tr>\n",
       "      <th>count</th>\n",
       "      <td>1425</td>\n",
       "      <td>1425</td>\n",
       "      <td>1425</td>\n",
       "      <td>1425</td>\n",
       "      <td>1425</td>\n",
       "      <td>1425</td>\n",
       "    </tr>\n",
       "    <tr>\n",
       "      <th>unique</th>\n",
       "      <td>8</td>\n",
       "      <td>24</td>\n",
       "      <td>19</td>\n",
       "      <td>55</td>\n",
       "      <td>44</td>\n",
       "      <td>41</td>\n",
       "    </tr>\n",
       "    <tr>\n",
       "      <th>top</th>\n",
       "      <td>NonResidential</td>\n",
       "      <td>Small- and Mid-Sized Office</td>\n",
       "      <td>DOWNTOWN</td>\n",
       "      <td>Office</td>\n",
       "      <td>None</td>\n",
       "      <td>None</td>\n",
       "    </tr>\n",
       "    <tr>\n",
       "      <th>freq</th>\n",
       "      <td>1013</td>\n",
       "      <td>200</td>\n",
       "      <td>333</td>\n",
       "      <td>333</td>\n",
       "      <td>591</td>\n",
       "      <td>1021</td>\n",
       "    </tr>\n",
       "  </tbody>\n",
       "</table>\n",
       "</div>"
      ],
      "text/plain": [
       "          BuildingType          PrimaryPropertyType Neighborhood  \\\n",
       "count             1425                         1425         1425   \n",
       "unique               8                           24           19   \n",
       "top     NonResidential  Small- and Mid-Sized Office     DOWNTOWN   \n",
       "freq              1013                          200          333   \n",
       "\n",
       "       LargestPropertyUseType SecondLargestPropertyUseType  \\\n",
       "count                    1425                         1425   \n",
       "unique                     55                           44   \n",
       "top                    Office                         None   \n",
       "freq                      333                          591   \n",
       "\n",
       "       ThirdLargestPropertyUseType  \n",
       "count                         1425  \n",
       "unique                          41  \n",
       "top                           None  \n",
       "freq                          1021  "
      ]
     },
     "execution_count": 91,
     "metadata": {},
     "output_type": "execute_result"
    }
   ],
   "source": [
    "X_train[categ].describe()"
   ]
  },
  {
   "cell_type": "code",
   "execution_count": 92,
   "id": "faf713d5",
   "metadata": {},
   "outputs": [
    {
     "data": {
      "image/png": "[encoded data removed]",
      "text/plain": [
       "<Figure size 1080x1800 with 6 Axes>"
      ]
     },
     "metadata": {
      "needs_background": "light"
     },
     "output_type": "display_data"
    }
   ],
   "source": [
    "X_val = X_train[categ].values\n",
    "fig = plt.figure(figsize=(15, 25))\n",
    "for feat_idx in range(X_val.shape[1]):\n",
    "    ax = fig.add_subplot(7,3, (feat_idx+1))\n",
    "    h = ax.hist(X_val[:,feat_idx])\n",
    "    ax.set_title(X_train[categ].columns[feat_idx])"
   ]
  },
  {
   "cell_type": "markdown",
   "id": "f7a12609",
   "metadata": {},
   "source": [
    "## Variables numeriques"
   ]
  },
  {
   "cell_type": "code",
   "execution_count": 93,
   "id": "23d6516b",
   "metadata": {},
   "outputs": [
    {
     "data": {
      "image/png": "[encoded data removed]",
      "text/plain": [
       "<Figure size 432x288 with 1 Axes>"
      ]
     },
     "metadata": {
      "needs_background": "light"
     },
     "output_type": "display_data"
    },
    {
     "data": {
      "image/png": "[encoded data removed]",
      "text/plain": [
       "<Figure size 432x288 with 1 Axes>"
      ]
     },
     "metadata": {
      "needs_background": "light"
     },
     "output_type": "display_data"
    },
    {
     "data": {
      "image/png": "[encoded data removed]",
      "text/plain": [
       "<Figure size 432x288 with 1 Axes>"
      ]
     },
     "metadata": {
      "needs_background": "light"
     },
     "output_type": "display_data"
    },
    {
     "data": {
      "image/png": "[encoded data removed]",
      "text/plain": [
       "<Figure size 432x288 with 1 Axes>"
      ]
     },
     "metadata": {
      "needs_background": "light"
     },
     "output_type": "display_data"
    },
    {
     "data": {
      "image/png": "[encoded data removed]",
      "text/plain": [
       "<Figure size 432x288 with 1 Axes>"
      ]
     },
     "metadata": {
      "needs_background": "light"
     },
     "output_type": "display_data"
    },
    {
     "data": {
      "image/png": "[encoded data removed]",
      "text/plain": [
       "<Figure size 432x288 with 1 Axes>"
      ]
     },
     "metadata": {
      "needs_background": "light"
     },
     "output_type": "display_data"
    },
    {
     "data": {
      "image/png": "[encoded data removed]",
      "text/plain": [
       "<Figure size 432x288 with 1 Axes>"
      ]
     },
     "metadata": {
      "needs_background": "light"
     },
     "output_type": "display_data"
    },
    {
     "data": {
      "image/png": "[encoded data removed]",
      "text/plain": [
       "<Figure size 432x288 with 1 Axes>"
      ]
     },
     "metadata": {
      "needs_background": "light"
     },
     "output_type": "display_data"
    },
    {
     "data": {
      "image/png": "[encoded data removed]",
      "text/plain": [
       "<Figure size 432x288 with 1 Axes>"
      ]
     },
     "metadata": {
      "needs_background": "light"
     },
     "output_type": "display_data"
    },
    {
     "data": {
      "image/png": "[encoded data removed]",
      "text/plain": [
       "<Figure size 432x288 with 1 Axes>"
      ]
     },
     "metadata": {
      "needs_background": "light"
     },
     "output_type": "display_data"
    },
    {
     "data": {
      "image/png": "[encoded data removed]",
      "text/plain": [
       "<Figure size 432x288 with 1 Axes>"
      ]
     },
     "metadata": {
      "needs_background": "light"
     },
     "output_type": "display_data"
    },
    {
     "data": {
      "image/png": "[encoded data removed]",
      "text/plain": [
       "<Figure size 432x288 with 1 Axes>"
      ]
     },
     "metadata": {
      "needs_background": "light"
     },
     "output_type": "display_data"
    },
    {
     "data": {
      "image/png": "[encoded data removed]",
      "text/plain": [
       "<Figure size 432x288 with 1 Axes>"
      ]
     },
     "metadata": {
      "needs_background": "light"
     },
     "output_type": "display_data"
    },
    {
     "data": {
      "image/png": "[encoded data removed]",
      "text/plain": [
       "<Figure size 432x288 with 1 Axes>"
      ]
     },
     "metadata": {
      "needs_background": "light"
     },
     "output_type": "display_data"
    },
    {
     "data": {
      "text/plain": [
       "<Figure size 432x288 with 0 Axes>"
      ]
     },
     "metadata": {},
     "output_type": "display_data"
    }
   ],
   "source": [
    "import seaborn as sns\n",
    "for indic in numeric:\n",
    "    d=sns.distplot(X_train[indic])\n",
    "    fig = plt.figure()\n"
   ]
  },
  {
   "cell_type": "code",
   "execution_count": 94,
   "id": "49cd2a5b",
   "metadata": {},
   "outputs": [
    {
     "data": {
      "image/png": "[encoded data removed]",
      "text/plain": [
       "<Figure size 1440x1440 with 14 Axes>"
      ]
     },
     "metadata": {
      "needs_background": "light"
     },
     "output_type": "display_data"
    }
   ],
   "source": [
    "X_num = X_train[numeric].values\n",
    "fig = plt.figure(figsize=(20, 20))\n",
    "for feat_idx in range(X_num.shape[1]):\n",
    "    ax = fig.add_subplot(8,3, (feat_idx+1))\n",
    "    h = ax.boxplot(X_num[:,feat_idx])\n",
    "    ax.set_title((X_train[numeric].columns[feat_idx]))"
   ]
  },
  {
   "cell_type": "markdown",
   "id": "0da619d1",
   "metadata": {},
   "source": [
    "## Distribution des variables numeriques\n",
    "On divises les variables numeriques en 3 categories: Les variables a distribution normale, les variables discretes et les variables asymetriques (skewed) pour pouvoir appliques les transformations correspondantes a chaque type de distribution"
   ]
  },
  {
   "cell_type": "code",
   "execution_count": 95,
   "id": "6fc817dc",
   "metadata": {},
   "outputs": [],
   "source": [
    "normal=['Latitude', 'Longitude']\n",
    "discrete=['CouncilDistrictCode', 'YearBuilt']\n",
    "\n",
    "skewed=['NumberofFloors', 'PropertyGFATotal', 'PropertyGFAParking',\n",
    "       'PropertyGFABuilding(s)', 'LargestPropertyUseTypeGFA',\n",
    "       'SecondLargestPropertyUseTypeGFA', 'ThirdLargestPropertyUseTypeGFA',\n",
    "       ]\n",
    "boolean=['SteamUse(kBtu)', 'Electricity(kBtu)',\n",
    "       'NaturalGas(kBtu)']"
   ]
  },
  {
   "cell_type": "markdown",
   "id": "b8765db2",
   "metadata": {},
   "source": [
    "## Information sur l'emission et la consommation"
   ]
  },
  {
   "cell_type": "code",
   "execution_count": 96,
   "id": "85f227a0",
   "metadata": {},
   "outputs": [
    {
     "data": {
      "image/png": "[encoded data removed]",
      "text/plain": [
       "<Figure size 1440x1440 with 2 Axes>"
      ]
     },
     "metadata": {
      "needs_background": "light"
     },
     "output_type": "display_data"
    }
   ],
   "source": [
    "y_consom = y_train.values\n",
    "\n",
    "\n",
    "fig = plt.figure(figsize=(20, 20))\n",
    "for feat_idx in range(y_consom.shape[1]):\n",
    "    ax = fig.add_subplot(3,3, (feat_idx+1))\n",
    "    h = ax.hist(y_consom[:,feat_idx], color='steelblue', density=True, edgecolor='none')\n",
    "    ax.set_title(y.columns[feat_idx], fontsize=14)"
   ]
  },
  {
   "cell_type": "code",
   "execution_count": 97,
   "id": "d89e1c91",
   "metadata": {},
   "outputs": [
    {
     "data": {
      "image/png": "[encoded data removed]",
      "text/plain": [
       "<Figure size 1440x1440 with 2 Axes>"
      ]
     },
     "metadata": {
      "needs_background": "light"
     },
     "output_type": "display_data"
    }
   ],
   "source": [
    "fig = plt.figure(figsize=(20, 20))\n",
    "for feat_idx in range(y_consom.shape[1]):\n",
    "    ax = fig.add_subplot(3,3, (feat_idx+1))\n",
    "    h = ax.boxplot(np.log1p(y_consom[:,feat_idx]))\n",
    "    ax.set_title(y.columns[feat_idx], fontsize=14)"
   ]
  },
  {
   "cell_type": "code",
   "execution_count": 98,
   "id": "a152efc2",
   "metadata": {},
   "outputs": [
    {
     "data": {
      "text/html": [
       "<div>\n",
       "<style scoped>\n",
       "    .dataframe tbody tr th:only-of-type {\n",
       "        vertical-align: middle;\n",
       "    }\n",
       "\n",
       "    .dataframe tbody tr th {\n",
       "        vertical-align: top;\n",
       "    }\n",
       "\n",
       "    .dataframe thead th {\n",
       "        text-align: right;\n",
       "    }\n",
       "</style>\n",
       "<table border=\"1\" class=\"dataframe\">\n",
       "  <thead>\n",
       "    <tr style=\"text-align: right;\">\n",
       "      <th></th>\n",
       "      <th>count</th>\n",
       "      <th>mean</th>\n",
       "      <th>std</th>\n",
       "      <th>min</th>\n",
       "      <th>25%</th>\n",
       "      <th>50%</th>\n",
       "      <th>75%</th>\n",
       "      <th>max</th>\n",
       "    </tr>\n",
       "  </thead>\n",
       "  <tbody>\n",
       "    <tr>\n",
       "      <th>SiteEnergyUse(kBtu)</th>\n",
       "      <td>2036.0</td>\n",
       "      <td>7.668814e+06</td>\n",
       "      <td>2.750964e+07</td>\n",
       "      <td>0.0</td>\n",
       "      <td>1236944.750</td>\n",
       "      <td>2498541.375</td>\n",
       "      <td>6482950.00</td>\n",
       "      <td>8.739237e+08</td>\n",
       "    </tr>\n",
       "    <tr>\n",
       "      <th>TotalGHGEmissions</th>\n",
       "      <td>2036.0</td>\n",
       "      <td>1.697973e+02</td>\n",
       "      <td>6.857019e+02</td>\n",
       "      <td>0.0</td>\n",
       "      <td>18.945</td>\n",
       "      <td>49.145</td>\n",
       "      <td>135.14</td>\n",
       "      <td>1.687098e+04</td>\n",
       "    </tr>\n",
       "  </tbody>\n",
       "</table>\n",
       "</div>"
      ],
      "text/plain": [
       "                      count          mean           std  min          25%  \\\n",
       "SiteEnergyUse(kBtu)  2036.0  7.668814e+06  2.750964e+07  0.0  1236944.750   \n",
       "TotalGHGEmissions    2036.0  1.697973e+02  6.857019e+02  0.0       18.945   \n",
       "\n",
       "                             50%         75%           max  \n",
       "SiteEnergyUse(kBtu)  2498541.375  6482950.00  8.739237e+08  \n",
       "TotalGHGEmissions         49.145      135.14  1.687098e+04  "
      ]
     },
     "execution_count": 98,
     "metadata": {},
     "output_type": "execute_result"
    }
   ],
   "source": [
    "y.describe().transpose()"
   ]
  },
  {
   "cell_type": "markdown",
   "id": "f17552f8",
   "metadata": {},
   "source": [
    "## Remarque\n",
    "La variable cible **SiteEnergyUse(kBtu)** presente beaucoup de *outliers* dans la partie inferieure. Cela empeche la transformation de la distribution en une distribution normale. Pour remedier a cette situation on enleve ces outliers (Valeur=0) du dataset (un total de consammation d'energie =0 n'etant dans tous les cas pas pertinent pour notre etude)\t"
   ]
  },
  {
   "cell_type": "code",
   "execution_count": 99,
   "id": "801349b3",
   "metadata": {},
   "outputs": [
    {
     "name": "stdout",
     "output_type": "stream",
     "text": [
      "count    1425.000000\n",
      "mean       14.748963\n",
      "std         1.844490\n",
      "min         0.000000\n",
      "25%        14.032706\n",
      "50%        14.711780\n",
      "75%        15.655764\n",
      "max        20.588504\n",
      "Name: SiteEnergyUse(kBtu), dtype: float64\n"
     ]
    },
    {
     "data": {
      "image/png": "[encoded data removed]",
      "text/plain": [
       "<Figure size 360x360 with 1 Axes>"
      ]
     },
     "metadata": {
      "needs_background": "light"
     },
     "output_type": "display_data"
    },
    {
     "data": {
      "image/png": "[encoded data removed]",
      "text/plain": [
       "<Figure size 432x288 with 1 Axes>"
      ]
     },
     "metadata": {
      "needs_background": "light"
     },
     "output_type": "display_data"
    },
    {
     "name": "stdout",
     "output_type": "stream",
     "text": [
      "count    1425.000000\n",
      "mean        3.942584\n",
      "std         1.437635\n",
      "min         0.000000\n",
      "25%         2.976549\n",
      "50%         3.914420\n",
      "75%         4.894850\n",
      "max         9.733410\n",
      "Name: TotalGHGEmissions, dtype: float64\n"
     ]
    },
    {
     "data": {
      "image/png": "[encoded data removed]",
      "text/plain": [
       "<Figure size 432x288 with 1 Axes>"
      ]
     },
     "metadata": {
      "needs_background": "light"
     },
     "output_type": "display_data"
    },
    {
     "data": {
      "image/png": "[encoded data removed]",
      "text/plain": [
       "<Figure size 432x288 with 1 Axes>"
      ]
     },
     "metadata": {
      "needs_background": "light"
     },
     "output_type": "display_data"
    }
   ],
   "source": [
    "fig = plt.figure(figsize=(5, 5))\n",
    "for indic in y_train.columns:\n",
    "    print(np.log1p(y_train[indic]).describe())\n",
    "    h = plt.boxplot(np.log1p(y_train[indic]))\n",
    "    plt.title(indic, fontsize=14)\n",
    "    plt.show()\n",
    "    sns.distplot(np.log1p(y_train[indic]))\n",
    "    plt.show()"
   ]
  },
  {
   "cell_type": "markdown",
   "id": "a1d25f54",
   "metadata": {},
   "source": [
    "## Elimination des valeurs nulles pour SiteEnergyUse\n",
    "On elimine tous les objets ayant une valeur SiteEnergyUse=0 des dataset X et y"
   ]
  },
  {
   "cell_type": "code",
   "execution_count": 100,
   "id": "f33bc160",
   "metadata": {},
   "outputs": [],
   "source": [
    "a=y_train[y_train['SiteEnergyUse(kBtu)']==0].index"
   ]
  },
  {
   "cell_type": "code",
   "execution_count": 101,
   "id": "2d48135c",
   "metadata": {},
   "outputs": [],
   "source": [
    "y_train=y_train.drop(index=a)"
   ]
  },
  {
   "cell_type": "code",
   "execution_count": 102,
   "id": "8843aac1",
   "metadata": {},
   "outputs": [],
   "source": [
    "b=y_test[y_test['SiteEnergyUse(kBtu)']==0].index"
   ]
  },
  {
   "cell_type": "code",
   "execution_count": 103,
   "id": "b74aa3a6",
   "metadata": {},
   "outputs": [],
   "source": [
    "y_test=y_test.drop(index=b)\n",
    "X_test=X_test.drop(index=b)"
   ]
  },
  {
   "cell_type": "code",
   "execution_count": 104,
   "id": "c406b655",
   "metadata": {},
   "outputs": [],
   "source": [
    "X_train=X_train.drop(index=a)"
   ]
  },
  {
   "cell_type": "markdown",
   "id": "c3294f6a",
   "metadata": {},
   "source": [
    "## Distribution des variables cibles apres elimination des valeurs aberrantes"
   ]
  },
  {
   "cell_type": "code",
   "execution_count": 105,
   "id": "e79b1190",
   "metadata": {},
   "outputs": [
    {
     "name": "stdout",
     "output_type": "stream",
     "text": [
      "count    1413.000000\n",
      "mean       14.874220\n",
      "std         1.251656\n",
      "min        10.698616\n",
      "25%        14.047842\n",
      "50%        14.721065\n",
      "75%        15.665167\n",
      "max        20.588504\n",
      "Name: SiteEnergyUse(kBtu), dtype: float64\n"
     ]
    },
    {
     "data": {
      "image/png": "[encoded data removed]",
      "text/plain": [
       "<Figure size 360x360 with 1 Axes>"
      ]
     },
     "metadata": {
      "needs_background": "light"
     },
     "output_type": "display_data"
    },
    {
     "data": {
      "image/png": "[encoded data removed]",
      "text/plain": [
       "<Figure size 432x288 with 1 Axes>"
      ]
     },
     "metadata": {
      "needs_background": "light"
     },
     "output_type": "display_data"
    },
    {
     "name": "stdout",
     "output_type": "stream",
     "text": [
      "count    1413.000000\n",
      "mean        3.954087\n",
      "std         1.427206\n",
      "min         0.000000\n",
      "25%         2.989211\n",
      "50%         3.917011\n",
      "75%         4.894850\n",
      "max         9.733410\n",
      "Name: TotalGHGEmissions, dtype: float64\n"
     ]
    },
    {
     "data": {
      "image/png": "[encoded data removed]",
      "text/plain": [
       "<Figure size 432x288 with 1 Axes>"
      ]
     },
     "metadata": {
      "needs_background": "light"
     },
     "output_type": "display_data"
    },
    {
     "data": {
      "image/png": "[encoded data removed]",
      "text/plain": [
       "<Figure size 432x288 with 1 Axes>"
      ]
     },
     "metadata": {
      "needs_background": "light"
     },
     "output_type": "display_data"
    }
   ],
   "source": [
    "fig = plt.figure(figsize=(5, 5))\n",
    "for indic in y_train.columns:\n",
    "    print(np.log1p(y_train[indic]).describe())\n",
    "    h = plt.boxplot(np.log1p(y_train[indic]))\n",
    "    plt.title(indic, fontsize=14)\n",
    "    plt.show()\n",
    "    sns.distplot(np.log1p(y_train[indic]))\n",
    "    plt.show()"
   ]
  },
  {
   "cell_type": "markdown",
   "id": "ea7c65ad",
   "metadata": {},
   "source": [
    "Apres elimination des valeurs aberrantes la distribution de la variable **SiteEnergyUse(kBtu)** se raproche plus de la normale"
   ]
  },
  {
   "cell_type": "code",
   "execution_count": 106,
   "id": "1416c5c1",
   "metadata": {},
   "outputs": [],
   "source": [
    "X_train.to_csv('XTrain.csv', index=False)\n",
    "X_test.to_csv('XTest.csv', index=False)\n",
    "y_train.to_csv('yTrain.csv', index=False)\n",
    "y_test.to_csv('yTest.csv', index=False)"
   ]
  },
  {
   "cell_type": "code",
   "execution_count": 107,
   "id": "223effd7",
   "metadata": {},
   "outputs": [],
   "source": [
    "dfES.to_csv('dfEnergyScore.csv', index=False)"
   ]
  },
  {
   "cell_type": "markdown",
   "id": "11b7808f",
   "metadata": {},
   "source": [
    "# Transformation des variables\n",
    "Preparation des pipelines pour la transformation des variables selon leur type ou leur distribution"
   ]
  },
  {
   "cell_type": "markdown",
   "id": "a5baa22c",
   "metadata": {},
   "source": [
    "## Transformation des variables categorique \n"
   ]
  },
  {
   "cell_type": "code",
   "execution_count": 108,
   "id": "65f0725a",
   "metadata": {},
   "outputs": [],
   "source": [
    "from sklearn.pipeline import Pipeline\n",
    "import category_encoders as ce"
   ]
  },
  {
   "cell_type": "code",
   "execution_count": 109,
   "id": "59f0bbf6",
   "metadata": {},
   "outputs": [],
   "source": [
    "encoder = ce.BackwardDifferenceEncoder(verbose=3, cols=categ, mapping=None, drop_invariant=True, return_df=True, handle_unknown='value', handle_missing='value')\n",
    "encoder.fit(X_train[categ])\n",
    "ncateg=encoder.get_feature_names()"
   ]
  },
  {
   "cell_type": "code",
   "execution_count": 110,
   "id": "e7cddaed",
   "metadata": {},
   "outputs": [],
   "source": [
    "encoder1 = ce.BackwardDifferenceEncoder(verbose=3, cols=categ, mapping=None, drop_invariant=True, return_df=True, handle_unknown='value', handle_missing='value')"
   ]
  },
  {
   "cell_type": "markdown",
   "id": "c28be8bc",
   "metadata": {},
   "source": [
    "## Transformation des variables numeriques\n",
    "Les variables numeriques sont divisees en plusieurs categories selon leur distribution. A chaque categorie on applique une forme de transformation"
   ]
  },
  {
   "cell_type": "code",
   "execution_count": 111,
   "id": "002ac811",
   "metadata": {},
   "outputs": [],
   "source": [
    "from sklearn.preprocessing import StandardScaler\n",
    "scaler = StandardScaler()\n",
    "from sklearn.preprocessing import RobustScaler\n",
    "from sklearn.preprocessing import FunctionTransformer"
   ]
  },
  {
   "cell_type": "markdown",
   "id": "d41721be",
   "metadata": {},
   "source": [
    "### Les variables Skewed\n",
    "On applique une transformation par log(x+1) pour prendre en compte les 0, puis un RobustScaler comme les distributions sont asymetriques meme apres logtransformation. Le robust trainer effectue la normalisation a partir de la mediane au lieu de la moyenne"
   ]
  },
  {
   "cell_type": "code",
   "execution_count": 112,
   "id": "4593f320",
   "metadata": {},
   "outputs": [],
   "source": [
    "log_pipeline=Pipeline(steps=[('transformer', FunctionTransformer(np.log1p)),('scaler',RobustScaler())])"
   ]
  },
  {
   "cell_type": "code",
   "execution_count": 113,
   "id": "f93047f2",
   "metadata": {},
   "outputs": [],
   "source": [
    "ylog_pipeline=Pipeline(steps=[('transformer', FunctionTransformer(np.log1p)),('scaler',StandardScaler())])"
   ]
  },
  {
   "cell_type": "markdown",
   "id": "22f5cac2",
   "metadata": {},
   "source": [
    "## ColumnTransformer\n",
    "Pour appliquer les transformation sur toutes les varibales on utilise le ColumnTransformer"
   ]
  },
  {
   "cell_type": "code",
   "execution_count": 115,
   "id": "b0a4ebda",
   "metadata": {},
   "outputs": [],
   "source": [
    "from sklearn.compose import ColumnTransformer\n",
    "full_pipeline = ColumnTransformer([('normal',scaler, normal), ('discret', scaler, discrete), ('skewed', log_pipeline, skewed) ,('categ', encoder1, categ)],remainder='passthrough')"
   ]
  },
  {
   "cell_type": "code",
   "execution_count": 116,
   "id": "aac6fd16",
   "metadata": {},
   "outputs": [
    {
     "data": {
      "text/plain": [
       "ColumnTransformer(remainder='passthrough',\n",
       "                  transformers=[('normal', StandardScaler(),\n",
       "                                 ['Latitude', 'Longitude']),\n",
       "                                ('discret', StandardScaler(),\n",
       "                                 ['CouncilDistrictCode', 'YearBuilt']),\n",
       "                                ('skewed',\n",
       "                                 Pipeline(steps=[('transformer',\n",
       "                                                  FunctionTransformer(func=<ufunc 'log1p'>)),\n",
       "                                                 ('scaler', RobustScaler())]),\n",
       "                                 ['NumberofFloors', 'PropertyGFATotal',\n",
       "                                  'PropertyGFAParking',\n",
       "                                  'Proper...\n",
       "                                 BackwardDifferenceEncoder(cols=Index(['BuildingType', 'PrimaryPropertyType', 'Neighborhood',\n",
       "       'LargestPropertyUseType', 'SecondLargestPropertyUseType',\n",
       "       'ThirdLargestPropertyUseType'],\n",
       "      dtype='object'),\n",
       "                                                           drop_invariant=True,\n",
       "                                                           verbose=3),\n",
       "                                 Index(['BuildingType', 'PrimaryPropertyType', 'Neighborhood',\n",
       "       'LargestPropertyUseType', 'SecondLargestPropertyUseType',\n",
       "       'ThirdLargestPropertyUseType'],\n",
       "      dtype='object'))])"
      ]
     },
     "execution_count": 116,
     "metadata": {},
     "output_type": "execute_result"
    }
   ],
   "source": [
    "full_pipeline.fit(X_train)"
   ]
  },
  {
   "cell_type": "code",
   "execution_count": 117,
   "id": "2f5c2b39",
   "metadata": {},
   "outputs": [],
   "source": [
    "X_train=full_pipeline.transform(X_train)\n",
    "X_test=full_pipeline.transform(X_test)\n",
    "ylog_pipeline.fit(y_train)\n",
    "\n",
    "y_test=ylog_pipeline.transform(y_test)\n",
    "\n",
    "y_train=ylog_pipeline.transform(y_train)"
   ]
  },
  {
   "cell_type": "code",
   "execution_count": 118,
   "id": "a96e643d",
   "metadata": {},
   "outputs": [
    {
     "data": {
      "text/plain": [
       "(1413, 199)"
      ]
     },
     "execution_count": 118,
     "metadata": {},
     "output_type": "execute_result"
    }
   ],
   "source": [
    "X_train.shape"
   ]
  },
  {
   "cell_type": "markdown",
   "id": "4c057e48",
   "metadata": {},
   "source": [
    "## Recuperation des feature names et reconstruction des dataframes\n",
    "On utilisera les datasets transformer pour effectuer les regressions dans les notebooks suivants"
   ]
  },
  {
   "cell_type": "code",
   "execution_count": 119,
   "id": "301a56ea",
   "metadata": {},
   "outputs": [],
   "source": [
    "col=np.concatenate((normal,discrete,skewed,ncateg,boolean), axis=0, out=None, dtype=None, casting=\"same_kind\")\n",
    "\n",
    "X_train=pd.DataFrame(X_train, columns=col)\n",
    "X_test=pd.DataFrame(X_test, columns=col)\n",
    "y_train=pd.DataFrame(y_train, columns=['SiteEnergyUse(kBtu)','TotalGHGEmissions'])\n",
    "y_test=pd.DataFrame(y_test, columns=['SiteEnergyUse(kBtu)','TotalGHGEmissions'])"
   ]
  },
  {
   "cell_type": "code",
   "execution_count": 120,
   "id": "ba7d9145",
   "metadata": {},
   "outputs": [],
   "source": [
    "X_train.to_csv('XTrainTrans.csv', index=False)\n",
    "X_test.to_csv('XTestTrans.csv', index=False)\n",
    "y_train.to_csv('yTrainTrans.csv', index=False)\n",
    "y_test.to_csv('yTestTrans.csv', index=False)"
   ]
  },
  {
   "cell_type": "markdown",
   "id": "2dc43a9a",
   "metadata": {},
   "source": [
    "## Distribution des variables apres transformation"
   ]
  },
  {
   "cell_type": "code",
   "execution_count": 121,
   "id": "ba685683",
   "metadata": {},
   "outputs": [
    {
     "data": {
      "image/png": "[encoded data removed]",
      "text/plain": [
       "<Figure size 1440x1440 with 7 Axes>"
      ]
     },
     "metadata": {
      "needs_background": "light"
     },
     "output_type": "display_data"
    }
   ],
   "source": [
    "X_num = X_train[skewed].values\n",
    "fig = plt.figure(figsize=(20, 20))\n",
    "for feat_idx in range(X_num.shape[1]):\n",
    "    ax = fig.add_subplot(8,3, (feat_idx+1))\n",
    "    h = ax.boxplot(X_num[:,feat_idx])\n",
    "    ax.set_title((X_train[skewed].columns[feat_idx]))"
   ]
  },
  {
   "cell_type": "code",
   "execution_count": 122,
   "id": "5139c47c",
   "metadata": {},
   "outputs": [
    {
     "data": {
      "image/png": "[encoded data removed]",
      "text/plain": [
       "<Figure size 432x288 with 1 Axes>"
      ]
     },
     "metadata": {
      "needs_background": "light"
     },
     "output_type": "display_data"
    },
    {
     "data": {
      "image/png": "[encoded data removed]",
      "text/plain": [
       "<Figure size 432x288 with 1 Axes>"
      ]
     },
     "metadata": {
      "needs_background": "light"
     },
     "output_type": "display_data"
    },
    {
     "data": {
      "text/plain": [
       "<Figure size 432x288 with 0 Axes>"
      ]
     },
     "metadata": {},
     "output_type": "display_data"
    }
   ],
   "source": [
    "import seaborn as sns\n",
    "for indic in discrete:\n",
    "    d=sns.distplot(X_train[indic])\n",
    "    fig = plt.figure()"
   ]
  },
  {
   "cell_type": "code",
   "execution_count": 123,
   "id": "cbf68880",
   "metadata": {},
   "outputs": [
    {
     "data": {
      "image/png": "[encoded data removed]",
      "text/plain": [
       "<Figure size 432x288 with 1 Axes>"
      ]
     },
     "metadata": {
      "needs_background": "light"
     },
     "output_type": "display_data"
    },
    {
     "data": {
      "image/png": "[encoded data removed]",
      "text/plain": [
       "<Figure size 432x288 with 1 Axes>"
      ]
     },
     "metadata": {
      "needs_background": "light"
     },
     "output_type": "display_data"
    },
    {
     "data": {
      "text/plain": [
       "<Figure size 432x288 with 0 Axes>"
      ]
     },
     "metadata": {},
     "output_type": "display_data"
    }
   ],
   "source": [
    "import seaborn as sns\n",
    "for indic in normal:\n",
    "    d=sns.distplot(X_train[indic])\n",
    "    fig = plt.figure()"
   ]
  },
  {
   "cell_type": "code",
   "execution_count": 124,
   "id": "2258e744",
   "metadata": {},
   "outputs": [
    {
     "data": {
      "image/png": "[encoded data removed]",
      "text/plain": [
       "<Figure size 432x288 with 1 Axes>"
      ]
     },
     "metadata": {
      "needs_background": "light"
     },
     "output_type": "display_data"
    },
    {
     "data": {
      "image/png": "[encoded data removed]",
      "text/plain": [
       "<Figure size 432x288 with 1 Axes>"
      ]
     },
     "metadata": {
      "needs_background": "light"
     },
     "output_type": "display_data"
    },
    {
     "data": {
      "image/png": "[encoded data removed]",
      "text/plain": [
       "<Figure size 432x288 with 1 Axes>"
      ]
     },
     "metadata": {
      "needs_background": "light"
     },
     "output_type": "display_data"
    },
    {
     "data": {
      "image/png": "[encoded data removed]",
      "text/plain": [
       "<Figure size 432x288 with 1 Axes>"
      ]
     },
     "metadata": {
      "needs_background": "light"
     },
     "output_type": "display_data"
    },
    {
     "data": {
      "image/png": "[encoded data removed]",
      "text/plain": [
       "<Figure size 432x288 with 1 Axes>"
      ]
     },
     "metadata": {
      "needs_background": "light"
     },
     "output_type": "display_data"
    },
    {
     "data": {
      "image/png": "[encoded data removed]",
      "text/plain": [
       "<Figure size 432x288 with 1 Axes>"
      ]
     },
     "metadata": {
      "needs_background": "light"
     },
     "output_type": "display_data"
    },
    {
     "data": {
      "image/png": "[encoded data removed]",
      "text/plain": [
       "<Figure size 432x288 with 1 Axes>"
      ]
     },
     "metadata": {
      "needs_background": "light"
     },
     "output_type": "display_data"
    },
    {
     "data": {
      "text/plain": [
       "<Figure size 432x288 with 0 Axes>"
      ]
     },
     "metadata": {},
     "output_type": "display_data"
    }
   ],
   "source": [
    "import seaborn as sns\n",
    "for indic in skewed:\n",
    "    d=sns.distplot(X_train[indic])\n",
    "    fig = plt.figure()"
   ]
  },
  {
   "cell_type": "markdown",
   "id": "fb42ae0a",
   "metadata": {},
   "source": [
    "## Le dataset avec ENERGYSTARScore\n",
    "On verifie la distibution des variables cibles transformees dans le dataset avec ENERGYSTARScore, cette distribution semble normale pour les 2 variables en questions , il n'est donc pas necessaire d'eliminer les valeurs aberrantes pour ce dataset"
   ]
  },
  {
   "cell_type": "code",
   "execution_count": 125,
   "id": "77f48c29",
   "metadata": {},
   "outputs": [
    {
     "data": {
      "text/plain": [
       "Index(['SiteEnergyUse(kBtu)', 'TotalGHGEmissions'], dtype='object')"
      ]
     },
     "execution_count": 125,
     "metadata": {},
     "output_type": "execute_result"
    }
   ],
   "source": [
    "energyCorr=dfES.corr()['SiteEnergyUse(kBtu)']\n",
    "energyCorr=energyCorr[energyCorr>0.75]\n",
    "energyCorr.index"
   ]
  },
  {
   "cell_type": "code",
   "execution_count": 126,
   "id": "30c415ff",
   "metadata": {},
   "outputs": [
    {
     "data": {
      "text/plain": [
       "Index(['SiteEnergyUse(kBtu)', 'TotalGHGEmissions'], dtype='object')"
      ]
     },
     "execution_count": 126,
     "metadata": {},
     "output_type": "execute_result"
    }
   ],
   "source": [
    "energyCorr=dfES.corr()['TotalGHGEmissions']\n",
    "energyCorr=energyCorr[energyCorr>0.75]\n",
    "energyCorr.index"
   ]
  },
  {
   "cell_type": "code",
   "execution_count": 127,
   "id": "01b8701e",
   "metadata": {},
   "outputs": [
    {
     "name": "stdout",
     "output_type": "stream",
     "text": [
      "correlated features:  4\n"
     ]
    }
   ],
   "source": [
    "def correlation(dataset, threshold):\n",
    "    col_corr = set()  # Set of all the names of correlated columns\n",
    "    corr_matrix = dataset.corr()\n",
    "    for i in range(len(corr_matrix.columns)):\n",
    "        for j in range(i):\n",
    "            if abs(corr_matrix.iloc[i, j]) > threshold: # we are interested in absolute coeff value\n",
    "                colname = corr_matrix.columns[i]  # getting the name of column\n",
    "                col_corr.add(colname)\n",
    "    return col_corr\n",
    "\n",
    "corr_features = correlation(dfES, 0.75)\n",
    "print('correlated features: ', len(set(corr_features)) )"
   ]
  },
  {
   "cell_type": "code",
   "execution_count": 128,
   "id": "a61f9fb5",
   "metadata": {},
   "outputs": [
    {
     "data": {
      "text/plain": [
       "{'LargestPropertyUseTypeGFA',\n",
       " 'PropertyGFABuilding(s)',\n",
       " 'SecondLargestPropertyUseTypeGFA',\n",
       " 'TotalGHGEmissions'}"
      ]
     },
     "execution_count": 128,
     "metadata": {},
     "output_type": "execute_result"
    }
   ],
   "source": [
    "corr_features"
   ]
  },
  {
   "cell_type": "code",
   "execution_count": 129,
   "id": "aeef784e",
   "metadata": {},
   "outputs": [],
   "source": [
    "yES=dfES[['SiteEnergyUse(kBtu)','TotalGHGEmissions']]"
   ]
  },
  {
   "cell_type": "code",
   "execution_count": 130,
   "id": "ba1df309",
   "metadata": {},
   "outputs": [],
   "source": [
    "XES=dfES.drop(columns=['SiteEnergyUse(kBtu)','TotalGHGEmissions'])"
   ]
  },
  {
   "cell_type": "code",
   "execution_count": 131,
   "id": "aadf487e",
   "metadata": {},
   "outputs": [],
   "source": [
    "XES_train, XES_test, yES_train, yES_test=train_test_split(XES,yES,test_size=0.3, random_state=42)"
   ]
  },
  {
   "cell_type": "code",
   "execution_count": null,
   "id": "cd6cb146",
   "metadata": {},
   "outputs": [],
   "source": []
  },
  {
   "cell_type": "code",
   "execution_count": 132,
   "id": "b2fd20eb",
   "metadata": {},
   "outputs": [],
   "source": [
    "encoder.fit(XES_train[categ])\n",
    "ncateg=encoder.get_feature_names()"
   ]
  },
  {
   "cell_type": "code",
   "execution_count": 133,
   "id": "31d0c0eb",
   "metadata": {},
   "outputs": [
    {
     "data": {
      "text/plain": [
       "123"
      ]
     },
     "execution_count": 133,
     "metadata": {},
     "output_type": "execute_result"
    }
   ],
   "source": [
    "len(ncateg)"
   ]
  },
  {
   "cell_type": "code",
   "execution_count": 134,
   "id": "df4576a0",
   "metadata": {},
   "outputs": [],
   "source": [
    "normal=['Latitude', 'Longitude','ENERGYSTARScore']"
   ]
  },
  {
   "cell_type": "code",
   "execution_count": 135,
   "id": "3c3879ea",
   "metadata": {},
   "outputs": [
    {
     "data": {
      "text/plain": [
       "['Latitude', 'Longitude', 'ENERGYSTARScore']"
      ]
     },
     "execution_count": 135,
     "metadata": {},
     "output_type": "execute_result"
    }
   ],
   "source": [
    "normal"
   ]
  },
  {
   "cell_type": "code",
   "execution_count": 136,
   "id": "16326d30",
   "metadata": {},
   "outputs": [],
   "source": [
    "full_pipelineES = ColumnTransformer([('normal',scaler, normal), ('discret', scaler, discrete), ('skewed', log_pipeline, skewed) ,('categ', encoder1, categ)],remainder='passthrough')"
   ]
  },
  {
   "cell_type": "code",
   "execution_count": 137,
   "id": "9f15e47c",
   "metadata": {},
   "outputs": [
    {
     "data": {
      "text/plain": [
       "ColumnTransformer(remainder='passthrough',\n",
       "                  transformers=[('normal', StandardScaler(),\n",
       "                                 ['Latitude', 'Longitude', 'ENERGYSTARScore']),\n",
       "                                ('discret', StandardScaler(),\n",
       "                                 ['CouncilDistrictCode', 'YearBuilt']),\n",
       "                                ('skewed',\n",
       "                                 Pipeline(steps=[('transformer',\n",
       "                                                  FunctionTransformer(func=<ufunc 'log1p'>)),\n",
       "                                                 ('scaler', RobustScaler())]),\n",
       "                                 ['NumberofFloors', 'PropertyGFATotal',\n",
       "                                  'PropertyG...\n",
       "                                 BackwardDifferenceEncoder(cols=Index(['BuildingType', 'PrimaryPropertyType', 'Neighborhood',\n",
       "       'LargestPropertyUseType', 'SecondLargestPropertyUseType',\n",
       "       'ThirdLargestPropertyUseType'],\n",
       "      dtype='object'),\n",
       "                                                           drop_invariant=True,\n",
       "                                                           verbose=3),\n",
       "                                 Index(['BuildingType', 'PrimaryPropertyType', 'Neighborhood',\n",
       "       'LargestPropertyUseType', 'SecondLargestPropertyUseType',\n",
       "       'ThirdLargestPropertyUseType'],\n",
       "      dtype='object'))])"
      ]
     },
     "execution_count": 137,
     "metadata": {},
     "output_type": "execute_result"
    }
   ],
   "source": [
    "full_pipelineES.fit(XES_train)"
   ]
  },
  {
   "cell_type": "code",
   "execution_count": 138,
   "id": "2275c15b",
   "metadata": {},
   "outputs": [],
   "source": [
    "XES_train=full_pipelineES.transform(XES_train)\n",
    "XES_test=full_pipelineES.transform(XES_test)\n",
    "ylog_pipeline.fit(yES_train)\n",
    "\n",
    "yES_test=ylog_pipeline.transform(yES_test)\n",
    "\n",
    "yES_train=ylog_pipeline.transform(yES_train)"
   ]
  },
  {
   "cell_type": "code",
   "execution_count": 139,
   "id": "f1249c8d",
   "metadata": {},
   "outputs": [],
   "source": [
    "col=np.concatenate((normal,discrete,skewed,ncateg,boolean), axis=0, out=None, dtype=None, casting=\"same_kind\")\n",
    "\n",
    "XES_train=pd.DataFrame(XES_train, columns=col)\n",
    "XES_test=pd.DataFrame(XES_test, columns=col)\n",
    "yES_train=pd.DataFrame(yES_train, columns=['SiteEnergyUse(kBtu)','TotalGHGEmissions'])\n",
    "yES_test=pd.DataFrame(yES_test, columns=['SiteEnergyUse(kBtu)','TotalGHGEmissions'])"
   ]
  },
  {
   "cell_type": "code",
   "execution_count": 140,
   "id": "b819b0c3",
   "metadata": {},
   "outputs": [],
   "source": [
    "XES_train.to_csv('XESTrainTrans.csv', index=False)\n",
    "XES_test.to_csv('XESTestTrans.csv', index=False)\n",
    "yES_train.to_csv('yESTrainTrans.csv', index=False)\n",
    "yES_test.to_csv('yESTestTrans.csv', index=False)"
   ]
  },
  {
   "cell_type": "code",
   "execution_count": 141,
   "id": "184bac3d",
   "metadata": {},
   "outputs": [
    {
     "data": {
      "image/png": "[encoded data removed]",
      "text/plain": [
       "<Figure size 432x288 with 1 Axes>"
      ]
     },
     "metadata": {
      "needs_background": "light"
     },
     "output_type": "display_data"
    },
    {
     "data": {
      "image/png": "[encoded data removed]",
      "text/plain": [
       "<Figure size 432x288 with 1 Axes>"
      ]
     },
     "metadata": {
      "needs_background": "light"
     },
     "output_type": "display_data"
    },
    {
     "data": {
      "image/png": "[encoded data removed]",
      "text/plain": [
       "<Figure size 432x288 with 1 Axes>"
      ]
     },
     "metadata": {
      "needs_background": "light"
     },
     "output_type": "display_data"
    },
    {
     "data": {
      "text/plain": [
       "<Figure size 432x288 with 0 Axes>"
      ]
     },
     "metadata": {},
     "output_type": "display_data"
    }
   ],
   "source": [
    "import seaborn as sns\n",
    "for indic in normal:\n",
    "    d=sns.distplot(XES_train[indic])\n",
    "    fig = plt.figure()"
   ]
  },
  {
   "cell_type": "code",
   "execution_count": 142,
   "id": "2f1f3e26",
   "metadata": {},
   "outputs": [
    {
     "name": "stdout",
     "output_type": "stream",
     "text": [
      "count    606.000000\n",
      "mean       0.036522\n",
      "std        1.047338\n",
      "min       -4.292208\n",
      "25%       -0.669080\n",
      "50%       -0.037248\n",
      "75%        0.712564\n",
      "max        3.689799\n",
      "Name: SiteEnergyUse(kBtu), dtype: float64\n"
     ]
    },
    {
     "data": {
      "image/png": "[encoded data removed]",
      "text/plain": [
       "<Figure size 360x360 with 1 Axes>"
      ]
     },
     "metadata": {
      "needs_background": "light"
     },
     "output_type": "display_data"
    },
    {
     "data": {
      "image/png": "[encoded data removed]",
      "text/plain": [
       "<Figure size 432x288 with 1 Axes>"
      ]
     },
     "metadata": {
      "needs_background": "light"
     },
     "output_type": "display_data"
    },
    {
     "name": "stdout",
     "output_type": "stream",
     "text": [
      "count    606.000000\n",
      "mean       0.021141\n",
      "std        1.014194\n",
      "min       -2.711086\n",
      "25%       -0.646854\n",
      "50%       -0.009916\n",
      "75%        0.745161\n",
      "max        3.829765\n",
      "Name: TotalGHGEmissions, dtype: float64\n"
     ]
    },
    {
     "data": {
      "image/png": "[encoded data removed]",
      "text/plain": [
       "<Figure size 432x288 with 1 Axes>"
      ]
     },
     "metadata": {
      "needs_background": "light"
     },
     "output_type": "display_data"
    },
    {
     "data": {
      "image/png": "[encoded data removed]",
      "text/plain": [
       "<Figure size 432x288 with 1 Axes>"
      ]
     },
     "metadata": {
      "needs_background": "light"
     },
     "output_type": "display_data"
    }
   ],
   "source": [
    "fig = plt.figure(figsize=(5, 5))\n",
    "for indic in y_test.columns:\n",
    "    print(y_test[indic].describe())\n",
    "    h = plt.boxplot(y_test[indic])\n",
    "    plt.title(indic, fontsize=14)\n",
    "    plt.show()\n",
    "    sns.distplot(y_test[indic])\n",
    "    plt.show()"
   ]
  },
  {
   "cell_type": "markdown",
   "id": "bf953631",
   "metadata": {},
   "source": [
    "Le probleme des valeurs aberrantes dans **SiteEnergyUse(kBtu)** n'apparait pas dans le dataset contenant *ENERGYSTARScore*"
   ]
  },
  {
   "cell_type": "code",
   "execution_count": 143,
   "id": "0e3a988b",
   "metadata": {},
   "outputs": [
    {
     "data": {
      "image/png": "[encoded data removed]",
      "text/plain": [
       "<Figure size 1440x1440 with 7 Axes>"
      ]
     },
     "metadata": {
      "needs_background": "light"
     },
     "output_type": "display_data"
    }
   ],
   "source": [
    "X_num = XES_train[skewed].values\n",
    "fig = plt.figure(figsize=(20, 20))\n",
    "for feat_idx in range(X_num.shape[1]):\n",
    "    ax = fig.add_subplot(8,3, (feat_idx+1))\n",
    "    h = ax.boxplot(X_num[:,feat_idx])\n",
    "    ax.set_title((XES_train[skewed].columns[feat_idx]))"
   ]
  },
  {
   "cell_type": "code",
   "execution_count": null,
   "id": "5be20174",
   "metadata": {},
   "outputs": [],
   "source": []
  },
  {
   "cell_type": "code",
   "execution_count": null,
   "id": "9ddf43a4",
   "metadata": {},
   "outputs": [],
   "source": []
  },
  {
   "cell_type": "code",
   "execution_count": null,
   "id": "1332fcc9",
   "metadata": {},
   "outputs": [],
   "source": []
  }
 ],
 "metadata": {
  "kernelspec": {
   "display_name": "Python 3 (ipykernel)",
   "language": "python",
   "name": "python3"
  },
  "language_info": {
   "codemirror_mode": {
    "name": "ipython",
    "version": 3
   },
   "file_extension": ".py",
   "mimetype": "text/x-python",
   "name": "python",
   "nbconvert_exporter": "python",
   "pygments_lexer": "ipython3",
   "version": "3.9.7"
  }
 },
 "nbformat": 4,
 "nbformat_minor": 5
}
