{
 "cells": [
  {
   "cell_type": "code",
   "execution_count": 1,
   "id": "acc1dbe1",
   "metadata": {},
   "outputs": [],
   "source": [
    "import pandas as pd\n",
    "import warnings\n",
    "import numpy as np\n",
    "import seaborn as sns\n",
    "warnings.filterwarnings(\"ignore\")\n",
    "X_train=pd.read_csv('XTrainTrans.csv')\n",
    "X_test=pd.read_csv('XTestTrans.csv')\n",
    "y_train=pd.read_csv('yTrainTrans.csv')\n",
    "y_test=pd.read_csv('yTestTrans.csv')"
   ]
  },
  {
   "cell_type": "code",
   "execution_count": 2,
   "id": "29633db0",
   "metadata": {},
   "outputs": [
    {
     "data": {
      "text/plain": [
       "Index(['Latitude', 'Longitude', 'CouncilDistrictCode', 'YearBuilt',\n",
       "       'NumberofFloors', 'PropertyGFATotal', 'PropertyGFAParking',\n",
       "       'PropertyGFABuilding(s)', 'LargestPropertyUseTypeGFA',\n",
       "       'SecondLargestPropertyUseTypeGFA',\n",
       "       ...\n",
       "       'ThirdLargestPropertyUseType_33', 'ThirdLargestPropertyUseType_34',\n",
       "       'ThirdLargestPropertyUseType_35', 'ThirdLargestPropertyUseType_36',\n",
       "       'ThirdLargestPropertyUseType_37', 'ThirdLargestPropertyUseType_38',\n",
       "       'ThirdLargestPropertyUseType_39', 'SteamUse(kBtu)', 'Electricity(kBtu)',\n",
       "       'NaturalGas(kBtu)'],\n",
       "      dtype='object', length=199)"
      ]
     },
     "execution_count": 2,
     "metadata": {},
     "output_type": "execute_result"
    }
   ],
   "source": [
    "X_train.columns"
   ]
  },
  {
   "cell_type": "code",
   "execution_count": 3,
   "id": "7f370853",
   "metadata": {},
   "outputs": [
    {
     "data": {
      "text/plain": [
       "Index(['SiteEnergyUse(kBtu)', 'TotalGHGEmissions'], dtype='object')"
      ]
     },
     "execution_count": 3,
     "metadata": {},
     "output_type": "execute_result"
    }
   ],
   "source": [
    "y_train.columns"
   ]
  },
  {
   "cell_type": "code",
   "execution_count": 4,
   "id": "886587f6",
   "metadata": {},
   "outputs": [
    {
     "data": {
      "text/plain": [
       "Index(['Latitude', 'Longitude', 'CouncilDistrictCode', 'YearBuilt',\n",
       "       'NumberofFloors', 'PropertyGFATotal', 'PropertyGFAParking',\n",
       "       'PropertyGFABuilding(s)', 'LargestPropertyUseTypeGFA',\n",
       "       'SecondLargestPropertyUseTypeGFA', 'ThirdLargestPropertyUseTypeGFA',\n",
       "       'BuildingType_0', 'BuildingType_1', 'BuildingType_2', 'BuildingType_3',\n",
       "       'BuildingType_4', 'BuildingType_5', 'BuildingType_6'],\n",
       "      dtype='object')"
      ]
     },
     "execution_count": 4,
     "metadata": {},
     "output_type": "execute_result"
    }
   ],
   "source": [
    "X_train.columns[:18]"
   ]
  },
  {
   "cell_type": "markdown",
   "id": "4ed1219a",
   "metadata": {},
   "source": [
    "## On travaille sur la prediction de l'emission de CO2"
   ]
  },
  {
   "cell_type": "code",
   "execution_count": 5,
   "id": "d29b3059",
   "metadata": {},
   "outputs": [
    {
     "data": {
      "text/plain": [
       "Index(['SiteEnergyUse(kBtu)', 'TotalGHGEmissions'], dtype='object')"
      ]
     },
     "execution_count": 5,
     "metadata": {},
     "output_type": "execute_result"
    }
   ],
   "source": [
    "y_train.columns"
   ]
  },
  {
   "cell_type": "code",
   "execution_count": 6,
   "id": "5b24eab8",
   "metadata": {},
   "outputs": [],
   "source": [
    "y_emissions=y_train['TotalGHGEmissions']"
   ]
  },
  {
   "cell_type": "code",
   "execution_count": 7,
   "id": "2a410754",
   "metadata": {},
   "outputs": [],
   "source": [
    "y_test_emissions=y_test['TotalGHGEmissions']"
   ]
  },
  {
   "cell_type": "markdown",
   "id": "f7df6e44",
   "metadata": {},
   "source": [
    "# Regressions lineaires\n",
    "Nous allons commencer notre etudes des methodes de predictions des methodes les plus simples vers les plus performentes. Nous commencerons donc par les regressions lineaires"
   ]
  },
  {
   "cell_type": "markdown",
   "id": "ff62da48",
   "metadata": {},
   "source": [
    "## 1- Dummy regression\n",
    "On commence par cette regression qui predira uniquement la moyenne (c'est la pire regression possible et nous donnera donc une baseline)"
   ]
  },
  {
   "cell_type": "code",
   "execution_count": 8,
   "id": "a3ed124c",
   "metadata": {},
   "outputs": [],
   "source": [
    "import timeit\n",
    "from sklearn import dummy\n",
    "from sklearn.metrics import mean_squared_error\n",
    "from sklearn.metrics import mean_absolute_error\n",
    "dum = dummy.DummyRegressor(strategy='mean')"
   ]
  },
  {
   "cell_type": "code",
   "execution_count": 9,
   "id": "1e92ed3d",
   "metadata": {},
   "outputs": [],
   "source": [
    "score=pd.DataFrame()\n"
   ]
  },
  {
   "cell_type": "code",
   "execution_count": 10,
   "id": "12b0561e",
   "metadata": {},
   "outputs": [
    {
     "name": "stdout",
     "output_type": "stream",
     "text": [
      "The time of execution is 0.00057s\n"
     ]
    }
   ],
   "source": [
    "score.loc['Model',0]='Dummy'\n",
    "start_time = timeit.default_timer()\n",
    "dum.fit(X_train, y_emissions)\n",
    "y_pred_dum = dum.predict(X_test)\n",
    "elapsed = timeit.default_timer() - start_time\n",
    "score.loc['Time',0]=elapsed\n",
    "print (\"The time of execution is {:.5f}s\".format(elapsed))"
   ]
  },
  {
   "cell_type": "code",
   "execution_count": 11,
   "id": "7901e72e",
   "metadata": {},
   "outputs": [],
   "source": [
    "def get_score(y, ypred,i):\n",
    "    mse=mean_squared_error(y, ypred)\n",
    "    score.loc['MSE', i]=mse\n",
    "    print(\"MSE : {:.2f}\".format(mse))\n",
    "    rmse=np.sqrt(mse)\n",
    "    score.loc['RMSE',i]= rmse\n",
    "    print(\"RMSE : {:.2f}\".format(rmse))\n",
    "    mae=mean_absolute_error(y,ypred)\n",
    "    score.loc['MAE', i]= mae\n",
    "    print(\"MAE : {:.2f}\".format(mae))\n"
   ]
  },
  {
   "cell_type": "code",
   "execution_count": 12,
   "id": "095e1f55",
   "metadata": {},
   "outputs": [
    {
     "name": "stdout",
     "output_type": "stream",
     "text": [
      "MSE : 1.03\n",
      "RMSE : 1.01\n",
      "MAE : 0.81\n"
     ]
    }
   ],
   "source": [
    "get_score(y_test_emissions, y_pred_dum,0)"
   ]
  },
  {
   "cell_type": "code",
   "execution_count": 13,
   "id": "686b2c2a",
   "metadata": {},
   "outputs": [
    {
     "data": {
      "text/html": [
       "<div>\n",
       "<style scoped>\n",
       "    .dataframe tbody tr th:only-of-type {\n",
       "        vertical-align: middle;\n",
       "    }\n",
       "\n",
       "    .dataframe tbody tr th {\n",
       "        vertical-align: top;\n",
       "    }\n",
       "\n",
       "    .dataframe thead th {\n",
       "        text-align: right;\n",
       "    }\n",
       "</style>\n",
       "<table border=\"1\" class=\"dataframe\">\n",
       "  <thead>\n",
       "    <tr style=\"text-align: right;\">\n",
       "      <th></th>\n",
       "      <th>0</th>\n",
       "    </tr>\n",
       "  </thead>\n",
       "  <tbody>\n",
       "    <tr>\n",
       "      <th>Model</th>\n",
       "      <td>Dummy</td>\n",
       "    </tr>\n",
       "    <tr>\n",
       "      <th>Time</th>\n",
       "      <td>0.000575</td>\n",
       "    </tr>\n",
       "    <tr>\n",
       "      <th>MSE</th>\n",
       "      <td>1.02734</td>\n",
       "    </tr>\n",
       "    <tr>\n",
       "      <th>RMSE</th>\n",
       "      <td>1.013578</td>\n",
       "    </tr>\n",
       "    <tr>\n",
       "      <th>MAE</th>\n",
       "      <td>0.807477</td>\n",
       "    </tr>\n",
       "  </tbody>\n",
       "</table>\n",
       "</div>"
      ],
      "text/plain": [
       "              0\n",
       "Model     Dummy\n",
       "Time   0.000575\n",
       "MSE     1.02734\n",
       "RMSE   1.013578\n",
       "MAE    0.807477"
      ]
     },
     "execution_count": 13,
     "metadata": {},
     "output_type": "execute_result"
    }
   ],
   "source": [
    "score"
   ]
  },
  {
   "cell_type": "code",
   "execution_count": 14,
   "id": "7456e1f7",
   "metadata": {},
   "outputs": [],
   "source": [
    "def get_r2(model,X,y,i):\n",
    "    score.loc['R2',i]= model.score(X, y)\n",
    "    print(\"R2 : {:.5f}\".format(model.score(X, y)))"
   ]
  },
  {
   "cell_type": "code",
   "execution_count": 15,
   "id": "b33b3dd7",
   "metadata": {},
   "outputs": [
    {
     "name": "stdout",
     "output_type": "stream",
     "text": [
      "R2 : -0.00044\n"
     ]
    }
   ],
   "source": [
    "get_r2(dum, X_test, y_test_emissions,0)"
   ]
  },
  {
   "cell_type": "markdown",
   "id": "1f835ece",
   "metadata": {},
   "source": [
    "## Conclusion: \n",
    "Dummy Regression nous donne le pire scenario, on voit bien q'avec un R2 negatif et des erreurs assez grande, ce model ne donne pas d'informations sur les predictions"
   ]
  },
  {
   "cell_type": "markdown",
   "id": "6974f891",
   "metadata": {},
   "source": [
    "## 2- Linear regression"
   ]
  },
  {
   "cell_type": "code",
   "execution_count": 16,
   "id": "98db5cfd",
   "metadata": {},
   "outputs": [
    {
     "name": "stdout",
     "output_type": "stream",
     "text": [
      "The time of execution is 0.03954s\n"
     ]
    }
   ],
   "source": [
    "score.loc['Model', 1]='Linear Regression'\n",
    "from sklearn import linear_model\n",
    "start_time = timeit.default_timer()\n",
    "lr = linear_model.LinearRegression()\n",
    "lr.fit(X_train,y_emissions)\n",
    "y_pred_base=lr.predict(X_test)\n",
    "elapsed = timeit.default_timer() - start_time\n",
    "score.loc['Time', 1]=elapsed\n",
    "print (\"The time of execution is {:.5f}s\".format(elapsed))"
   ]
  },
  {
   "cell_type": "code",
   "execution_count": 17,
   "id": "193533fd",
   "metadata": {},
   "outputs": [
    {
     "name": "stdout",
     "output_type": "stream",
     "text": [
      "MSE : 8323271811504648192.00\n",
      "RMSE : 2885008112.90\n",
      "MAE : 192488148.63\n"
     ]
    }
   ],
   "source": [
    "get_score(y_test_emissions, y_pred_base,1)"
   ]
  },
  {
   "cell_type": "code",
   "execution_count": 18,
   "id": "d5e750bc",
   "metadata": {},
   "outputs": [
    {
     "name": "stdout",
     "output_type": "stream",
     "text": [
      "R2 : -8105297949664456704.00000\n"
     ]
    }
   ],
   "source": [
    "get_r2(lr,X_test, y_test_emissions,1)"
   ]
  },
  {
   "cell_type": "code",
   "execution_count": 19,
   "id": "dcfaa21d",
   "metadata": {},
   "outputs": [
    {
     "data": {
      "text/plain": [
       "<matplotlib.collections.PathCollection at 0x1d0af588e80>"
      ]
     },
     "execution_count": 19,
     "metadata": {},
     "output_type": "execute_result"
    },
    {
     "data": {
      "image/png": "[encoded data removed]",
      "text/plain": [
       "<Figure size 432x288 with 1 Axes>"
      ]
     },
     "metadata": {
      "needs_background": "light"
     },
     "output_type": "display_data"
    }
   ],
   "source": [
    "import matplotlib.pyplot as plt\n",
    "plt.scatter(y_pred_base, y_test_emissions)"
   ]
  },
  {
   "cell_type": "markdown",
   "id": "0d8a6684",
   "metadata": {},
   "source": [
    "## Conclusion\n",
    "La regression lineaire donne des resultats aberrants, pour mieux comprendre la cause de ces scores, on regardes les coefficients des variables de regression"
   ]
  },
  {
   "cell_type": "markdown",
   "id": "55e645db",
   "metadata": {},
   "source": [
    "### Coefficients des variables\n",
    "Afin de comprendre l'importance des variables dans la prediction de la variable cible on regarde les coefficients de la regression. Je vais mettre les coefficients des regressions lineaire Ridge et Lasso dans un meme DataFrame afin de pouvoir comparer la performence et la decision de chaque methode"
   ]
  },
  {
   "cell_type": "code",
   "execution_count": 20,
   "id": "5a1f7655",
   "metadata": {},
   "outputs": [],
   "source": [
    "importance = lr.coef_"
   ]
  },
  {
   "cell_type": "code",
   "execution_count": 21,
   "id": "7138949c",
   "metadata": {},
   "outputs": [],
   "source": [
    "imp=pd.DataFrame()\n",
    "imp['Feature']=X_train.columns\n",
    "imp['LinearRegression']=importance"
   ]
  },
  {
   "cell_type": "code",
   "execution_count": 22,
   "id": "7afbbe0e",
   "metadata": {},
   "outputs": [
    {
     "data": {
      "image/png": "[encoded data removed]",
      "text/plain": [
       "<Figure size 432x288 with 1 Axes>"
      ]
     },
     "metadata": {
      "needs_background": "light"
     },
     "output_type": "display_data"
    }
   ],
   "source": [
    "import matplotlib.pyplot as plt\n",
    "plt.bar([x for x in range(len(importance))], importance)\n",
    "plt.show()"
   ]
  },
  {
   "cell_type": "code",
   "execution_count": 23,
   "id": "497f8f60",
   "metadata": {},
   "outputs": [
    {
     "data": {
      "text/html": [
       "<div>\n",
       "<style scoped>\n",
       "    .dataframe tbody tr th:only-of-type {\n",
       "        vertical-align: middle;\n",
       "    }\n",
       "\n",
       "    .dataframe tbody tr th {\n",
       "        vertical-align: top;\n",
       "    }\n",
       "\n",
       "    .dataframe thead th {\n",
       "        text-align: right;\n",
       "    }\n",
       "</style>\n",
       "<table border=\"1\" class=\"dataframe\">\n",
       "  <thead>\n",
       "    <tr style=\"text-align: right;\">\n",
       "      <th></th>\n",
       "      <th>LinearRegression</th>\n",
       "    </tr>\n",
       "  </thead>\n",
       "  <tbody>\n",
       "    <tr>\n",
       "      <th>count</th>\n",
       "      <td>1.990000e+02</td>\n",
       "    </tr>\n",
       "    <tr>\n",
       "      <th>mean</th>\n",
       "      <td>4.914134e+07</td>\n",
       "    </tr>\n",
       "    <tr>\n",
       "      <th>std</th>\n",
       "      <td>2.167981e+10</td>\n",
       "    </tr>\n",
       "    <tr>\n",
       "      <th>min</th>\n",
       "      <td>-1.336779e+11</td>\n",
       "    </tr>\n",
       "    <tr>\n",
       "      <th>25%</th>\n",
       "      <td>-3.918655e-01</td>\n",
       "    </tr>\n",
       "    <tr>\n",
       "      <th>50%</th>\n",
       "      <td>2.674749e-02</td>\n",
       "    </tr>\n",
       "    <tr>\n",
       "      <th>75%</th>\n",
       "      <td>3.733493e-01</td>\n",
       "    </tr>\n",
       "    <tr>\n",
       "      <th>max</th>\n",
       "      <td>1.336779e+11</td>\n",
       "    </tr>\n",
       "  </tbody>\n",
       "</table>\n",
       "</div>"
      ],
      "text/plain": [
       "       LinearRegression\n",
       "count      1.990000e+02\n",
       "mean       4.914134e+07\n",
       "std        2.167981e+10\n",
       "min       -1.336779e+11\n",
       "25%       -3.918655e-01\n",
       "50%        2.674749e-02\n",
       "75%        3.733493e-01\n",
       "max        1.336779e+11"
      ]
     },
     "execution_count": 23,
     "metadata": {},
     "output_type": "execute_result"
    }
   ],
   "source": [
    "imp.describe()"
   ]
  },
  {
   "cell_type": "markdown",
   "id": "f731ebe9",
   "metadata": {},
   "source": [
    "## Interpretation \n",
    "On voit bien ici que les resultats sont du aux gros poids des coefficients. En effet,  les coefficients ont des poids tres importants et donc agissent d'une facon extreme sur les predictions d'ou les scores tres importants dans les indicateurs d'erreurs. Cela est surtout du au fait qu'il existe des correlations entres les variables. Pour gerer la multicollinearite, on essaie les regressions Ridge et Lasso qui effectuent des regularisations sur l'erreur quadratique (l2) ou lineaire (l1)"
   ]
  },
  {
   "cell_type": "code",
   "execution_count": 24,
   "id": "b29c4f81",
   "metadata": {},
   "outputs": [],
   "source": [
    "negReg=imp.sort_values(by='LinearRegression').head(15)"
   ]
  },
  {
   "cell_type": "code",
   "execution_count": 25,
   "id": "6785534c",
   "metadata": {},
   "outputs": [],
   "source": [
    "posReg=imp.sort_values(by='LinearRegression', ascending=False).head(15)"
   ]
  },
  {
   "cell_type": "code",
   "execution_count": 26,
   "id": "80883868",
   "metadata": {},
   "outputs": [
    {
     "data": {
      "image/png": "[encoded data removed]",
      "text/plain": [
       "<Figure size 432x432 with 1 Axes>"
      ]
     },
     "metadata": {
      "needs_background": "light"
     },
     "output_type": "display_data"
    },
    {
     "data": {
      "image/png": "[encoded data removed]",
      "text/plain": [
       "<Figure size 432x288 with 1 Axes>"
      ]
     },
     "metadata": {
      "needs_background": "light"
     },
     "output_type": "display_data"
    }
   ],
   "source": [
    "import matplotlib.pyplot as plt\n",
    "import seaborn as sns\n",
    "fig = plt.figure(figsize=(6, 6))\n",
    "#ax = fig.add_subplot(1,2,2)\n",
    "ax=sns.barplot(x='LinearRegression',y='Feature', data = posReg) \n",
    "plt.show()\n",
    "ax=sns.barplot(x='LinearRegression',y='Feature', data = negReg) "
   ]
  },
  {
   "cell_type": "markdown",
   "id": "2da6aa69",
   "metadata": {},
   "source": [
    "## 3- Regression ridge\n",
    "\n"
   ]
  },
  {
   "cell_type": "markdown",
   "id": "714e1ef8",
   "metadata": {},
   "source": [
    "Recherche des hyperparametres avec GridSearchCV"
   ]
  },
  {
   "cell_type": "code",
   "execution_count": 27,
   "id": "893b5e90",
   "metadata": {},
   "outputs": [],
   "source": [
    "from sklearn.linear_model import Ridge\n",
    "ridge=Ridge()\n",
    "n_alphas = 300\n",
    "alphas = np.logspace(-5, 5, n_alphas)\n",
    "from sklearn.model_selection import GridSearchCV\n",
    "param = {\n",
    "    'alpha':alphas,\n",
    "    'fit_intercept':[True,False],\n",
    "          }\n",
    "search = GridSearchCV(ridge, param, scoring='r2', n_jobs=-1, cv=5)\n"
   ]
  },
  {
   "cell_type": "code",
   "execution_count": 28,
   "id": "5fc45abc",
   "metadata": {},
   "outputs": [],
   "source": [
    "searchTable=pd.DataFrame()"
   ]
  },
  {
   "cell_type": "code",
   "execution_count": 29,
   "id": "80d364bc",
   "metadata": {},
   "outputs": [
    {
     "name": "stdout",
     "output_type": "stream",
     "text": [
      "The time of execution is 41.84s\n"
     ]
    }
   ],
   "source": [
    "searchTable.loc['Model',2]='Ridge'\n",
    "start_time=timeit.default_timer()\n",
    "result = search.fit(X_train, y_emissions)\n",
    "elapsed = timeit.default_timer() - start_time\n",
    "searchTable.loc['Search Time',2]=elapsed\n",
    "print (\"The time of execution is {:.2f}s\".format(elapsed))"
   ]
  },
  {
   "cell_type": "code",
   "execution_count": 30,
   "id": "d898287f",
   "metadata": {},
   "outputs": [],
   "source": [
    "def bestScore(model, i):\n",
    "    searchTable.loc['Best Score',i]=model.best_score_\n",
    "    #searchTable.loc['Best Hyperparameters',i]=model.best_params_\n",
    "    print('Best Score: %s' % model.best_score_)\n",
    "    print('Best Hyperparameters: %s' % model.best_params_)"
   ]
  },
  {
   "cell_type": "code",
   "execution_count": 31,
   "id": "c7ef59d0",
   "metadata": {},
   "outputs": [
    {
     "name": "stdout",
     "output_type": "stream",
     "text": [
      "Best Score: 0.7119298291482622\n",
      "Best Hyperparameters: {'alpha': 4.156512558225988, 'fit_intercept': True}\n"
     ]
    }
   ],
   "source": [
    "bestScore(search,2)"
   ]
  },
  {
   "cell_type": "code",
   "execution_count": 32,
   "id": "2bb2d0ad",
   "metadata": {},
   "outputs": [],
   "source": [
    "Model= result.best_estimator_"
   ]
  },
  {
   "cell_type": "code",
   "execution_count": 33,
   "id": "89d153cc",
   "metadata": {},
   "outputs": [
    {
     "name": "stdout",
     "output_type": "stream",
     "text": [
      "The time of execution is 0.04s\n"
     ]
    }
   ],
   "source": [
    "score.loc['Model',2]='Ridge'\n",
    "start_time=timeit.default_timer()\n",
    "Model.fit(X_train,y_emissions)\n",
    "ypredRidge=Model.predict(X_test)\n",
    "elapsed = timeit.default_timer() - start_time\n",
    "score.loc['Time',2]=elapsed\n",
    "print (\"The time of execution is {:.2f}s\".format(elapsed))"
   ]
  },
  {
   "cell_type": "code",
   "execution_count": 34,
   "id": "a7850db6",
   "metadata": {},
   "outputs": [
    {
     "name": "stdout",
     "output_type": "stream",
     "text": [
      "MSE : 0.30\n",
      "RMSE : 0.54\n",
      "MAE : 0.42\n"
     ]
    }
   ],
   "source": [
    "get_score(y_test_emissions,ypredRidge,2)"
   ]
  },
  {
   "cell_type": "code",
   "execution_count": 35,
   "id": "fa361e22",
   "metadata": {},
   "outputs": [
    {
     "name": "stdout",
     "output_type": "stream",
     "text": [
      "R2 : 0.71085\n"
     ]
    }
   ],
   "source": [
    "get_r2(Model,X_test, y_test_emissions, 2)"
   ]
  },
  {
   "cell_type": "markdown",
   "id": "a63b0d6c",
   "metadata": {},
   "source": [
    "## Feature importances\n",
    "On voit bien que le score de la regression Ridge presente une nette amelioration de la regression lineaire. Nous allons regarder les coefficients des variables par la regression Ridge"
   ]
  },
  {
   "cell_type": "code",
   "execution_count": 36,
   "id": "86a90035",
   "metadata": {},
   "outputs": [],
   "source": [
    "importance = Model.coef_\n",
    "imp['Ridge']=importance\n"
   ]
  },
  {
   "cell_type": "code",
   "execution_count": 37,
   "id": "047d8ef9",
   "metadata": {},
   "outputs": [
    {
     "data": {
      "image/png": "[encoded data removed]",
      "text/plain": [
       "<Figure size 432x288 with 1 Axes>"
      ]
     },
     "metadata": {
      "needs_background": "light"
     },
     "output_type": "display_data"
    }
   ],
   "source": [
    "plt.bar([x for x in range(len(importance))], importance)\n",
    "plt.show()"
   ]
  },
  {
   "cell_type": "code",
   "execution_count": 38,
   "id": "f6e58bb3",
   "metadata": {},
   "outputs": [
    {
     "data": {
      "text/html": [
       "<div>\n",
       "<style scoped>\n",
       "    .dataframe tbody tr th:only-of-type {\n",
       "        vertical-align: middle;\n",
       "    }\n",
       "\n",
       "    .dataframe tbody tr th {\n",
       "        vertical-align: top;\n",
       "    }\n",
       "\n",
       "    .dataframe thead th {\n",
       "        text-align: right;\n",
       "    }\n",
       "</style>\n",
       "<table border=\"1\" class=\"dataframe\">\n",
       "  <thead>\n",
       "    <tr style=\"text-align: right;\">\n",
       "      <th></th>\n",
       "      <th>LinearRegression</th>\n",
       "      <th>Ridge</th>\n",
       "    </tr>\n",
       "  </thead>\n",
       "  <tbody>\n",
       "    <tr>\n",
       "      <th>count</th>\n",
       "      <td>1.990000e+02</td>\n",
       "      <td>199.000000</td>\n",
       "    </tr>\n",
       "    <tr>\n",
       "      <th>mean</th>\n",
       "      <td>4.914134e+07</td>\n",
       "      <td>0.022626</td>\n",
       "    </tr>\n",
       "    <tr>\n",
       "      <th>std</th>\n",
       "      <td>2.167981e+10</td>\n",
       "      <td>0.175153</td>\n",
       "    </tr>\n",
       "    <tr>\n",
       "      <th>min</th>\n",
       "      <td>-1.336779e+11</td>\n",
       "      <td>-0.407123</td>\n",
       "    </tr>\n",
       "    <tr>\n",
       "      <th>25%</th>\n",
       "      <td>-3.918655e-01</td>\n",
       "      <td>-0.083271</td>\n",
       "    </tr>\n",
       "    <tr>\n",
       "      <th>50%</th>\n",
       "      <td>2.674749e-02</td>\n",
       "      <td>0.013258</td>\n",
       "    </tr>\n",
       "    <tr>\n",
       "      <th>75%</th>\n",
       "      <td>3.733493e-01</td>\n",
       "      <td>0.092415</td>\n",
       "    </tr>\n",
       "    <tr>\n",
       "      <th>max</th>\n",
       "      <td>1.336779e+11</td>\n",
       "      <td>0.942649</td>\n",
       "    </tr>\n",
       "  </tbody>\n",
       "</table>\n",
       "</div>"
      ],
      "text/plain": [
       "       LinearRegression       Ridge\n",
       "count      1.990000e+02  199.000000\n",
       "mean       4.914134e+07    0.022626\n",
       "std        2.167981e+10    0.175153\n",
       "min       -1.336779e+11   -0.407123\n",
       "25%       -3.918655e-01   -0.083271\n",
       "50%        2.674749e-02    0.013258\n",
       "75%        3.733493e-01    0.092415\n",
       "max        1.336779e+11    0.942649"
      ]
     },
     "execution_count": 38,
     "metadata": {},
     "output_type": "execute_result"
    }
   ],
   "source": [
    "imp.describe()"
   ]
  },
  {
   "cell_type": "markdown",
   "id": "c18468a1",
   "metadata": {},
   "source": [
    "On voit bien que les coefficients dans la regression Ridge sont beaucoup plus equilibres"
   ]
  },
  {
   "cell_type": "code",
   "execution_count": 39,
   "id": "c608901b",
   "metadata": {},
   "outputs": [],
   "source": [
    "posRidge=imp[['Feature','Ridge']].sort_values(by=\"Ridge\", ascending=False).head(10)"
   ]
  },
  {
   "cell_type": "code",
   "execution_count": 40,
   "id": "fc2c0fd8",
   "metadata": {},
   "outputs": [],
   "source": [
    "negRidge=imp[['Feature','Ridge']].sort_values(by=\"Ridge\").head(10)"
   ]
  },
  {
   "cell_type": "code",
   "execution_count": 41,
   "id": "cd3c0d21",
   "metadata": {},
   "outputs": [
    {
     "data": {
      "image/png": "[encoded data removed]",
      "text/plain": [
       "<Figure size 432x432 with 1 Axes>"
      ]
     },
     "metadata": {
      "needs_background": "light"
     },
     "output_type": "display_data"
    },
    {
     "data": {
      "image/png": "[encoded data removed]",
      "text/plain": [
       "<Figure size 432x288 with 1 Axes>"
      ]
     },
     "metadata": {
      "needs_background": "light"
     },
     "output_type": "display_data"
    }
   ],
   "source": [
    "import matplotlib.pyplot as plt\n",
    "import seaborn as sns\n",
    "fig = plt.figure(figsize=(6, 6))\n",
    "#ax = fig.add_subplot(1,2,2)\n",
    "ax=sns.barplot(x='Ridge',y='Feature', data = posRidge) \n",
    "plt.show()\n",
    "ax=sns.barplot(x='Ridge',y='Feature', data = negRidge) "
   ]
  },
  {
   "cell_type": "markdown",
   "id": "2bb6ee2a",
   "metadata": {},
   "source": [
    "# Lasso\n",
    "La regression Lasso permet de faire une selection de variables en eliminant des variables correlees. Nous allons comparer la performance de la regression Lasso a celle de Ridge"
   ]
  },
  {
   "cell_type": "markdown",
   "id": "02db5c70",
   "metadata": {},
   "source": [
    "Recherche des hyperparametres avec GridSearchCV"
   ]
  },
  {
   "cell_type": "code",
   "execution_count": 42,
   "id": "03ea33a9",
   "metadata": {},
   "outputs": [],
   "source": [
    "from sklearn.linear_model import Lasso\n",
    "\n",
    "n_alphas = 300\n",
    "alphas = np.logspace(-5, 1, n_alphas)\n",
    "param = {\n",
    "    'alpha':alphas,\n",
    "    'fit_intercept':[True,False],\n",
    "          }\n",
    "lasso=Lasso()\n",
    "search = GridSearchCV(lasso, param, scoring='r2', n_jobs=-1, cv=5)\n"
   ]
  },
  {
   "cell_type": "code",
   "execution_count": 43,
   "id": "10aba2e5",
   "metadata": {},
   "outputs": [
    {
     "name": "stdout",
     "output_type": "stream",
     "text": [
      "The time of execution of above program is 210.19s\n"
     ]
    }
   ],
   "source": [
    "searchTable.loc['Model',3]='Lasso'\n",
    "start_time=timeit.default_timer()\n",
    "result = search.fit(X_train, y_emissions)\n",
    "elapsed = timeit.default_timer() - start_time\n",
    "searchTable.loc['Search Time',3]=elapsed\n",
    "print (\"The time of execution of above program is {:.2f}s\".format(elapsed))"
   ]
  },
  {
   "cell_type": "code",
   "execution_count": 44,
   "id": "adabb153",
   "metadata": {},
   "outputs": [
    {
     "name": "stdout",
     "output_type": "stream",
     "text": [
      "Best Score: 0.7084738305845787\n",
      "Best Hyperparameters: {'alpha': 0.0010155211276345682, 'fit_intercept': True}\n"
     ]
    }
   ],
   "source": [
    "bestScore(search,3)"
   ]
  },
  {
   "cell_type": "code",
   "execution_count": 45,
   "id": "98cce994",
   "metadata": {},
   "outputs": [],
   "source": [
    "Model_lasso= result.best_estimator_"
   ]
  },
  {
   "cell_type": "code",
   "execution_count": 46,
   "id": "0894ec80",
   "metadata": {},
   "outputs": [
    {
     "name": "stdout",
     "output_type": "stream",
     "text": [
      "The time of execution of above program is 0.47s\n"
     ]
    }
   ],
   "source": [
    "score.loc['Model',3]='Lasso'\n",
    "start_time=timeit.default_timer()\n",
    "Model_lasso.fit(X_train,y_emissions)\n",
    "ypred_Lasso=Model_lasso.predict(X_test)\n",
    "elapsed = timeit.default_timer() - start_time\n",
    "score.loc['Time',3]=elapsed\n",
    "print (\"The time of execution of above program is {:.2f}s\".format(elapsed))\n"
   ]
  },
  {
   "cell_type": "code",
   "execution_count": 47,
   "id": "54aa72f1",
   "metadata": {},
   "outputs": [
    {
     "name": "stdout",
     "output_type": "stream",
     "text": [
      "MSE : 0.31\n",
      "RMSE : 0.55\n",
      "MAE : 0.43\n"
     ]
    }
   ],
   "source": [
    "get_score(y_test_emissions,ypred_Lasso,3 )"
   ]
  },
  {
   "cell_type": "code",
   "execution_count": 48,
   "id": "06d0ab42",
   "metadata": {},
   "outputs": [
    {
     "name": "stdout",
     "output_type": "stream",
     "text": [
      "R2 : 0.70110\n"
     ]
    }
   ],
   "source": [
    "get_r2(Model_lasso,X_test, y_test_emissions,3)"
   ]
  },
  {
   "cell_type": "code",
   "execution_count": 49,
   "id": "c98b099a",
   "metadata": {},
   "outputs": [
    {
     "data": {
      "text/plain": [
       "<matplotlib.collections.PathCollection at 0x1d0b2812d40>"
      ]
     },
     "execution_count": 49,
     "metadata": {},
     "output_type": "execute_result"
    },
    {
     "data": {
      "image/png": "[encoded data removed]",
      "text/plain": [
       "<Figure size 432x288 with 1 Axes>"
      ]
     },
     "metadata": {
      "needs_background": "light"
     },
     "output_type": "display_data"
    }
   ],
   "source": [
    "plt.scatter(ypred_Lasso,y_test_emissions )"
   ]
  },
  {
   "cell_type": "markdown",
   "id": "b2510de3",
   "metadata": {},
   "source": [
    "## Conclusion\n",
    "On voit bien que le score de la regression Lasso est tres proche du score de la regression Ridge, par contre le traietement des coefficients de variables est different"
   ]
  },
  {
   "cell_type": "markdown",
   "id": "50877ebb",
   "metadata": {},
   "source": [
    "## Coefficients des variables Lasso"
   ]
  },
  {
   "cell_type": "code",
   "execution_count": 50,
   "id": "5a0d2091",
   "metadata": {},
   "outputs": [],
   "source": [
    "importance = Model_lasso.coef_"
   ]
  },
  {
   "cell_type": "code",
   "execution_count": 51,
   "id": "347898cb",
   "metadata": {},
   "outputs": [],
   "source": [
    "imp['Lasso']=importance"
   ]
  },
  {
   "cell_type": "code",
   "execution_count": 52,
   "id": "0bcc87e4",
   "metadata": {},
   "outputs": [
    {
     "data": {
      "text/html": [
       "<div>\n",
       "<style scoped>\n",
       "    .dataframe tbody tr th:only-of-type {\n",
       "        vertical-align: middle;\n",
       "    }\n",
       "\n",
       "    .dataframe tbody tr th {\n",
       "        vertical-align: top;\n",
       "    }\n",
       "\n",
       "    .dataframe thead th {\n",
       "        text-align: right;\n",
       "    }\n",
       "</style>\n",
       "<table border=\"1\" class=\"dataframe\">\n",
       "  <thead>\n",
       "    <tr style=\"text-align: right;\">\n",
       "      <th></th>\n",
       "      <th>LinearRegression</th>\n",
       "      <th>Ridge</th>\n",
       "      <th>Lasso</th>\n",
       "    </tr>\n",
       "  </thead>\n",
       "  <tbody>\n",
       "    <tr>\n",
       "      <th>count</th>\n",
       "      <td>1.990000e+02</td>\n",
       "      <td>199.000000</td>\n",
       "      <td>199.000000</td>\n",
       "    </tr>\n",
       "    <tr>\n",
       "      <th>mean</th>\n",
       "      <td>4.914134e+07</td>\n",
       "      <td>0.022626</td>\n",
       "      <td>0.028797</td>\n",
       "    </tr>\n",
       "    <tr>\n",
       "      <th>std</th>\n",
       "      <td>2.167981e+10</td>\n",
       "      <td>0.175153</td>\n",
       "      <td>0.182596</td>\n",
       "    </tr>\n",
       "    <tr>\n",
       "      <th>min</th>\n",
       "      <td>-1.336779e+11</td>\n",
       "      <td>-0.407123</td>\n",
       "      <td>-0.471920</td>\n",
       "    </tr>\n",
       "    <tr>\n",
       "      <th>25%</th>\n",
       "      <td>-3.918655e-01</td>\n",
       "      <td>-0.083271</td>\n",
       "      <td>0.000000</td>\n",
       "    </tr>\n",
       "    <tr>\n",
       "      <th>50%</th>\n",
       "      <td>2.674749e-02</td>\n",
       "      <td>0.013258</td>\n",
       "      <td>0.000000</td>\n",
       "    </tr>\n",
       "    <tr>\n",
       "      <th>75%</th>\n",
       "      <td>3.733493e-01</td>\n",
       "      <td>0.092415</td>\n",
       "      <td>0.005551</td>\n",
       "    </tr>\n",
       "    <tr>\n",
       "      <th>max</th>\n",
       "      <td>1.336779e+11</td>\n",
       "      <td>0.942649</td>\n",
       "      <td>1.382929</td>\n",
       "    </tr>\n",
       "  </tbody>\n",
       "</table>\n",
       "</div>"
      ],
      "text/plain": [
       "       LinearRegression       Ridge       Lasso\n",
       "count      1.990000e+02  199.000000  199.000000\n",
       "mean       4.914134e+07    0.022626    0.028797\n",
       "std        2.167981e+10    0.175153    0.182596\n",
       "min       -1.336779e+11   -0.407123   -0.471920\n",
       "25%       -3.918655e-01   -0.083271    0.000000\n",
       "50%        2.674749e-02    0.013258    0.000000\n",
       "75%        3.733493e-01    0.092415    0.005551\n",
       "max        1.336779e+11    0.942649    1.382929"
      ]
     },
     "execution_count": 52,
     "metadata": {},
     "output_type": "execute_result"
    }
   ],
   "source": [
    "imp.describe()"
   ]
  },
  {
   "cell_type": "markdown",
   "id": "b5523360",
   "metadata": {},
   "source": [
    "On voit bien ici que pour la regression Lasso il y a des variables dont le coefficient passe a 0. Il y a donc automatiquement une reduction du nombre de variables"
   ]
  },
  {
   "cell_type": "code",
   "execution_count": 53,
   "id": "4146e551",
   "metadata": {},
   "outputs": [
    {
     "data": {
      "image/png": "[encoded data removed]",
      "text/plain": [
       "<Figure size 432x288 with 1 Axes>"
      ]
     },
     "metadata": {
      "needs_background": "light"
     },
     "output_type": "display_data"
    }
   ],
   "source": [
    "plt.bar([x for x in range(len(importance))], importance)\n",
    "plt.show()"
   ]
  },
  {
   "cell_type": "code",
   "execution_count": 54,
   "id": "14ea097d",
   "metadata": {},
   "outputs": [],
   "source": [
    "selected_Lasso=imp[(imp['Lasso']!=0)]['Feature'].values"
   ]
  },
  {
   "cell_type": "code",
   "execution_count": 55,
   "id": "ed2e24d0",
   "metadata": {},
   "outputs": [
    {
     "data": {
      "text/plain": [
       "88"
      ]
     },
     "execution_count": 55,
     "metadata": {},
     "output_type": "execute_result"
    }
   ],
   "source": [
    "len(selected_Lasso)"
   ]
  },
  {
   "cell_type": "code",
   "execution_count": 56,
   "id": "f46485b8",
   "metadata": {},
   "outputs": [],
   "source": [
    "negLasso=imp[['Feature','Lasso']].sort_values(by='Lasso').head(10)"
   ]
  },
  {
   "cell_type": "code",
   "execution_count": 57,
   "id": "6e29970b",
   "metadata": {},
   "outputs": [],
   "source": [
    "posLasso=imp[['Feature','Lasso']].sort_values(by='Lasso', ascending=False).head(10)"
   ]
  },
  {
   "cell_type": "code",
   "execution_count": 58,
   "id": "17f9a2d8",
   "metadata": {},
   "outputs": [
    {
     "data": {
      "image/png": "[encoded data removed]",
      "text/plain": [
       "<Figure size 432x432 with 1 Axes>"
      ]
     },
     "metadata": {
      "needs_background": "light"
     },
     "output_type": "display_data"
    },
    {
     "data": {
      "image/png": "[encoded data removed]",
      "text/plain": [
       "<Figure size 432x288 with 1 Axes>"
      ]
     },
     "metadata": {
      "needs_background": "light"
     },
     "output_type": "display_data"
    }
   ],
   "source": [
    "import matplotlib.pyplot as plt\n",
    "import seaborn as sns\n",
    "fig = plt.figure(figsize=(6, 6))\n",
    "#ax = fig.add_subplot(1,2,2)\n",
    "sns.barplot(x='Lasso',y='Feature', data = posLasso) \n",
    "plt.show()\n",
    "sns.barplot(x='Lasso',y='Feature', data = negLasso) \n",
    "plt.show()"
   ]
  },
  {
   "cell_type": "markdown",
   "id": "98b91e50",
   "metadata": {},
   "source": [
    "# 4- Decision tree regression"
   ]
  },
  {
   "cell_type": "code",
   "execution_count": 59,
   "id": "dd6bcf33",
   "metadata": {},
   "outputs": [],
   "source": [
    "from sklearn.tree import DecisionTreeRegressor\n",
    "dtr = DecisionTreeRegressor()"
   ]
  },
  {
   "cell_type": "code",
   "execution_count": 60,
   "id": "17f2eee3",
   "metadata": {},
   "outputs": [],
   "source": [
    "parameters={\"splitter\":[\"best\",\"random\"],\n",
    "            \"max_depth\" : [1,3,5,7,9,11,12],\n",
    "           \"min_samples_leaf\":[1,2,3,4,5,6,7,8,9,10],\n",
    "           \"min_weight_fraction_leaf\":[0.1,0.2,0.3,0.4,0.5,0.6,0.7,0.8,0.9],\n",
    "           \"max_features\":[\"auto\",\"log2\",\"sqrt\",None],\n",
    "           \"max_leaf_nodes\":[None,10,20,30,40,50,60,70,80,90] }\n",
    "from sklearn.model_selection import GridSearchCV\n",
    "search=GridSearchCV(dtr,param_grid=parameters,scoring='r2',cv=3)"
   ]
  },
  {
   "cell_type": "code",
   "execution_count": 61,
   "id": "8535a4f0",
   "metadata": {},
   "outputs": [
    {
     "name": "stdout",
     "output_type": "stream",
     "text": [
      "The time of execution of above program is 1434.75s\n"
     ]
    }
   ],
   "source": [
    "searchTable.loc['Model',4]='Decision Tree'\n",
    "start_time=timeit.default_timer()\n",
    "search.fit(X_train,y_emissions)\n",
    "elapsed = timeit.default_timer() - start_time\n",
    "searchTable.loc['Search Time',4]=elapsed\n",
    "print (\"The time of execution of above program is {:.2f}s\".format(elapsed))\n"
   ]
  },
  {
   "cell_type": "code",
   "execution_count": 62,
   "id": "5bd747f7",
   "metadata": {},
   "outputs": [
    {
     "name": "stdout",
     "output_type": "stream",
     "text": [
      "Best Score: 0.5422897582983081\n",
      "Best Hyperparameters: {'max_depth': 5, 'max_features': 'auto', 'max_leaf_nodes': None, 'min_samples_leaf': 1, 'min_weight_fraction_leaf': 0.1, 'splitter': 'best'}\n"
     ]
    }
   ],
   "source": [
    "bestScore(search, 4)"
   ]
  },
  {
   "cell_type": "code",
   "execution_count": 63,
   "id": "1e49d4a6",
   "metadata": {},
   "outputs": [],
   "source": [
    "best_tree = search.best_estimator_"
   ]
  },
  {
   "cell_type": "code",
   "execution_count": 64,
   "id": "3a948210",
   "metadata": {},
   "outputs": [
    {
     "name": "stdout",
     "output_type": "stream",
     "text": [
      "The time of execution of above program is 0.02s\n"
     ]
    }
   ],
   "source": [
    "score.loc['Model',4]='Decision Tree'\n",
    "start_time=timeit.default_timer()\n",
    "best_tree.fit(X_train, y_emissions)\n",
    "y_pred_tree=best_tree.predict(X_test)\n",
    "elapsed = timeit.default_timer() - start_time\n",
    "score.loc['Time',4]=elapsed\n",
    "print (\"The time of execution of above program is {:.2f}s\".format(elapsed))"
   ]
  },
  {
   "cell_type": "code",
   "execution_count": 65,
   "id": "a44f23c7",
   "metadata": {},
   "outputs": [
    {
     "name": "stdout",
     "output_type": "stream",
     "text": [
      "MSE : 0.45\n",
      "RMSE : 0.67\n",
      "MAE : 0.52\n"
     ]
    }
   ],
   "source": [
    "get_score(y_test_emissions, y_pred_tree,4)"
   ]
  },
  {
   "cell_type": "code",
   "execution_count": 66,
   "id": "efad08cf",
   "metadata": {},
   "outputs": [
    {
     "name": "stdout",
     "output_type": "stream",
     "text": [
      "R2 : 0.56202\n"
     ]
    }
   ],
   "source": [
    "get_r2(best_tree, X_test, y_test_emissions, 4)"
   ]
  },
  {
   "cell_type": "code",
   "execution_count": 68,
   "id": "e7ca04f1",
   "metadata": {},
   "outputs": [
    {
     "data": {
      "text/plain": [
       "<matplotlib.collections.PathCollection at 0x1d0bb9b29e0>"
      ]
     },
     "execution_count": 68,
     "metadata": {},
     "output_type": "execute_result"
    },
    {
     "data": {
      "image/png": "[encoded data removed]",
      "text/plain": [
       "<Figure size 432x288 with 1 Axes>"
      ]
     },
     "metadata": {
      "needs_background": "light"
     },
     "output_type": "display_data"
    }
   ],
   "source": [
    "plt.scatter(y_test_emissions, y_pred_tree)"
   ]
  },
  {
   "cell_type": "markdown",
   "id": "c5a3317a",
   "metadata": {},
   "source": [
    "## Feature importance"
   ]
  },
  {
   "cell_type": "code",
   "execution_count": 69,
   "id": "bf2fcaf5",
   "metadata": {},
   "outputs": [],
   "source": [
    "importance=best_tree.feature_importances_"
   ]
  },
  {
   "cell_type": "code",
   "execution_count": 70,
   "id": "29656c4c",
   "metadata": {},
   "outputs": [],
   "source": [
    "imp['Decision Tree']=importance"
   ]
  },
  {
   "cell_type": "code",
   "execution_count": 71,
   "id": "9364755d",
   "metadata": {},
   "outputs": [],
   "source": [
    "tree_feat=imp[['Feature','Decision Tree']][imp['Decision Tree']!=0].sort_values(by='Decision Tree', ascending=False)"
   ]
  },
  {
   "cell_type": "code",
   "execution_count": 72,
   "id": "9fffe628",
   "metadata": {},
   "outputs": [
    {
     "data": {
      "image/png": "[encoded data removed]",
      "text/plain": [
       "<Figure size 432x432 with 1 Axes>"
      ]
     },
     "metadata": {
      "needs_background": "light"
     },
     "output_type": "display_data"
    }
   ],
   "source": [
    "fig = plt.figure(figsize=(6, 6))\n",
    "#ax = fig.add_subplot(1,2,2)\n",
    "ax=sns.barplot(x='Decision Tree',y='Feature', data = tree_feat) \n",
    "plt.show()"
   ]
  },
  {
   "cell_type": "markdown",
   "id": "82bf31a3",
   "metadata": {},
   "source": [
    "# 5- Random Forest Regression"
   ]
  },
  {
   "cell_type": "code",
   "execution_count": 73,
   "id": "03619d9c",
   "metadata": {},
   "outputs": [],
   "source": [
    "from sklearn.ensemble import RandomForestRegressor\n",
    "from sklearn.model_selection import RandomizedSearchCV\n",
    "rf = RandomForestRegressor()"
   ]
  },
  {
   "cell_type": "code",
   "execution_count": 74,
   "id": "b5669a2d",
   "metadata": {},
   "outputs": [],
   "source": [
    "# Number of trees in random forest\n",
    "n_estimators = [int(x) for x in np.linspace(start = 200, stop = 2000, num = 10)]\n",
    "# Number of features to consider at every split\n",
    "max_features = ['auto', 'sqrt']\n",
    "# Maximum number of levels in tree\n",
    "max_depth = [int(x) for x in np.linspace(10, 110, num = 11)]\n",
    "max_depth.append(None)\n",
    "# Minimum number of samples required to split a node\n",
    "min_samples_split = [2, 5, 10]\n",
    "# Minimum number of samples required at each leaf node\n",
    "min_samples_leaf = [1, 2, 4]\n",
    "# Method of selecting samples for training each tree\n",
    "bootstrap = [True, False]\n",
    "# Create the random grid\n",
    "random_grid = {'n_estimators': n_estimators,\n",
    "               'max_features': max_features,\n",
    "               'max_depth': max_depth,\n",
    "               'min_samples_split': min_samples_split,\n",
    "               'min_samples_leaf': min_samples_leaf,\n",
    "               'bootstrap': bootstrap}\n"
   ]
  },
  {
   "cell_type": "code",
   "execution_count": 75,
   "id": "a349ecc5",
   "metadata": {},
   "outputs": [],
   "source": [
    "search = RandomizedSearchCV(estimator = rf, param_distributions = random_grid, n_iter = 80, cv = 3, verbose=2, random_state=42, n_jobs = -1)"
   ]
  },
  {
   "cell_type": "code",
   "execution_count": 76,
   "id": "99993358",
   "metadata": {},
   "outputs": [
    {
     "name": "stdout",
     "output_type": "stream",
     "text": [
      "Fitting 3 folds for each of 80 candidates, totalling 240 fits\n",
      "The time of execution of above program is 1171.13s\n"
     ]
    }
   ],
   "source": [
    "searchTable.loc['Model',5]='Random Forest'\n",
    "start_time=timeit.default_timer()\n",
    "search.fit(X_train, y_emissions)\n",
    "elapsed = timeit.default_timer() - start_time\n",
    "searchTable.loc['Search Time',5]=elapsed\n",
    "print (\"The time of execution of above program is {:.2f}s\".format(elapsed))\n"
   ]
  },
  {
   "cell_type": "code",
   "execution_count": 77,
   "id": "48bc3235",
   "metadata": {},
   "outputs": [
    {
     "name": "stdout",
     "output_type": "stream",
     "text": [
      "Best Score: 0.6932615715990532\n",
      "Best Hyperparameters: {'n_estimators': 800, 'min_samples_split': 5, 'min_samples_leaf': 2, 'max_features': 'auto', 'max_depth': None, 'bootstrap': True}\n"
     ]
    }
   ],
   "source": [
    "bestScore(search, 5)"
   ]
  },
  {
   "cell_type": "code",
   "execution_count": 78,
   "id": "83a74c64",
   "metadata": {},
   "outputs": [],
   "source": [
    "best_forest = search.best_estimator_"
   ]
  },
  {
   "cell_type": "code",
   "execution_count": 79,
   "id": "7690f24e",
   "metadata": {},
   "outputs": [
    {
     "name": "stdout",
     "output_type": "stream",
     "text": [
      "The time of execution of above program is 18.65s\n"
     ]
    }
   ],
   "source": [
    "score.loc['Model',5]='Random Forest'\n",
    "start_time=timeit.default_timer()\n",
    "best_forest.fit(X_train, y_emissions)\n",
    "y_pred_forest=best_forest.predict(X_test)\n",
    "elapsed = timeit.default_timer() - start_time\n",
    "score.loc['Time', 5]=elapsed\n",
    "print (\"The time of execution of above program is {:.2f}s\".format(elapsed))"
   ]
  },
  {
   "cell_type": "code",
   "execution_count": 80,
   "id": "e9cb1869",
   "metadata": {},
   "outputs": [
    {
     "name": "stdout",
     "output_type": "stream",
     "text": [
      "MSE : 0.30\n",
      "RMSE : 0.55\n",
      "MAE : 0.41\n"
     ]
    }
   ],
   "source": [
    "get_score(y_test_emissions, y_pred_forest,5)"
   ]
  },
  {
   "cell_type": "code",
   "execution_count": 81,
   "id": "8d51a991",
   "metadata": {},
   "outputs": [
    {
     "name": "stdout",
     "output_type": "stream",
     "text": [
      "R2 : 0.70785\n"
     ]
    }
   ],
   "source": [
    "get_r2(best_forest, X_test, y_test_emissions, 5)"
   ]
  },
  {
   "cell_type": "code",
   "execution_count": 82,
   "id": "9c7a8fc4",
   "metadata": {},
   "outputs": [
    {
     "data": {
      "text/plain": [
       "<matplotlib.collections.PathCollection at 0x1d0b5e81270>"
      ]
     },
     "execution_count": 82,
     "metadata": {},
     "output_type": "execute_result"
    },
    {
     "data": {
      "image/png": "[encoded data removed]",
      "text/plain": [
       "<Figure size 432x288 with 1 Axes>"
      ]
     },
     "metadata": {
      "needs_background": "light"
     },
     "output_type": "display_data"
    }
   ],
   "source": [
    "plt.scatter(y_pred_forest, y_test_emissions)"
   ]
  },
  {
   "cell_type": "markdown",
   "id": "e017cd71",
   "metadata": {},
   "source": [
    "## Feature importance"
   ]
  },
  {
   "cell_type": "code",
   "execution_count": 83,
   "id": "a5f87356",
   "metadata": {},
   "outputs": [
    {
     "data": {
      "text/html": [
       "<div>\n",
       "<style scoped>\n",
       "    .dataframe tbody tr th:only-of-type {\n",
       "        vertical-align: middle;\n",
       "    }\n",
       "\n",
       "    .dataframe tbody tr th {\n",
       "        vertical-align: top;\n",
       "    }\n",
       "\n",
       "    .dataframe thead th {\n",
       "        text-align: right;\n",
       "    }\n",
       "</style>\n",
       "<table border=\"1\" class=\"dataframe\">\n",
       "  <thead>\n",
       "    <tr style=\"text-align: right;\">\n",
       "      <th></th>\n",
       "      <th>LinearRegression</th>\n",
       "      <th>Ridge</th>\n",
       "      <th>Lasso</th>\n",
       "      <th>Decision Tree</th>\n",
       "      <th>Random Forest</th>\n",
       "    </tr>\n",
       "  </thead>\n",
       "  <tbody>\n",
       "    <tr>\n",
       "      <th>count</th>\n",
       "      <td>1.990000e+02</td>\n",
       "      <td>199.000000</td>\n",
       "      <td>199.000000</td>\n",
       "      <td>199.000000</td>\n",
       "      <td>199.000000</td>\n",
       "    </tr>\n",
       "    <tr>\n",
       "      <th>mean</th>\n",
       "      <td>4.914134e+07</td>\n",
       "      <td>0.022626</td>\n",
       "      <td>0.028797</td>\n",
       "      <td>0.005025</td>\n",
       "      <td>0.005025</td>\n",
       "    </tr>\n",
       "    <tr>\n",
       "      <th>std</th>\n",
       "      <td>2.167981e+10</td>\n",
       "      <td>0.175153</td>\n",
       "      <td>0.182596</td>\n",
       "      <td>0.046720</td>\n",
       "      <td>0.025272</td>\n",
       "    </tr>\n",
       "    <tr>\n",
       "      <th>min</th>\n",
       "      <td>-1.336779e+11</td>\n",
       "      <td>-0.407123</td>\n",
       "      <td>-0.471920</td>\n",
       "      <td>0.000000</td>\n",
       "      <td>0.000000</td>\n",
       "    </tr>\n",
       "    <tr>\n",
       "      <th>25%</th>\n",
       "      <td>-3.918655e-01</td>\n",
       "      <td>-0.083271</td>\n",
       "      <td>0.000000</td>\n",
       "      <td>0.000000</td>\n",
       "      <td>0.000054</td>\n",
       "    </tr>\n",
       "    <tr>\n",
       "      <th>50%</th>\n",
       "      <td>2.674749e-02</td>\n",
       "      <td>0.013258</td>\n",
       "      <td>0.000000</td>\n",
       "      <td>0.000000</td>\n",
       "      <td>0.000241</td>\n",
       "    </tr>\n",
       "    <tr>\n",
       "      <th>75%</th>\n",
       "      <td>3.733493e-01</td>\n",
       "      <td>0.092415</td>\n",
       "      <td>0.005551</td>\n",
       "      <td>0.000000</td>\n",
       "      <td>0.000981</td>\n",
       "    </tr>\n",
       "    <tr>\n",
       "      <th>max</th>\n",
       "      <td>1.336779e+11</td>\n",
       "      <td>0.942649</td>\n",
       "      <td>1.382929</td>\n",
       "      <td>0.574490</td>\n",
       "      <td>0.214049</td>\n",
       "    </tr>\n",
       "  </tbody>\n",
       "</table>\n",
       "</div>"
      ],
      "text/plain": [
       "       LinearRegression       Ridge       Lasso  Decision Tree  Random Forest\n",
       "count      1.990000e+02  199.000000  199.000000     199.000000     199.000000\n",
       "mean       4.914134e+07    0.022626    0.028797       0.005025       0.005025\n",
       "std        2.167981e+10    0.175153    0.182596       0.046720       0.025272\n",
       "min       -1.336779e+11   -0.407123   -0.471920       0.000000       0.000000\n",
       "25%       -3.918655e-01   -0.083271    0.000000       0.000000       0.000054\n",
       "50%        2.674749e-02    0.013258    0.000000       0.000000       0.000241\n",
       "75%        3.733493e-01    0.092415    0.005551       0.000000       0.000981\n",
       "max        1.336779e+11    0.942649    1.382929       0.574490       0.214049"
      ]
     },
     "execution_count": 83,
     "metadata": {},
     "output_type": "execute_result"
    }
   ],
   "source": [
    "importance=best_forest.feature_importances_\n",
    "imp['Random Forest']=importance\n",
    "imp.describe()"
   ]
  },
  {
   "cell_type": "code",
   "execution_count": 111,
   "id": "1feddf5f",
   "metadata": {},
   "outputs": [],
   "source": [
    "forest_feat=imp[['Feature', 'Random Forest']].sort_values(by='Random Forest', ascending=False).head(10)"
   ]
  },
  {
   "cell_type": "code",
   "execution_count": 112,
   "id": "3c90e42f",
   "metadata": {},
   "outputs": [
    {
     "data": {
      "image/png": "[encoded data removed]",
      "text/plain": [
       "<Figure size 432x432 with 1 Axes>"
      ]
     },
     "metadata": {
      "needs_background": "light"
     },
     "output_type": "display_data"
    }
   ],
   "source": [
    "fig = plt.figure(figsize=(6, 6))\n",
    "#ax = fig.add_subplot(1,2,2)\n",
    "ax=sns.barplot(x='Random Forest',y='Feature', data = forest_feat) \n",
    "plt.show()"
   ]
  },
  {
   "cell_type": "markdown",
   "id": "002b0fb6",
   "metadata": {},
   "source": [
    "# 6- XgBoost"
   ]
  },
  {
   "cell_type": "code",
   "execution_count": 86,
   "id": "bd1c2048",
   "metadata": {},
   "outputs": [],
   "source": [
    "import xgboost as xgb\n",
    "from scipy.stats import uniform,loguniform, randint"
   ]
  },
  {
   "cell_type": "code",
   "execution_count": 87,
   "id": "43ca5c30",
   "metadata": {},
   "outputs": [],
   "source": [
    "param_grid = {\n",
    "    \"learning_rate\": [0.05,0.10,0.15,0.20,0.25,0.30],\n",
    "    \"max_depth\" : [ 3, 4, 5, 6, 8, 10, 12, 15],\n",
    "    \"colsample_bytree\" : [ 0.3, 0.4, 0.5 , 0.7 ],\n",
    "    \"n_estimators\": [200, 500, 1000, 1500, 2000]\n",
    "}\n",
    "\n",
    "# Random\n",
    "search = RandomizedSearchCV(xgb.XGBRegressor(), param_distributions=param_grid,\n",
    "                        n_iter = 80,  cv=3, n_jobs=8, scoring='r2')"
   ]
  },
  {
   "cell_type": "code",
   "execution_count": 88,
   "id": "2f07843a",
   "metadata": {},
   "outputs": [
    {
     "name": "stdout",
     "output_type": "stream",
     "text": [
      "The time of execution of above program is 832.49s\n"
     ]
    }
   ],
   "source": [
    "searchTable.loc['Model', 6]='XgBoost'\n",
    "start_time=timeit.default_timer()\n",
    "model_xgboost = search.fit(X_train, y_emissions)\n",
    "elapsed = timeit.default_timer() - start_time\n",
    "searchTable.loc['Search Time',6]=elapsed\n",
    "print (\"The time of execution of above program is {:.2f}s\".format(elapsed))"
   ]
  },
  {
   "cell_type": "code",
   "execution_count": 89,
   "id": "ed2763da",
   "metadata": {},
   "outputs": [
    {
     "name": "stdout",
     "output_type": "stream",
     "text": [
      "Best Score: 0.7047475484963314\n",
      "Best Hyperparameters: {'n_estimators': 200, 'max_depth': 3, 'learning_rate': 0.1, 'colsample_bytree': 0.3}\n"
     ]
    }
   ],
   "source": [
    "bestScore(model_xgboost, 6)"
   ]
  },
  {
   "cell_type": "code",
   "execution_count": 90,
   "id": "337fadcb",
   "metadata": {},
   "outputs": [],
   "source": [
    "best_boost= model_xgboost.best_estimator_"
   ]
  },
  {
   "cell_type": "code",
   "execution_count": 91,
   "id": "ab4deaa9",
   "metadata": {},
   "outputs": [
    {
     "name": "stdout",
     "output_type": "stream",
     "text": [
      "The time of execution of above program is 0.87s\n"
     ]
    }
   ],
   "source": [
    "score.loc['Model',6]='XgBoost'\n",
    "start_time=timeit.default_timer()\n",
    "best_boost.fit(X_train, y_emissions)\n",
    "ypreds_boost = best_boost.predict(X_test)\n",
    "elapsed = timeit.default_timer() - start_time\n",
    "score.loc['Time',6]=elapsed\n",
    "print (\"The time of execution of above program is {:.2f}s\".format(elapsed))"
   ]
  },
  {
   "cell_type": "code",
   "execution_count": 92,
   "id": "8aa62939",
   "metadata": {},
   "outputs": [
    {
     "name": "stdout",
     "output_type": "stream",
     "text": [
      "MSE : 0.30\n",
      "RMSE : 0.54\n",
      "MAE : 0.41\n"
     ]
    }
   ],
   "source": [
    "get_score(y_test_emissions, ypreds_boost,6)"
   ]
  },
  {
   "cell_type": "code",
   "execution_count": 93,
   "id": "4c6d05b9",
   "metadata": {},
   "outputs": [
    {
     "name": "stdout",
     "output_type": "stream",
     "text": [
      "R2 : 0.71139\n"
     ]
    }
   ],
   "source": [
    "get_r2(best_boost,X_test, y_test_emissions, 6)"
   ]
  },
  {
   "cell_type": "code",
   "execution_count": 94,
   "id": "53d6a03c",
   "metadata": {},
   "outputs": [
    {
     "data": {
      "text/plain": [
       "<matplotlib.collections.PathCollection at 0x1d0bc7e0250>"
      ]
     },
     "execution_count": 94,
     "metadata": {},
     "output_type": "execute_result"
    },
    {
     "data": {
      "image/png": "[encoded data removed]",
      "text/plain": [
       "<Figure size 432x288 with 1 Axes>"
      ]
     },
     "metadata": {
      "needs_background": "light"
     },
     "output_type": "display_data"
    }
   ],
   "source": [
    "plt.scatter(y_test_emissions, ypreds_boost)"
   ]
  },
  {
   "cell_type": "code",
   "execution_count": 95,
   "id": "cc527260",
   "metadata": {},
   "outputs": [
    {
     "data": {
      "text/html": [
       "<div>\n",
       "<style scoped>\n",
       "    .dataframe tbody tr th:only-of-type {\n",
       "        vertical-align: middle;\n",
       "    }\n",
       "\n",
       "    .dataframe tbody tr th {\n",
       "        vertical-align: top;\n",
       "    }\n",
       "\n",
       "    .dataframe thead th {\n",
       "        text-align: right;\n",
       "    }\n",
       "</style>\n",
       "<table border=\"1\" class=\"dataframe\">\n",
       "  <thead>\n",
       "    <tr style=\"text-align: right;\">\n",
       "      <th></th>\n",
       "      <th>LinearRegression</th>\n",
       "      <th>Ridge</th>\n",
       "      <th>Lasso</th>\n",
       "      <th>Decision Tree</th>\n",
       "      <th>Random Forest</th>\n",
       "      <th>XgBoost</th>\n",
       "    </tr>\n",
       "  </thead>\n",
       "  <tbody>\n",
       "    <tr>\n",
       "      <th>count</th>\n",
       "      <td>1.990000e+02</td>\n",
       "      <td>199.000000</td>\n",
       "      <td>199.000000</td>\n",
       "      <td>199.000000</td>\n",
       "      <td>199.000000</td>\n",
       "      <td>199.000000</td>\n",
       "    </tr>\n",
       "    <tr>\n",
       "      <th>mean</th>\n",
       "      <td>4.914134e+07</td>\n",
       "      <td>0.022626</td>\n",
       "      <td>0.028797</td>\n",
       "      <td>0.005025</td>\n",
       "      <td>0.005025</td>\n",
       "      <td>0.005025</td>\n",
       "    </tr>\n",
       "    <tr>\n",
       "      <th>std</th>\n",
       "      <td>2.167981e+10</td>\n",
       "      <td>0.175153</td>\n",
       "      <td>0.182596</td>\n",
       "      <td>0.046720</td>\n",
       "      <td>0.025272</td>\n",
       "      <td>0.011576</td>\n",
       "    </tr>\n",
       "    <tr>\n",
       "      <th>min</th>\n",
       "      <td>-1.336779e+11</td>\n",
       "      <td>-0.407123</td>\n",
       "      <td>-0.471920</td>\n",
       "      <td>0.000000</td>\n",
       "      <td>0.000000</td>\n",
       "      <td>0.000000</td>\n",
       "    </tr>\n",
       "    <tr>\n",
       "      <th>25%</th>\n",
       "      <td>-3.918655e-01</td>\n",
       "      <td>-0.083271</td>\n",
       "      <td>0.000000</td>\n",
       "      <td>0.000000</td>\n",
       "      <td>0.000054</td>\n",
       "      <td>0.000000</td>\n",
       "    </tr>\n",
       "    <tr>\n",
       "      <th>50%</th>\n",
       "      <td>2.674749e-02</td>\n",
       "      <td>0.013258</td>\n",
       "      <td>0.000000</td>\n",
       "      <td>0.000000</td>\n",
       "      <td>0.000241</td>\n",
       "      <td>0.001657</td>\n",
       "    </tr>\n",
       "    <tr>\n",
       "      <th>75%</th>\n",
       "      <td>3.733493e-01</td>\n",
       "      <td>0.092415</td>\n",
       "      <td>0.005551</td>\n",
       "      <td>0.000000</td>\n",
       "      <td>0.000981</td>\n",
       "      <td>0.004337</td>\n",
       "    </tr>\n",
       "    <tr>\n",
       "      <th>max</th>\n",
       "      <td>1.336779e+11</td>\n",
       "      <td>0.942649</td>\n",
       "      <td>1.382929</td>\n",
       "      <td>0.574490</td>\n",
       "      <td>0.214049</td>\n",
       "      <td>0.122045</td>\n",
       "    </tr>\n",
       "  </tbody>\n",
       "</table>\n",
       "</div>"
      ],
      "text/plain": [
       "       LinearRegression       Ridge       Lasso  Decision Tree  Random Forest  \\\n",
       "count      1.990000e+02  199.000000  199.000000     199.000000     199.000000   \n",
       "mean       4.914134e+07    0.022626    0.028797       0.005025       0.005025   \n",
       "std        2.167981e+10    0.175153    0.182596       0.046720       0.025272   \n",
       "min       -1.336779e+11   -0.407123   -0.471920       0.000000       0.000000   \n",
       "25%       -3.918655e-01   -0.083271    0.000000       0.000000       0.000054   \n",
       "50%        2.674749e-02    0.013258    0.000000       0.000000       0.000241   \n",
       "75%        3.733493e-01    0.092415    0.005551       0.000000       0.000981   \n",
       "max        1.336779e+11    0.942649    1.382929       0.574490       0.214049   \n",
       "\n",
       "          XgBoost  \n",
       "count  199.000000  \n",
       "mean     0.005025  \n",
       "std      0.011576  \n",
       "min      0.000000  \n",
       "25%      0.000000  \n",
       "50%      0.001657  \n",
       "75%      0.004337  \n",
       "max      0.122045  "
      ]
     },
     "execution_count": 95,
     "metadata": {},
     "output_type": "execute_result"
    }
   ],
   "source": [
    "importance=best_boost.feature_importances_\n",
    "imp['XgBoost']=importance\n",
    "imp.describe()"
   ]
  },
  {
   "cell_type": "code",
   "execution_count": 96,
   "id": "29d812e9",
   "metadata": {},
   "outputs": [],
   "source": [
    "xgb_feat=imp[['Feature','XgBoost']][imp['XgBoost']>0.01].sort_values(by='XgBoost', ascending=False).head(10)"
   ]
  },
  {
   "cell_type": "code",
   "execution_count": 97,
   "id": "a858b959",
   "metadata": {},
   "outputs": [
    {
     "data": {
      "image/png": "[encoded data removed]",
      "text/plain": [
       "<Figure size 432x432 with 1 Axes>"
      ]
     },
     "metadata": {
      "needs_background": "light"
     },
     "output_type": "display_data"
    }
   ],
   "source": [
    "fig = plt.figure(figsize=(6, 6))\n",
    "#ax = fig.add_subplot(1,2,2)\n",
    "ax=sns.barplot(x='XgBoost',y='Feature', data = xgb_feat) \n",
    "plt.show()"
   ]
  },
  {
   "cell_type": "markdown",
   "id": "bdfc0521",
   "metadata": {},
   "source": [
    "# Synthese des resultats de performence"
   ]
  },
  {
   "cell_type": "markdown",
   "id": "14918f6c",
   "metadata": {},
   "source": [
    "## Scores de validation sur Test set"
   ]
  },
  {
   "cell_type": "code",
   "execution_count": 99,
   "id": "aab0742e",
   "metadata": {},
   "outputs": [
    {
     "data": {
      "text/html": [
       "<div>\n",
       "<style scoped>\n",
       "    .dataframe tbody tr th:only-of-type {\n",
       "        vertical-align: middle;\n",
       "    }\n",
       "\n",
       "    .dataframe tbody tr th {\n",
       "        vertical-align: top;\n",
       "    }\n",
       "\n",
       "    .dataframe thead th {\n",
       "        text-align: right;\n",
       "    }\n",
       "</style>\n",
       "<table border=\"1\" class=\"dataframe\">\n",
       "  <thead>\n",
       "    <tr style=\"text-align: right;\">\n",
       "      <th></th>\n",
       "      <th>0</th>\n",
       "      <th>1</th>\n",
       "      <th>2</th>\n",
       "      <th>3</th>\n",
       "      <th>4</th>\n",
       "      <th>5</th>\n",
       "      <th>6</th>\n",
       "    </tr>\n",
       "  </thead>\n",
       "  <tbody>\n",
       "    <tr>\n",
       "      <th>Model</th>\n",
       "      <td>Dummy</td>\n",
       "      <td>Linear Regression</td>\n",
       "      <td>Ridge</td>\n",
       "      <td>Lasso</td>\n",
       "      <td>Decision Tree</td>\n",
       "      <td>Random Forest</td>\n",
       "      <td>XgBoost</td>\n",
       "    </tr>\n",
       "    <tr>\n",
       "      <th>Time</th>\n",
       "      <td>0.000575</td>\n",
       "      <td>0.039536</td>\n",
       "      <td>0.037938</td>\n",
       "      <td>0.467231</td>\n",
       "      <td>0.0179</td>\n",
       "      <td>18.647228</td>\n",
       "      <td>0.865007</td>\n",
       "    </tr>\n",
       "    <tr>\n",
       "      <th>RMSE</th>\n",
       "      <td>1.013578</td>\n",
       "      <td>2885008112.90101</td>\n",
       "      <td>0.544909</td>\n",
       "      <td>0.554016</td>\n",
       "      <td>0.670638</td>\n",
       "      <td>0.547728</td>\n",
       "      <td>0.5444</td>\n",
       "    </tr>\n",
       "    <tr>\n",
       "      <th>R2</th>\n",
       "      <td>-0.000435</td>\n",
       "      <td>-8105297949664456704.0</td>\n",
       "      <td>0.71085</td>\n",
       "      <td>0.701105</td>\n",
       "      <td>0.562023</td>\n",
       "      <td>0.707851</td>\n",
       "      <td>0.71139</td>\n",
       "    </tr>\n",
       "  </tbody>\n",
       "</table>\n",
       "</div>"
      ],
      "text/plain": [
       "              0                      1         2         3              4  \\\n",
       "Model     Dummy      Linear Regression     Ridge     Lasso  Decision Tree   \n",
       "Time   0.000575               0.039536  0.037938  0.467231         0.0179   \n",
       "RMSE   1.013578       2885008112.90101  0.544909  0.554016       0.670638   \n",
       "R2    -0.000435 -8105297949664456704.0   0.71085  0.701105       0.562023   \n",
       "\n",
       "                   5         6  \n",
       "Model  Random Forest   XgBoost  \n",
       "Time       18.647228  0.865007  \n",
       "RMSE        0.547728    0.5444  \n",
       "R2          0.707851   0.71139  "
      ]
     },
     "execution_count": 99,
     "metadata": {},
     "output_type": "execute_result"
    }
   ],
   "source": [
    "score=score.transpose()\n",
    "score1=score.drop(columns=['MSE', 'MAE'])\n",
    "score1.transpose()"
   ]
  },
  {
   "cell_type": "markdown",
   "id": "963ff1e2",
   "metadata": {},
   "source": [
    "## Temps de recherche des hyperparametres et score R2 par validation croisee sur train set"
   ]
  },
  {
   "cell_type": "code",
   "execution_count": 100,
   "id": "425f11ed",
   "metadata": {},
   "outputs": [
    {
     "data": {
      "text/html": [
       "<div>\n",
       "<style scoped>\n",
       "    .dataframe tbody tr th:only-of-type {\n",
       "        vertical-align: middle;\n",
       "    }\n",
       "\n",
       "    .dataframe tbody tr th {\n",
       "        vertical-align: top;\n",
       "    }\n",
       "\n",
       "    .dataframe thead th {\n",
       "        text-align: right;\n",
       "    }\n",
       "</style>\n",
       "<table border=\"1\" class=\"dataframe\">\n",
       "  <thead>\n",
       "    <tr style=\"text-align: right;\">\n",
       "      <th></th>\n",
       "      <th>2</th>\n",
       "      <th>3</th>\n",
       "      <th>4</th>\n",
       "      <th>5</th>\n",
       "      <th>6</th>\n",
       "    </tr>\n",
       "  </thead>\n",
       "  <tbody>\n",
       "    <tr>\n",
       "      <th>Model</th>\n",
       "      <td>Ridge</td>\n",
       "      <td>Lasso</td>\n",
       "      <td>Decision Tree</td>\n",
       "      <td>Random Forest</td>\n",
       "      <td>XgBoost</td>\n",
       "    </tr>\n",
       "    <tr>\n",
       "      <th>Search Time</th>\n",
       "      <td>41.837421</td>\n",
       "      <td>210.189438</td>\n",
       "      <td>1434.754854</td>\n",
       "      <td>1171.13446</td>\n",
       "      <td>832.490669</td>\n",
       "    </tr>\n",
       "    <tr>\n",
       "      <th>Best Score</th>\n",
       "      <td>0.71193</td>\n",
       "      <td>0.708474</td>\n",
       "      <td>0.54229</td>\n",
       "      <td>0.693262</td>\n",
       "      <td>0.704748</td>\n",
       "    </tr>\n",
       "  </tbody>\n",
       "</table>\n",
       "</div>"
      ],
      "text/plain": [
       "                     2           3              4              5           6\n",
       "Model            Ridge       Lasso  Decision Tree  Random Forest     XgBoost\n",
       "Search Time  41.837421  210.189438    1434.754854     1171.13446  832.490669\n",
       "Best Score     0.71193    0.708474        0.54229       0.693262    0.704748"
      ]
     },
     "execution_count": 100,
     "metadata": {},
     "output_type": "execute_result"
    }
   ],
   "source": [
    "searchTable"
   ]
  },
  {
   "cell_type": "code",
   "execution_count": 102,
   "id": "a18a938c",
   "metadata": {},
   "outputs": [
    {
     "data": {
      "image/png": "[encoded data removed]",
      "text/plain": [
       "<Figure size 720x360 with 1 Axes>"
      ]
     },
     "metadata": {
      "needs_background": "light"
     },
     "output_type": "display_data"
    }
   ],
   "source": [
    "searchTable=searchTable.transpose()\n",
    "ax=searchTable[[\"Model\",\"Search Time\"]].plot(kind=\"line\", x=\"Model\", figsize=(10,5), grid=True, title=\"Emission de CO2 search time (s)\")"
   ]
  },
  {
   "cell_type": "code",
   "execution_count": 104,
   "id": "6d793ec0",
   "metadata": {},
   "outputs": [
    {
     "data": {
      "image/png": "[encoded data removed]",
      "text/plain": [
       "<Figure size 720x360 with 1 Axes>"
      ]
     },
     "metadata": {
      "needs_background": "light"
     },
     "output_type": "display_data"
    }
   ],
   "source": [
    "comparaison=pd.DataFrame()\n",
    "comparaison['Model']=searchTable['Model']\n",
    "comparaison['Test']=score['R2']\n",
    "comparaison['Train']=searchTable['Best Score']\n",
    "ax=comparaison.plot(kind=\"line\", x=\"Model\", figsize=(10,5), grid=True, title=\"Emission CO2 sans EnergyStarScores (R2)\")"
   ]
  },
  {
   "cell_type": "code",
   "execution_count": 105,
   "id": "350c5a52",
   "metadata": {},
   "outputs": [],
   "source": [
    "score.to_csv('scoreEmission.csv')"
   ]
  },
  {
   "cell_type": "code",
   "execution_count": 106,
   "id": "eda2d088",
   "metadata": {},
   "outputs": [],
   "source": [
    "searchTable.to_csv(\"searchTableEmission.csv\")"
   ]
  },
  {
   "cell_type": "code",
   "execution_count": null,
   "id": "20b80887",
   "metadata": {},
   "outputs": [],
   "source": []
  }
 ],
 "metadata": {
  "kernelspec": {
   "display_name": "Python 3 (ipykernel)",
   "language": "python",
   "name": "python3"
  },
  "language_info": {
   "codemirror_mode": {
    "name": "ipython",
    "version": 3
   },
   "file_extension": ".py",
   "mimetype": "text/x-python",
   "name": "python",
   "nbconvert_exporter": "python",
   "pygments_lexer": "ipython3",
   "version": "3.9.13"
  }
 },
 "nbformat": 4,
 "nbformat_minor": 5
}
